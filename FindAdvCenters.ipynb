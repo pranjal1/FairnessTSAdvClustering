{
 "cells": [
  {
   "cell_type": "code",
   "execution_count": 39,
   "metadata": {},
   "outputs": [],
   "source": [
    "from sklearn import datasets\n",
    "import numpy as np\n",
    "import matplotlib.pyplot as plt\n",
    "from sklearn.cluster import KMeans\n",
    "from numpy import linalg\n",
    "#from scipy import optimize\n",
    "import matplotlib as mpl\n",
    "import copy\n",
    "from collections import defaultdict\n",
    "from sklearn_extra.cluster import KMedoids\n",
    "import math\n",
    "import csv\n",
    "# import matlab.engine\n",
    "from zoopt import Dimension, Objective, Parameter, ExpOpt\n",
    "from sklearn import metrics\n",
    "# import matlab.engine"
   ]
  },
  {
   "cell_type": "code",
   "execution_count": 40,
   "metadata": {},
   "outputs": [],
   "source": [
    "# cluster_size = 2"
   ]
  },
  {
   "cell_type": "code",
   "execution_count": 41,
   "metadata": {},
   "outputs": [],
   "source": [
    "def run_kmedoids(n_clusters, X):\n",
    "    #kmed = KMedoids(n_clusters = cluster_size, random_state=42).fit(X)\n",
    "    # eng = matlab.engine.start_matlab()\n",
    "    # matlab_X = matlab.double(X.tolist())\n",
    "    #matlab_labels, matlab_centers = eng.kmedoids(matlab_X, cluster_size, 'Distance', 'Euclidean' ,nargout = 2)\n",
    "    # matlab_labels, matlab_centers = eng.kmedoids(matlab_X, cluster_size, nargout = 2)\n",
    "    KM = KMedoids(n_clusters=2).fit(np.float64(X))\n",
    "    matlab_labels, matlab_centers = KM.labels_, KM.cluster_centers_\n",
    "    \n",
    "    centers = []\n",
    "    for cntr in matlab_centers:\n",
    "        centers.append(np.array(cntr))\n",
    "    centers = np.array(centers)\n",
    "    \n",
    "    \n",
    "    tmp_cntrs = []\n",
    "    for center in centers:\n",
    "        tmp_cntrs.append(np.sum(center))\n",
    "    tmp_cntrs = np.array(tmp_cntrs)\n",
    "    argsort_tmp_cntrs = np.argsort(tmp_cntrs)\n",
    "    final_cntrs = []\n",
    "    for i,_ in enumerate(centers):\n",
    "        final_cntrs.append(centers[argsort_tmp_cntrs[i]])\n",
    "    final_cntrs = np.array(final_cntrs)\n",
    "    centers = final_cntrs\n",
    "\n",
    "    labels = tmp_kmeans(X, centers)\n",
    "    \n",
    "    return (labels, centers)\n",
    "\n",
    "\n",
    "def tmp_kmeans(data, cntrs):\n",
    "    tmp_labels = []\n",
    "    for idx,x in enumerate(data):\n",
    "        if cluster_size == 1:\n",
    "            tmp_labels.append(0)\n",
    "        if cluster_size == 2:\n",
    "            tmp_labels.append(np.argmin([linalg.norm(cntrs[0] - x), linalg.norm(cntrs[1] - x)]))\n",
    "        if cluster_size == 3:\n",
    "            tmp_labels.append(np.argmin([linalg.norm(cntrs[0] - x), linalg.norm(cntrs[1] - x), linalg.norm(cntrs[2] - x)]))\n",
    "        if cluster_size == 4:\n",
    "            tmp_labels.append(np.argmin([linalg.norm(cntrs[0] - x), linalg.norm(cntrs[1] - x), linalg.norm(cntrs[2] - x), linalg.norm(cntrs[3] - x)]))\n",
    "        if cluster_size == 5:\n",
    "            tmp_labels.append(np.argmin([linalg.norm(cntrs[0] - x), linalg.norm(cntrs[1] - x), linalg.norm(cntrs[2] - x), linalg.norm(cntrs[3] - x), linalg.norm(cntrs[4] - x)]))\n",
    "            \n",
    "    \n",
    "    return tmp_labels\n",
    "\n",
    "\n",
    "def fairness_cost_balance(data, lbls, groups):\n",
    "    \n",
    "    npoints = data.shape[0]\n",
    "    num_groups = np.unique(groups).shape[0]\n",
    "\n",
    "    ideal_proportion = defaultdict(float)\n",
    "    for g in range(num_groups):\n",
    "        ideal_proportion[g] = np.count_nonzero(np.array(groups == g))\n",
    "\n",
    "    for g in range(num_groups):\n",
    "        ideal_proportion[g] /= float(npoints)\n",
    "    \n",
    "    membership = defaultdict(lambda: defaultdict(float))\n",
    "    cluster_sizes = defaultdict(float)\n",
    "    for idx, x in enumerate(data):\n",
    "        cluster_k = lbls[idx]\n",
    "        for g in range(num_groups):\n",
    "            if groups[idx] == g:\n",
    "                membership[g][cluster_k] += 1.0\n",
    "                 \n",
    "        cluster_sizes[cluster_k] += 1.0\n",
    "\n",
    "    val = float('inf')\n",
    "    \n",
    "    for cluster_k in np.unique(lbls):\n",
    "        for g in range(num_groups):\n",
    "            if(membership[g][cluster_k] == 0):\n",
    "                return 0\n",
    "            \n",
    "            a = (float(membership[g][cluster_k])/float(cluster_sizes[cluster_k]))/float(ideal_proportion[g])\n",
    "            b = float(ideal_proportion[g])/(float(membership[g][cluster_k])/float(cluster_sizes[cluster_k]))\n",
    "            val = min(min(a, b), val)\n",
    "    \n",
    "    return val"
   ]
  },
  {
   "cell_type": "code",
   "execution_count": 42,
   "metadata": {},
   "outputs": [],
   "source": [
    "def obj_func(solution):\n",
    "    V = np.array(solution.get_x()).reshape((V_size, sample_features))\n",
    "    X_copy = copy.deepcopy(X)\n",
    "    X_copy = np.vstack((X_copy,V))\n",
    "    labels, centers = run_kmedoids(k, X_copy)\n",
    "    cost = fairness_cost_balance(X, labels, groups)\n",
    "    return cost"
   ]
  },
  {
   "cell_type": "code",
   "execution_count": 43,
   "metadata": {},
   "outputs": [],
   "source": [
    "import random"
   ]
  },
  {
   "cell_type": "code",
   "execution_count": 51,
   "metadata": {},
   "outputs": [
    {
     "name": "stdout",
     "output_type": "stream",
     "text": [
      "(10000, 5)\n",
      "(10000, 1)\n"
     ]
    }
   ],
   "source": [
    "V_size = 600 #50, 200, 100 \n",
    "k = 2\n",
    "cluster_size = k\n",
    "dataset_name = 'adultm'\n",
    "\n",
    "X = []\n",
    "with open('./datafiles/data_' + dataset_name + '.csv', newline='') as csvfile:\n",
    "    spamreader = csv.reader(csvfile, delimiter=',')\n",
    "    for row in spamreader:\n",
    "        X.append(row)\n",
    "X = np.array(X).astype(np.float)\n",
    "print(X.shape)\n",
    "\n",
    "sample_size, sample_features = X.shape[0], X.shape[1]\n",
    "\n",
    "groups = []\n",
    "with open('./datafiles/groups_'+ dataset_name + '.csv', newline='') as csvfile:\n",
    "    spamreader = csv.reader(csvfile, delimiter=',')\n",
    "    for row in spamreader:\n",
    "        groups.append(row)\n",
    "groups = np.array(groups).astype(np.float)\n",
    "groups = groups - 1\n",
    "\n",
    "if dataset_name == 'adultm' or dataset_name == 'seeds' or dataset_name == 'bank' or dataset_name == 'bankm':\n",
    "    groups = groups.reshape((groups.shape[-1], 1))\n",
    "print(groups.shape)"
   ]
  },
  {
   "cell_type": "code",
   "execution_count": 55,
   "metadata": {},
   "outputs": [
    {
     "data": {
      "text/plain": [
       "(14.125, -3.4905)"
      ]
     },
     "execution_count": 55,
     "metadata": {},
     "output_type": "execute_result"
    }
   ],
   "source": [
    "np.max(X), np.min(X)"
   ]
  },
  {
   "cell_type": "code",
   "execution_count": 56,
   "metadata": {},
   "outputs": [
    {
     "data": {
      "text/plain": [
       "(array([0., 1., 2., 3., 4.]), array([5255, 1039, 3124,  311,  271]))"
      ]
     },
     "execution_count": 56,
     "metadata": {},
     "output_type": "execute_result"
    }
   ],
   "source": [
    "np.unique(groups, return_counts=True)"
   ]
  },
  {
   "cell_type": "code",
   "execution_count": 57,
   "metadata": {},
   "outputs": [
    {
     "data": {
      "text/plain": [
       "array([[ 0.89309  , -1.0195   ,  1.1894   , -0.13846  , -2.2854   ],\n",
       "       [-0.010817 ,  0.17931  , -0.37057  , -0.13846  ,  0.0081889],\n",
       "       [ 1.1191   ,  0.35211  , -1.1506   , -0.13846  ,  0.0081889],\n",
       "       ...,\n",
       "       [-0.5381   ,  0.034443 ,  1.5794   , -0.13846  , -0.84128  ],\n",
       "       [-0.46277  , -1.4656   , -1.5406   , -0.13846  ,  0.0081889],\n",
       "       [-0.46277  , -0.72214  ,  1.5794   , -0.13846  , -2.4553   ]])"
      ]
     },
     "execution_count": 57,
     "metadata": {},
     "output_type": "execute_result"
    }
   ],
   "source": [
    "X"
   ]
  },
  {
   "cell_type": "code",
   "execution_count": 58,
   "metadata": {},
   "outputs": [],
   "source": [
    "# all_idx = list(range(sample_size))\n",
    "\n",
    "# selected_data = 2000\n",
    "# random.shuffle(all_idx)\n",
    "# selected_idx = all_idx[:selected_data]\n",
    "\n",
    "# X = X[selected_idx]\n",
    "# groups = groups[selected_idx]\n",
    "\n",
    "# sample_size, sample_features = X.shape[0], X.shape[1]\n",
    "\n",
    "# print(sample_size)"
   ]
  },
  {
   "cell_type": "code",
   "execution_count": 59,
   "metadata": {},
   "outputs": [
    {
     "data": {
      "text/plain": [
       "(array([0., 1., 2., 3., 4.]), array([5255, 1039, 3124,  311,  271]))"
      ]
     },
     "execution_count": 59,
     "metadata": {},
     "output_type": "execute_result"
    }
   ],
   "source": [
    "np.unique(groups, return_counts=True)"
   ]
  },
  {
   "cell_type": "code",
   "execution_count": 60,
   "metadata": {},
   "outputs": [],
   "source": [
    "lbls, cntrs = run_kmedoids(k, X)"
   ]
  },
  {
   "cell_type": "code",
   "execution_count": 61,
   "metadata": {},
   "outputs": [
    {
     "data": {
      "text/plain": [
       "array([[-0.68875  ,  0.071965 ,  0.019422 , -0.13846  ,  0.0081889],\n",
       "       [ 0.81776  , -0.29892  ,  0.019422 , -0.13846  ,  0.0081889]])"
      ]
     },
     "execution_count": 61,
     "metadata": {},
     "output_type": "execute_result"
    }
   ],
   "source": [
    "cntrs"
   ]
  },
  {
   "cell_type": "code",
   "execution_count": 62,
   "metadata": {},
   "outputs": [
    {
     "name": "stdout",
     "output_type": "stream",
     "text": [
      "0.6590880105043222\n"
     ]
    }
   ],
   "source": [
    "print(fairness_cost_balance(X, lbls, groups))"
   ]
  },
  {
   "cell_type": "code",
   "execution_count": 63,
   "metadata": {},
   "outputs": [
    {
     "name": "stdout",
     "output_type": "stream",
     "text": [
      "[zoopt] sequential random embedding 0\n",
      "[zoopt] expected remaining running time: 00:18:22\n",
      "[zoopt] budget 100, fx result: 0.6559696560061911\n",
      "[zoopt] x: [-0.10533514666762445, 11.59458484142155, 4.733852281818297]\n",
      "[zoopt] budget 200, fx result: 0.6559696560061911\n",
      "[zoopt] x: [-0.8886543700920488, 5.255097455817168, -0.1589953402691231]\n",
      "[zoopt] x: array([ 2.38922077, -4.6582901 ,  0.23974296, ...,  2.27404004,\n",
      "        9.63604671,  6.99738255])\n",
      "[zoopt] value: 0.6559696560061911\n",
      "[zoopt] The best solution is:\n",
      "[zoopt] x: array([ 2.38922077, -4.6582901 ,  0.23974296, ...,  2.27404004,\n",
      "        9.63604671,  6.99738255])\n",
      "[zoopt] value: 0.6559696560061911\n"
     ]
    },
    {
     "data": {
      "image/png": "[encoded data removed]",
      "text/plain": [
       "<Figure size 432x288 with 1 Axes>"
      ]
     },
     "metadata": {
      "needs_background": "light"
     },
     "output_type": "display_data"
    },
    {
     "name": "stdout",
     "output_type": "stream",
     "text": [
      "[zoopt] Best 1 result: 0.6559696560061911 +- 0.0\n"
     ]
    }
   ],
   "source": [
    "dim_size = V_size*sample_features  # dimensions\n",
    "dim_regs = [[-20,20]] * dim_size  # dimension range #-5,10\n",
    "dim_tys = [True] * dim_size  # dimension type : real\n",
    "dim = Dimension(dim_size, dim_regs, dim_tys)  # form up the dimension object\n",
    "objective = Objective(obj_func, dim)  # form up the objective function\n",
    "\n",
    "low_dims_size = 10 #100\n",
    "\n",
    "# setup algorithm parameters\n",
    "budget = 200 #4200,  2000  # number of calls to the objective function\n",
    "parameter = Parameter(budget=budget, seed=42, exploration_rate=0.3, intermediate_result = True, high_dim_handling=True, reducedim=True, num_sre=1,\n",
    "                      low_dimension=Dimension(low_dims_size, [[-20,20]] * low_dims_size, [True] * low_dims_size)) #3,  2\n",
    "solution_list = ExpOpt.min(objective, parameter, repeat=1, plot=True) #2"
   ]
  },
  {
   "cell_type": "code",
   "execution_count": 15,
   "metadata": {},
   "outputs": [
    {
     "name": "stdout",
     "output_type": "stream",
     "text": [
      "0.6559696560061911\n"
     ]
    }
   ],
   "source": [
    "V = np.array(solution_list[0].get_x()).reshape((V_size, sample_features))\n",
    "X_copy = copy.deepcopy(X)\n",
    "X_copy = np.vstack((X_copy,V))\n",
    "labels, centers = run_kmedoids(k, X_copy)\n",
    "cost = fairness_cost_balance(X, labels, groups)\n",
    "print(cost)\n",
    "# np.save('datafiles/adversarial_centers/' + dataset_name + '_centers_' + str(k), centers)"
   ]
  },
  {
   "cell_type": "code",
   "execution_count": 14,
   "metadata": {},
   "outputs": [],
   "source": [
    "oracle = np.load(\"datafiles/adversarial_centers/adultm_centers_2.npy\")"
   ]
  },
  {
   "cell_type": "code",
   "execution_count": 15,
   "metadata": {},
   "outputs": [
    {
     "data": {
      "text/plain": [
       "(2, 5)"
      ]
     },
     "execution_count": 15,
     "metadata": {},
     "output_type": "execute_result"
    }
   ],
   "source": [
    "oracle.shape"
   ]
  },
  {
   "cell_type": "code",
   "execution_count": 16,
   "metadata": {},
   "outputs": [
    {
     "data": {
      "text/plain": [
       "(10000, 5)"
      ]
     },
     "execution_count": 16,
     "metadata": {},
     "output_type": "execute_result"
    }
   ],
   "source": [
    "X.shape"
   ]
  },
  {
   "cell_type": "code",
   "execution_count": 17,
   "metadata": {
    "tags": []
   },
   "outputs": [
    {
     "name": "stdout",
     "output_type": "stream",
     "text": [
      "0.6590880105043222\n"
     ]
    }
   ],
   "source": [
    "V = oracle\n",
    "X_copy = copy.deepcopy(X)\n",
    "X_copy = np.vstack((X_copy,V))\n",
    "labels, centers = run_kmedoids(k, X_copy)\n",
    "cost = fairness_cost_balance(X, labels, groups)\n",
    "print(cost)"
   ]
  },
  {
   "cell_type": "code",
   "execution_count": null,
   "metadata": {},
   "outputs": [],
   "source": []
  }
 ],
 "metadata": {
  "kernelspec": {
   "display_name": "venv",
   "language": "python",
   "name": "venv"
  },
  "language_info": {
   "codemirror_mode": {
    "name": "ipython",
    "version": 3
   },
   "file_extension": ".py",
   "mimetype": "text/x-python",
   "name": "python",
   "nbconvert_exporter": "python",
   "pygments_lexer": "ipython3",
   "version": "3.6.9"
  }
 },
 "nbformat": 4,
 "nbformat_minor": 4
}
