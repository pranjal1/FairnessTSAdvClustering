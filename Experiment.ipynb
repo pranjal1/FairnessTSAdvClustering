{
 "cells": [
  {
   "cell_type": "code",
   "execution_count": 34,
   "id": "5074a82f-19fc-4ad8-a7da-dc401b06ea26",
   "metadata": {},
   "outputs": [],
   "source": [
    "%reload_ext autoreload\n",
    "%autoreload 2"
   ]
  },
  {
   "cell_type": "code",
   "execution_count": 35,
   "id": "5d0cc89b-5c46-4cbc-b49b-5dff006fc83a",
   "metadata": {},
   "outputs": [],
   "source": [
    "import random\n",
    "\n",
    "import numpy as np\n",
    "import pandas as pd\n",
    "import plotly.express as px"
   ]
  },
  {
   "cell_type": "code",
   "execution_count": 36,
   "id": "35d1ce62-fade-4a94-8f75-cb7e3b1fbfd0",
   "metadata": {},
   "outputs": [],
   "source": [
    "from src.dataloader import ADLDataLoader\n",
    "from src.attack import FairnessAttack\n",
    "from sklearn_extra.cluster import KMedoids"
   ]
  },
  {
   "cell_type": "markdown",
   "id": "69c34d0d-3175-4399-ad52-06c07201c94c",
   "metadata": {},
   "source": [
    "# Bank Dataset"
   ]
  },
  {
   "cell_type": "code",
   "execution_count": 37,
   "id": "47fe2abf-e907-493d-b279-fed9bbfd7152",
   "metadata": {},
   "outputs": [],
   "source": [
    "bank_X = pd.read_csv(\"datafiles/data_bankm.csv\", header=None)"
   ]
  },
  {
   "cell_type": "code",
   "execution_count": 38,
   "id": "c68e0a9b-ff4d-49d2-a3a0-5fb7eece0d25",
   "metadata": {},
   "outputs": [
    {
     "data": {
      "text/plain": [
       "(45211, 3)"
      ]
     },
     "execution_count": 38,
     "metadata": {},
     "output_type": "execute_result"
    }
   ],
   "source": [
    "bank_X = np.array(bank_X)\n",
    "bank_X.shape"
   ]
  },
  {
   "cell_type": "code",
   "execution_count": 39,
   "id": "81abef95-31e1-4ef5-9647-34cc36d198d3",
   "metadata": {},
   "outputs": [],
   "source": [
    "bank_S = np.array(pd.read_csv(\"datafiles/groups_bankm.csv\", header=None))[0]"
   ]
  },
  {
   "cell_type": "code",
   "execution_count": 40,
   "id": "11f7ce6d-9eb6-4522-adb4-4acce8db3f3a",
   "metadata": {},
   "outputs": [
    {
     "data": {
      "text/plain": [
       "(45211,)"
      ]
     },
     "execution_count": 40,
     "metadata": {},
     "output_type": "execute_result"
    }
   ],
   "source": [
    "bank_S.shape"
   ]
  },
  {
   "cell_type": "code",
   "execution_count": 41,
   "id": "00f19332-d690-49e6-814d-6d269c2bb01d",
   "metadata": {},
   "outputs": [],
   "source": [
    "num_samples = 1500\n",
    "idx = [x for x in range(len(bank_S))]\n",
    "random.shuffle(idx)\n",
    "select_idx = idx[:num_samples]\n",
    "\n",
    "X = bank_X[select_idx]\n",
    "S = bank_S[select_idx]"
   ]
  },
  {
   "cell_type": "code",
   "execution_count": 42,
   "id": "5fd50645-e7f5-42ac-88fd-df1ecf24d956",
   "metadata": {},
   "outputs": [
    {
     "data": {
      "text/plain": [
       "(1500, 3)"
      ]
     },
     "execution_count": 42,
     "metadata": {},
     "output_type": "execute_result"
    }
   ],
   "source": [
    "X.shape"
   ]
  },
  {
   "cell_type": "code",
   "execution_count": 32,
   "id": "68ede200-9940-4979-ab97-68eab0b7b320",
   "metadata": {},
   "outputs": [],
   "source": [
    "FA = FairnessAttack(4, X, S, 50, 10)"
   ]
  },
  {
   "cell_type": "code",
   "execution_count": 33,
   "id": "9be3c415-d3a1-4e11-863d-23219e850f77",
   "metadata": {},
   "outputs": [
    {
     "name": "stdout",
     "output_type": "stream",
     "text": [
      "Performing clustering pre-attack...\n",
      "Obtaining adversarial cluster centers...\n",
      "{1: 0.5986666666666667, 3: 0.09866666666666667, 2: 0.30266666666666664}\n",
      "new centers [[-0.6532   -0.24346  -0.62581 ]\n",
      " [-0.6532   -0.18467   0.1974  ]\n",
      " [ 1.0419   -0.23229  -0.40059 ]\n",
      " [-0.27651  -0.064791  2.0419  ]]\n",
      "adv centers [[-0.46486  -0.45234   0.32166 ]\n",
      " [ 1.3244   -0.027349  0.72938 ]\n",
      " [ 1.1361    0.14245   0.84588 ]\n",
      " [ 1.7011    0.18646   0.75657 ]]\n",
      "1500\n"
     ]
    },
    {
     "name": "stderr",
     "output_type": "stream",
     "text": [
      "/mnt/c/Users/dhaka/Documents/semester3/849/FairnessTSAdvClustering/src/attack.py:144: FutureWarning:\n",
      "\n",
      "Using a non-tuple sequence for multidimensional indexing is deprecated; use `arr[tuple(seq)]` instead of `arr[seq]`. In the future this will be interpreted as an array index, `arr[np.array(seq)]`, which will result either in an error or a different result.\n",
      "\n"
     ]
    },
    {
     "name": "stdout",
     "output_type": "stream",
     "text": [
      "1700\n",
      "1900\n",
      "2100\n",
      "2300\n",
      "2500\n",
      "2700\n",
      "2900\n",
      "3050\n",
      "3250\n",
      "3450\n"
     ]
    },
    {
     "name": "stderr",
     "output_type": "stream",
     "text": [
      "/home/pranjal/venv/lib/python3.6/site-packages/sklearn_extra/cluster/_k_medoids.py:279: UserWarning:\n",
      "\n",
      "Cluster 3 is empty! self.labels_[self.medoid_indices_[3]] may not be labeled with its corresponding cluster (3).\n",
      "\n"
     ]
    },
    {
     "name": "stdout",
     "output_type": "stream",
     "text": [
      "3650\n"
     ]
    },
    {
     "name": "stderr",
     "output_type": "stream",
     "text": [
      "/home/pranjal/venv/lib/python3.6/site-packages/sklearn_extra/cluster/_k_medoids.py:279: UserWarning:\n",
      "\n",
      "Cluster 3 is empty! self.labels_[self.medoid_indices_[3]] may not be labeled with its corresponding cluster (3).\n",
      "\n",
      "/home/pranjal/venv/lib/python3.6/site-packages/sklearn_extra/cluster/_k_medoids.py:279: UserWarning:\n",
      "\n",
      "Cluster 2 is empty! self.labels_[self.medoid_indices_[2]] may not be labeled with its corresponding cluster (2).\n",
      "\n",
      "/home/pranjal/venv/lib/python3.6/site-packages/sklearn_extra/cluster/_k_medoids.py:279: UserWarning:\n",
      "\n",
      "Cluster 3 is empty! self.labels_[self.medoid_indices_[3]] may not be labeled with its corresponding cluster (3).\n",
      "\n",
      "/home/pranjal/venv/lib/python3.6/site-packages/sklearn_extra/cluster/_k_medoids.py:279: UserWarning:\n",
      "\n",
      "Cluster 2 is empty! self.labels_[self.medoid_indices_[2]] may not be labeled with its corresponding cluster (2).\n",
      "\n",
      "/home/pranjal/venv/lib/python3.6/site-packages/sklearn_extra/cluster/_k_medoids.py:279: UserWarning:\n",
      "\n",
      "Cluster 3 is empty! self.labels_[self.medoid_indices_[3]] may not be labeled with its corresponding cluster (3).\n",
      "\n",
      "/home/pranjal/venv/lib/python3.6/site-packages/sklearn_extra/cluster/_k_medoids.py:279: UserWarning:\n",
      "\n",
      "Cluster 1 is empty! self.labels_[self.medoid_indices_[1]] may not be labeled with its corresponding cluster (1).\n",
      "\n",
      "/home/pranjal/venv/lib/python3.6/site-packages/sklearn_extra/cluster/_k_medoids.py:279: UserWarning:\n",
      "\n",
      "Cluster 2 is empty! self.labels_[self.medoid_indices_[2]] may not be labeled with its corresponding cluster (2).\n",
      "\n",
      "/home/pranjal/venv/lib/python3.6/site-packages/sklearn_extra/cluster/_k_medoids.py:279: UserWarning:\n",
      "\n",
      "Cluster 3 is empty! self.labels_[self.medoid_indices_[3]] may not be labeled with its corresponding cluster (3).\n",
      "\n"
     ]
    },
    {
     "name": "stdout",
     "output_type": "stream",
     "text": [
      "3750\n"
     ]
    },
    {
     "name": "stderr",
     "output_type": "stream",
     "text": [
      "/home/pranjal/venv/lib/python3.6/site-packages/sklearn_extra/cluster/_k_medoids.py:279: UserWarning:\n",
      "\n",
      "Cluster 1 is empty! self.labels_[self.medoid_indices_[1]] may not be labeled with its corresponding cluster (1).\n",
      "\n",
      "/home/pranjal/venv/lib/python3.6/site-packages/sklearn_extra/cluster/_k_medoids.py:279: UserWarning:\n",
      "\n",
      "Cluster 3 is empty! self.labels_[self.medoid_indices_[3]] may not be labeled with its corresponding cluster (3).\n",
      "\n",
      "/home/pranjal/venv/lib/python3.6/site-packages/sklearn_extra/cluster/_k_medoids.py:279: UserWarning:\n",
      "\n",
      "Cluster 1 is empty! self.labels_[self.medoid_indices_[1]] may not be labeled with its corresponding cluster (1).\n",
      "\n",
      "/home/pranjal/venv/lib/python3.6/site-packages/sklearn_extra/cluster/_k_medoids.py:279: UserWarning:\n",
      "\n",
      "Cluster 3 is empty! self.labels_[self.medoid_indices_[3]] may not be labeled with its corresponding cluster (3).\n",
      "\n",
      "/home/pranjal/venv/lib/python3.6/site-packages/sklearn_extra/cluster/_k_medoids.py:279: UserWarning:\n",
      "\n",
      "Cluster 1 is empty! self.labels_[self.medoid_indices_[1]] may not be labeled with its corresponding cluster (1).\n",
      "\n",
      "/home/pranjal/venv/lib/python3.6/site-packages/sklearn_extra/cluster/_k_medoids.py:279: UserWarning:\n",
      "\n",
      "Cluster 3 is empty! self.labels_[self.medoid_indices_[3]] may not be labeled with its corresponding cluster (3).\n",
      "\n",
      "/home/pranjal/venv/lib/python3.6/site-packages/sklearn_extra/cluster/_k_medoids.py:279: UserWarning:\n",
      "\n",
      "Cluster 1 is empty! self.labels_[self.medoid_indices_[1]] may not be labeled with its corresponding cluster (1).\n",
      "\n",
      "/home/pranjal/venv/lib/python3.6/site-packages/sklearn_extra/cluster/_k_medoids.py:279: UserWarning:\n",
      "\n",
      "Cluster 2 is empty! self.labels_[self.medoid_indices_[2]] may not be labeled with its corresponding cluster (2).\n",
      "\n",
      "/home/pranjal/venv/lib/python3.6/site-packages/sklearn_extra/cluster/_k_medoids.py:279: UserWarning:\n",
      "\n",
      "Cluster 3 is empty! self.labels_[self.medoid_indices_[3]] may not be labeled with its corresponding cluster (3).\n",
      "\n"
     ]
    },
    {
     "name": "stdout",
     "output_type": "stream",
     "text": [
      "3850\n"
     ]
    },
    {
     "name": "stderr",
     "output_type": "stream",
     "text": [
      "/home/pranjal/venv/lib/python3.6/site-packages/sklearn_extra/cluster/_k_medoids.py:279: UserWarning:\n",
      "\n",
      "Cluster 2 is empty! self.labels_[self.medoid_indices_[2]] may not be labeled with its corresponding cluster (2).\n",
      "\n",
      "/home/pranjal/venv/lib/python3.6/site-packages/sklearn_extra/cluster/_k_medoids.py:279: UserWarning:\n",
      "\n",
      "Cluster 3 is empty! self.labels_[self.medoid_indices_[3]] may not be labeled with its corresponding cluster (3).\n",
      "\n",
      "/home/pranjal/venv/lib/python3.6/site-packages/sklearn_extra/cluster/_k_medoids.py:279: UserWarning:\n",
      "\n",
      "Cluster 2 is empty! self.labels_[self.medoid_indices_[2]] may not be labeled with its corresponding cluster (2).\n",
      "\n",
      "/home/pranjal/venv/lib/python3.6/site-packages/sklearn_extra/cluster/_k_medoids.py:279: UserWarning:\n",
      "\n",
      "Cluster 3 is empty! self.labels_[self.medoid_indices_[3]] may not be labeled with its corresponding cluster (3).\n",
      "\n",
      "/home/pranjal/venv/lib/python3.6/site-packages/sklearn_extra/cluster/_k_medoids.py:279: UserWarning:\n",
      "\n",
      "Cluster 2 is empty! self.labels_[self.medoid_indices_[2]] may not be labeled with its corresponding cluster (2).\n",
      "\n",
      "/home/pranjal/venv/lib/python3.6/site-packages/sklearn_extra/cluster/_k_medoids.py:279: UserWarning:\n",
      "\n",
      "Cluster 3 is empty! self.labels_[self.medoid_indices_[3]] may not be labeled with its corresponding cluster (3).\n",
      "\n",
      "/home/pranjal/venv/lib/python3.6/site-packages/sklearn_extra/cluster/_k_medoids.py:279: UserWarning:\n",
      "\n",
      "Cluster 1 is empty! self.labels_[self.medoid_indices_[1]] may not be labeled with its corresponding cluster (1).\n",
      "\n",
      "/home/pranjal/venv/lib/python3.6/site-packages/sklearn_extra/cluster/_k_medoids.py:279: UserWarning:\n",
      "\n",
      "Cluster 2 is empty! self.labels_[self.medoid_indices_[2]] may not be labeled with its corresponding cluster (2).\n",
      "\n",
      "/home/pranjal/venv/lib/python3.6/site-packages/sklearn_extra/cluster/_k_medoids.py:279: UserWarning:\n",
      "\n",
      "Cluster 3 is empty! self.labels_[self.medoid_indices_[3]] may not be labeled with its corresponding cluster (3).\n",
      "\n"
     ]
    },
    {
     "name": "stdout",
     "output_type": "stream",
     "text": [
      "3950\n"
     ]
    },
    {
     "name": "stderr",
     "output_type": "stream",
     "text": [
      "/home/pranjal/venv/lib/python3.6/site-packages/sklearn_extra/cluster/_k_medoids.py:279: UserWarning:\n",
      "\n",
      "Cluster 2 is empty! self.labels_[self.medoid_indices_[2]] may not be labeled with its corresponding cluster (2).\n",
      "\n",
      "/home/pranjal/venv/lib/python3.6/site-packages/sklearn_extra/cluster/_k_medoids.py:279: UserWarning:\n",
      "\n",
      "Cluster 3 is empty! self.labels_[self.medoid_indices_[3]] may not be labeled with its corresponding cluster (3).\n",
      "\n"
     ]
    },
    {
     "name": "stdout",
     "output_type": "stream",
     "text": [
      "Performing clustering post-attack...\n",
      "Pre-attack cluster centers: \n",
      "[[-0.6532   -0.18467   0.1974  ]\n",
      " [-0.27651  -0.064791  2.0419  ]\n",
      " [-0.6532   -0.24346  -0.62581 ]\n",
      " [ 1.0419   -0.23229  -0.40059 ]]\n",
      "Pre-attack utility: \n",
      "0.34131867331707144\n",
      "Adversarial centers utility: \n",
      "0.04129955947136565\n",
      "Post attack utility\n",
      "0.04129955947136565\n",
      "Added samples: \n",
      "2500\n",
      "Ratio: (|X_aug| - |X|)/|X|\n",
      "1.6666666666666667\n"
     ]
    },
    {
     "name": "stderr",
     "output_type": "stream",
     "text": [
      "/home/pranjal/venv/lib/python3.6/site-packages/sklearn_extra/cluster/_k_medoids.py:279: UserWarning:\n",
      "\n",
      "Cluster 2 is empty! self.labels_[self.medoid_indices_[2]] may not be labeled with its corresponding cluster (2).\n",
      "\n",
      "/home/pranjal/venv/lib/python3.6/site-packages/sklearn_extra/cluster/_k_medoids.py:279: UserWarning:\n",
      "\n",
      "Cluster 3 is empty! self.labels_[self.medoid_indices_[3]] may not be labeled with its corresponding cluster (3).\n",
      "\n"
     ]
    }
   ],
   "source": [
    "FA.main()"
   ]
  },
  {
   "cell_type": "code",
   "execution_count": 43,
   "id": "160685cd-389b-4ea2-83b1-f4c6dca3a8c5",
   "metadata": {},
   "outputs": [],
   "source": [
    "FA = FairnessAttack(3, X, S, 50, 10)"
   ]
  },
  {
   "cell_type": "code",
   "execution_count": 44,
   "id": "f95985d8-4fcc-4921-b02b-80fc508a9b99",
   "metadata": {},
   "outputs": [
    {
     "name": "stdout",
     "output_type": "stream",
     "text": [
      "Performing clustering pre-attack...\n",
      "Obtaining adversarial cluster centers...\n",
      "{3: 0.11466666666666667, 1: 0.6113333333333333, 2: 0.274}\n",
      "new centers [[-0.6532  -0.23393 -0.28798]\n",
      " [ 1.1361  -0.33181 -0.22973]\n",
      " [ 0.19435  1.4263  -0.33069]]\n",
      "adv centers [[ 1.3244  -0.24937 -0.64911]\n",
      " [ 1.3244  -0.24937 -0.64911]\n",
      " [ 1.7011  -0.44741 -0.63746]]\n",
      "1500\n"
     ]
    },
    {
     "name": "stderr",
     "output_type": "stream",
     "text": [
      "/mnt/c/Users/dhaka/Documents/semester3/849/FairnessTSAdvClustering/src/attack.py:144: FutureWarning:\n",
      "\n",
      "Using a non-tuple sequence for multidimensional indexing is deprecated; use `arr[tuple(seq)]` instead of `arr[seq]`. In the future this will be interpreted as an array index, `arr[np.array(seq)]`, which will result either in an error or a different result.\n",
      "\n"
     ]
    },
    {
     "name": "stdout",
     "output_type": "stream",
     "text": [
      "1650\n",
      "1750\n",
      "1850\n",
      "2000\n",
      "2100\n",
      "2250\n",
      "2400\n"
     ]
    },
    {
     "name": "stderr",
     "output_type": "stream",
     "text": [
      "/home/pranjal/venv/lib/python3.6/site-packages/sklearn_extra/cluster/_k_medoids.py:279: UserWarning:\n",
      "\n",
      "Cluster 2 is empty! self.labels_[self.medoid_indices_[2]] may not be labeled with its corresponding cluster (2).\n",
      "\n"
     ]
    },
    {
     "name": "stdout",
     "output_type": "stream",
     "text": [
      "2500\n"
     ]
    },
    {
     "name": "stderr",
     "output_type": "stream",
     "text": [
      "/home/pranjal/venv/lib/python3.6/site-packages/sklearn_extra/cluster/_k_medoids.py:279: UserWarning:\n",
      "\n",
      "Cluster 1 is empty! self.labels_[self.medoid_indices_[1]] may not be labeled with its corresponding cluster (1).\n",
      "\n",
      "/home/pranjal/venv/lib/python3.6/site-packages/sklearn_extra/cluster/_k_medoids.py:279: UserWarning:\n",
      "\n",
      "Cluster 2 is empty! self.labels_[self.medoid_indices_[2]] may not be labeled with its corresponding cluster (2).\n",
      "\n",
      "/home/pranjal/venv/lib/python3.6/site-packages/sklearn_extra/cluster/_k_medoids.py:279: UserWarning:\n",
      "\n",
      "Cluster 1 is empty! self.labels_[self.medoid_indices_[1]] may not be labeled with its corresponding cluster (1).\n",
      "\n",
      "/home/pranjal/venv/lib/python3.6/site-packages/sklearn_extra/cluster/_k_medoids.py:279: UserWarning:\n",
      "\n",
      "Cluster 2 is empty! self.labels_[self.medoid_indices_[2]] may not be labeled with its corresponding cluster (2).\n",
      "\n",
      "/home/pranjal/venv/lib/python3.6/site-packages/sklearn_extra/cluster/_k_medoids.py:279: UserWarning:\n",
      "\n",
      "Cluster 1 is empty! self.labels_[self.medoid_indices_[1]] may not be labeled with its corresponding cluster (1).\n",
      "\n",
      "/home/pranjal/venv/lib/python3.6/site-packages/sklearn_extra/cluster/_k_medoids.py:279: UserWarning:\n",
      "\n",
      "Cluster 2 is empty! self.labels_[self.medoid_indices_[2]] may not be labeled with its corresponding cluster (2).\n",
      "\n",
      "/home/pranjal/venv/lib/python3.6/site-packages/sklearn_extra/cluster/_k_medoids.py:279: UserWarning:\n",
      "\n",
      "Cluster 1 is empty! self.labels_[self.medoid_indices_[1]] may not be labeled with its corresponding cluster (1).\n",
      "\n",
      "/home/pranjal/venv/lib/python3.6/site-packages/sklearn_extra/cluster/_k_medoids.py:279: UserWarning:\n",
      "\n",
      "Cluster 2 is empty! self.labels_[self.medoid_indices_[2]] may not be labeled with its corresponding cluster (2).\n",
      "\n"
     ]
    },
    {
     "name": "stdout",
     "output_type": "stream",
     "text": [
      "2600\n"
     ]
    },
    {
     "name": "stderr",
     "output_type": "stream",
     "text": [
      "/home/pranjal/venv/lib/python3.6/site-packages/sklearn_extra/cluster/_k_medoids.py:279: UserWarning:\n",
      "\n",
      "Cluster 1 is empty! self.labels_[self.medoid_indices_[1]] may not be labeled with its corresponding cluster (1).\n",
      "\n",
      "/home/pranjal/venv/lib/python3.6/site-packages/sklearn_extra/cluster/_k_medoids.py:279: UserWarning:\n",
      "\n",
      "Cluster 2 is empty! self.labels_[self.medoid_indices_[2]] may not be labeled with its corresponding cluster (2).\n",
      "\n",
      "/home/pranjal/venv/lib/python3.6/site-packages/sklearn_extra/cluster/_k_medoids.py:279: UserWarning:\n",
      "\n",
      "Cluster 1 is empty! self.labels_[self.medoid_indices_[1]] may not be labeled with its corresponding cluster (1).\n",
      "\n",
      "/home/pranjal/venv/lib/python3.6/site-packages/sklearn_extra/cluster/_k_medoids.py:279: UserWarning:\n",
      "\n",
      "Cluster 2 is empty! self.labels_[self.medoid_indices_[2]] may not be labeled with its corresponding cluster (2).\n",
      "\n"
     ]
    },
    {
     "name": "stdout",
     "output_type": "stream",
     "text": [
      "2650\n"
     ]
    },
    {
     "name": "stderr",
     "output_type": "stream",
     "text": [
      "/home/pranjal/venv/lib/python3.6/site-packages/sklearn_extra/cluster/_k_medoids.py:279: UserWarning:\n",
      "\n",
      "Cluster 1 is empty! self.labels_[self.medoid_indices_[1]] may not be labeled with its corresponding cluster (1).\n",
      "\n",
      "/home/pranjal/venv/lib/python3.6/site-packages/sklearn_extra/cluster/_k_medoids.py:279: UserWarning:\n",
      "\n",
      "Cluster 2 is empty! self.labels_[self.medoid_indices_[2]] may not be labeled with its corresponding cluster (2).\n",
      "\n",
      "/home/pranjal/venv/lib/python3.6/site-packages/sklearn_extra/cluster/_k_medoids.py:279: UserWarning:\n",
      "\n",
      "Cluster 1 is empty! self.labels_[self.medoid_indices_[1]] may not be labeled with its corresponding cluster (1).\n",
      "\n",
      "/home/pranjal/venv/lib/python3.6/site-packages/sklearn_extra/cluster/_k_medoids.py:279: UserWarning:\n",
      "\n",
      "Cluster 2 is empty! self.labels_[self.medoid_indices_[2]] may not be labeled with its corresponding cluster (2).\n",
      "\n",
      "/home/pranjal/venv/lib/python3.6/site-packages/sklearn_extra/cluster/_k_medoids.py:279: UserWarning:\n",
      "\n",
      "Cluster 1 is empty! self.labels_[self.medoid_indices_[1]] may not be labeled with its corresponding cluster (1).\n",
      "\n",
      "/home/pranjal/venv/lib/python3.6/site-packages/sklearn_extra/cluster/_k_medoids.py:279: UserWarning:\n",
      "\n",
      "Cluster 2 is empty! self.labels_[self.medoid_indices_[2]] may not be labeled with its corresponding cluster (2).\n",
      "\n"
     ]
    },
    {
     "name": "stdout",
     "output_type": "stream",
     "text": [
      "2700\n"
     ]
    },
    {
     "name": "stderr",
     "output_type": "stream",
     "text": [
      "/home/pranjal/venv/lib/python3.6/site-packages/sklearn_extra/cluster/_k_medoids.py:279: UserWarning:\n",
      "\n",
      "Cluster 1 is empty! self.labels_[self.medoid_indices_[1]] may not be labeled with its corresponding cluster (1).\n",
      "\n",
      "/home/pranjal/venv/lib/python3.6/site-packages/sklearn_extra/cluster/_k_medoids.py:279: UserWarning:\n",
      "\n",
      "Cluster 2 is empty! self.labels_[self.medoid_indices_[2]] may not be labeled with its corresponding cluster (2).\n",
      "\n",
      "/home/pranjal/venv/lib/python3.6/site-packages/sklearn_extra/cluster/_k_medoids.py:279: UserWarning:\n",
      "\n",
      "Cluster 1 is empty! self.labels_[self.medoid_indices_[1]] may not be labeled with its corresponding cluster (1).\n",
      "\n",
      "/home/pranjal/venv/lib/python3.6/site-packages/sklearn_extra/cluster/_k_medoids.py:279: UserWarning:\n",
      "\n",
      "Cluster 2 is empty! self.labels_[self.medoid_indices_[2]] may not be labeled with its corresponding cluster (2).\n",
      "\n",
      "/home/pranjal/venv/lib/python3.6/site-packages/sklearn_extra/cluster/_k_medoids.py:279: UserWarning:\n",
      "\n",
      "Cluster 1 is empty! self.labels_[self.medoid_indices_[1]] may not be labeled with its corresponding cluster (1).\n",
      "\n",
      "/home/pranjal/venv/lib/python3.6/site-packages/sklearn_extra/cluster/_k_medoids.py:279: UserWarning:\n",
      "\n",
      "Cluster 2 is empty! self.labels_[self.medoid_indices_[2]] may not be labeled with its corresponding cluster (2).\n",
      "\n"
     ]
    },
    {
     "name": "stdout",
     "output_type": "stream",
     "text": [
      "2750\n"
     ]
    },
    {
     "name": "stderr",
     "output_type": "stream",
     "text": [
      "/home/pranjal/venv/lib/python3.6/site-packages/sklearn_extra/cluster/_k_medoids.py:279: UserWarning:\n",
      "\n",
      "Cluster 1 is empty! self.labels_[self.medoid_indices_[1]] may not be labeled with its corresponding cluster (1).\n",
      "\n",
      "/home/pranjal/venv/lib/python3.6/site-packages/sklearn_extra/cluster/_k_medoids.py:279: UserWarning:\n",
      "\n",
      "Cluster 2 is empty! self.labels_[self.medoid_indices_[2]] may not be labeled with its corresponding cluster (2).\n",
      "\n",
      "/home/pranjal/venv/lib/python3.6/site-packages/sklearn_extra/cluster/_k_medoids.py:279: UserWarning:\n",
      "\n",
      "Cluster 1 is empty! self.labels_[self.medoid_indices_[1]] may not be labeled with its corresponding cluster (1).\n",
      "\n",
      "/home/pranjal/venv/lib/python3.6/site-packages/sklearn_extra/cluster/_k_medoids.py:279: UserWarning:\n",
      "\n",
      "Cluster 2 is empty! self.labels_[self.medoid_indices_[2]] may not be labeled with its corresponding cluster (2).\n",
      "\n",
      "/home/pranjal/venv/lib/python3.6/site-packages/sklearn_extra/cluster/_k_medoids.py:279: UserWarning:\n",
      "\n",
      "Cluster 1 is empty! self.labels_[self.medoid_indices_[1]] may not be labeled with its corresponding cluster (1).\n",
      "\n",
      "/home/pranjal/venv/lib/python3.6/site-packages/sklearn_extra/cluster/_k_medoids.py:279: UserWarning:\n",
      "\n",
      "Cluster 2 is empty! self.labels_[self.medoid_indices_[2]] may not be labeled with its corresponding cluster (2).\n",
      "\n"
     ]
    },
    {
     "name": "stdout",
     "output_type": "stream",
     "text": [
      "2800\n"
     ]
    },
    {
     "name": "stderr",
     "output_type": "stream",
     "text": [
      "/home/pranjal/venv/lib/python3.6/site-packages/sklearn_extra/cluster/_k_medoids.py:279: UserWarning:\n",
      "\n",
      "Cluster 1 is empty! self.labels_[self.medoid_indices_[1]] may not be labeled with its corresponding cluster (1).\n",
      "\n",
      "/home/pranjal/venv/lib/python3.6/site-packages/sklearn_extra/cluster/_k_medoids.py:279: UserWarning:\n",
      "\n",
      "Cluster 2 is empty! self.labels_[self.medoid_indices_[2]] may not be labeled with its corresponding cluster (2).\n",
      "\n",
      "/home/pranjal/venv/lib/python3.6/site-packages/sklearn_extra/cluster/_k_medoids.py:279: UserWarning:\n",
      "\n",
      "Cluster 1 is empty! self.labels_[self.medoid_indices_[1]] may not be labeled with its corresponding cluster (1).\n",
      "\n",
      "/home/pranjal/venv/lib/python3.6/site-packages/sklearn_extra/cluster/_k_medoids.py:279: UserWarning:\n",
      "\n",
      "Cluster 2 is empty! self.labels_[self.medoid_indices_[2]] may not be labeled with its corresponding cluster (2).\n",
      "\n",
      "/home/pranjal/venv/lib/python3.6/site-packages/sklearn_extra/cluster/_k_medoids.py:279: UserWarning:\n",
      "\n",
      "Cluster 1 is empty! self.labels_[self.medoid_indices_[1]] may not be labeled with its corresponding cluster (1).\n",
      "\n",
      "/home/pranjal/venv/lib/python3.6/site-packages/sklearn_extra/cluster/_k_medoids.py:279: UserWarning:\n",
      "\n",
      "Cluster 2 is empty! self.labels_[self.medoid_indices_[2]] may not be labeled with its corresponding cluster (2).\n",
      "\n"
     ]
    },
    {
     "name": "stdout",
     "output_type": "stream",
     "text": [
      "2850\n"
     ]
    },
    {
     "name": "stderr",
     "output_type": "stream",
     "text": [
      "/home/pranjal/venv/lib/python3.6/site-packages/sklearn_extra/cluster/_k_medoids.py:279: UserWarning:\n",
      "\n",
      "Cluster 1 is empty! self.labels_[self.medoid_indices_[1]] may not be labeled with its corresponding cluster (1).\n",
      "\n",
      "/home/pranjal/venv/lib/python3.6/site-packages/sklearn_extra/cluster/_k_medoids.py:279: UserWarning:\n",
      "\n",
      "Cluster 2 is empty! self.labels_[self.medoid_indices_[2]] may not be labeled with its corresponding cluster (2).\n",
      "\n",
      "/home/pranjal/venv/lib/python3.6/site-packages/sklearn_extra/cluster/_k_medoids.py:279: UserWarning:\n",
      "\n",
      "Cluster 1 is empty! self.labels_[self.medoid_indices_[1]] may not be labeled with its corresponding cluster (1).\n",
      "\n",
      "/home/pranjal/venv/lib/python3.6/site-packages/sklearn_extra/cluster/_k_medoids.py:279: UserWarning:\n",
      "\n",
      "Cluster 2 is empty! self.labels_[self.medoid_indices_[2]] may not be labeled with its corresponding cluster (2).\n",
      "\n",
      "/home/pranjal/venv/lib/python3.6/site-packages/sklearn_extra/cluster/_k_medoids.py:279: UserWarning:\n",
      "\n",
      "Cluster 1 is empty! self.labels_[self.medoid_indices_[1]] may not be labeled with its corresponding cluster (1).\n",
      "\n",
      "/home/pranjal/venv/lib/python3.6/site-packages/sklearn_extra/cluster/_k_medoids.py:279: UserWarning:\n",
      "\n",
      "Cluster 2 is empty! self.labels_[self.medoid_indices_[2]] may not be labeled with its corresponding cluster (2).\n",
      "\n"
     ]
    },
    {
     "name": "stdout",
     "output_type": "stream",
     "text": [
      "2900\n"
     ]
    },
    {
     "name": "stderr",
     "output_type": "stream",
     "text": [
      "/home/pranjal/venv/lib/python3.6/site-packages/sklearn_extra/cluster/_k_medoids.py:279: UserWarning:\n",
      "\n",
      "Cluster 1 is empty! self.labels_[self.medoid_indices_[1]] may not be labeled with its corresponding cluster (1).\n",
      "\n",
      "/home/pranjal/venv/lib/python3.6/site-packages/sklearn_extra/cluster/_k_medoids.py:279: UserWarning:\n",
      "\n",
      "Cluster 2 is empty! self.labels_[self.medoid_indices_[2]] may not be labeled with its corresponding cluster (2).\n",
      "\n",
      "/home/pranjal/venv/lib/python3.6/site-packages/sklearn_extra/cluster/_k_medoids.py:279: UserWarning:\n",
      "\n",
      "Cluster 1 is empty! self.labels_[self.medoid_indices_[1]] may not be labeled with its corresponding cluster (1).\n",
      "\n",
      "/home/pranjal/venv/lib/python3.6/site-packages/sklearn_extra/cluster/_k_medoids.py:279: UserWarning:\n",
      "\n",
      "Cluster 2 is empty! self.labels_[self.medoid_indices_[2]] may not be labeled with its corresponding cluster (2).\n",
      "\n",
      "/home/pranjal/venv/lib/python3.6/site-packages/sklearn_extra/cluster/_k_medoids.py:279: UserWarning:\n",
      "\n",
      "Cluster 1 is empty! self.labels_[self.medoid_indices_[1]] may not be labeled with its corresponding cluster (1).\n",
      "\n",
      "/home/pranjal/venv/lib/python3.6/site-packages/sklearn_extra/cluster/_k_medoids.py:279: UserWarning:\n",
      "\n",
      "Cluster 2 is empty! self.labels_[self.medoid_indices_[2]] may not be labeled with its corresponding cluster (2).\n",
      "\n"
     ]
    },
    {
     "name": "stdout",
     "output_type": "stream",
     "text": [
      "2950\n"
     ]
    },
    {
     "name": "stderr",
     "output_type": "stream",
     "text": [
      "/home/pranjal/venv/lib/python3.6/site-packages/sklearn_extra/cluster/_k_medoids.py:279: UserWarning:\n",
      "\n",
      "Cluster 1 is empty! self.labels_[self.medoid_indices_[1]] may not be labeled with its corresponding cluster (1).\n",
      "\n",
      "/home/pranjal/venv/lib/python3.6/site-packages/sklearn_extra/cluster/_k_medoids.py:279: UserWarning:\n",
      "\n",
      "Cluster 2 is empty! self.labels_[self.medoid_indices_[2]] may not be labeled with its corresponding cluster (2).\n",
      "\n",
      "/home/pranjal/venv/lib/python3.6/site-packages/sklearn_extra/cluster/_k_medoids.py:279: UserWarning:\n",
      "\n",
      "Cluster 1 is empty! self.labels_[self.medoid_indices_[1]] may not be labeled with its corresponding cluster (1).\n",
      "\n",
      "/home/pranjal/venv/lib/python3.6/site-packages/sklearn_extra/cluster/_k_medoids.py:279: UserWarning:\n",
      "\n",
      "Cluster 2 is empty! self.labels_[self.medoid_indices_[2]] may not be labeled with its corresponding cluster (2).\n",
      "\n",
      "/home/pranjal/venv/lib/python3.6/site-packages/sklearn_extra/cluster/_k_medoids.py:279: UserWarning:\n",
      "\n",
      "Cluster 1 is empty! self.labels_[self.medoid_indices_[1]] may not be labeled with its corresponding cluster (1).\n",
      "\n",
      "/home/pranjal/venv/lib/python3.6/site-packages/sklearn_extra/cluster/_k_medoids.py:279: UserWarning:\n",
      "\n",
      "Cluster 2 is empty! self.labels_[self.medoid_indices_[2]] may not be labeled with its corresponding cluster (2).\n",
      "\n"
     ]
    },
    {
     "name": "stdout",
     "output_type": "stream",
     "text": [
      "3000\n"
     ]
    },
    {
     "name": "stderr",
     "output_type": "stream",
     "text": [
      "/home/pranjal/venv/lib/python3.6/site-packages/sklearn_extra/cluster/_k_medoids.py:279: UserWarning:\n",
      "\n",
      "Cluster 1 is empty! self.labels_[self.medoid_indices_[1]] may not be labeled with its corresponding cluster (1).\n",
      "\n",
      "/home/pranjal/venv/lib/python3.6/site-packages/sklearn_extra/cluster/_k_medoids.py:279: UserWarning:\n",
      "\n",
      "Cluster 2 is empty! self.labels_[self.medoid_indices_[2]] may not be labeled with its corresponding cluster (2).\n",
      "\n",
      "/home/pranjal/venv/lib/python3.6/site-packages/sklearn_extra/cluster/_k_medoids.py:279: UserWarning:\n",
      "\n",
      "Cluster 1 is empty! self.labels_[self.medoid_indices_[1]] may not be labeled with its corresponding cluster (1).\n",
      "\n",
      "/home/pranjal/venv/lib/python3.6/site-packages/sklearn_extra/cluster/_k_medoids.py:279: UserWarning:\n",
      "\n",
      "Cluster 2 is empty! self.labels_[self.medoid_indices_[2]] may not be labeled with its corresponding cluster (2).\n",
      "\n",
      "/home/pranjal/venv/lib/python3.6/site-packages/sklearn_extra/cluster/_k_medoids.py:279: UserWarning:\n",
      "\n",
      "Cluster 1 is empty! self.labels_[self.medoid_indices_[1]] may not be labeled with its corresponding cluster (1).\n",
      "\n",
      "/home/pranjal/venv/lib/python3.6/site-packages/sklearn_extra/cluster/_k_medoids.py:279: UserWarning:\n",
      "\n",
      "Cluster 2 is empty! self.labels_[self.medoid_indices_[2]] may not be labeled with its corresponding cluster (2).\n",
      "\n"
     ]
    },
    {
     "name": "stdout",
     "output_type": "stream",
     "text": [
      "3050\n"
     ]
    },
    {
     "name": "stderr",
     "output_type": "stream",
     "text": [
      "/home/pranjal/venv/lib/python3.6/site-packages/sklearn_extra/cluster/_k_medoids.py:279: UserWarning:\n",
      "\n",
      "Cluster 1 is empty! self.labels_[self.medoid_indices_[1]] may not be labeled with its corresponding cluster (1).\n",
      "\n",
      "/home/pranjal/venv/lib/python3.6/site-packages/sklearn_extra/cluster/_k_medoids.py:279: UserWarning:\n",
      "\n",
      "Cluster 2 is empty! self.labels_[self.medoid_indices_[2]] may not be labeled with its corresponding cluster (2).\n",
      "\n",
      "/home/pranjal/venv/lib/python3.6/site-packages/sklearn_extra/cluster/_k_medoids.py:279: UserWarning:\n",
      "\n",
      "Cluster 1 is empty! self.labels_[self.medoid_indices_[1]] may not be labeled with its corresponding cluster (1).\n",
      "\n",
      "/home/pranjal/venv/lib/python3.6/site-packages/sklearn_extra/cluster/_k_medoids.py:279: UserWarning:\n",
      "\n",
      "Cluster 2 is empty! self.labels_[self.medoid_indices_[2]] may not be labeled with its corresponding cluster (2).\n",
      "\n",
      "/home/pranjal/venv/lib/python3.6/site-packages/sklearn_extra/cluster/_k_medoids.py:279: UserWarning:\n",
      "\n",
      "Cluster 1 is empty! self.labels_[self.medoid_indices_[1]] may not be labeled with its corresponding cluster (1).\n",
      "\n",
      "/home/pranjal/venv/lib/python3.6/site-packages/sklearn_extra/cluster/_k_medoids.py:279: UserWarning:\n",
      "\n",
      "Cluster 2 is empty! self.labels_[self.medoid_indices_[2]] may not be labeled with its corresponding cluster (2).\n",
      "\n"
     ]
    },
    {
     "name": "stdout",
     "output_type": "stream",
     "text": [
      "3100\n"
     ]
    },
    {
     "name": "stderr",
     "output_type": "stream",
     "text": [
      "/home/pranjal/venv/lib/python3.6/site-packages/sklearn_extra/cluster/_k_medoids.py:279: UserWarning:\n",
      "\n",
      "Cluster 1 is empty! self.labels_[self.medoid_indices_[1]] may not be labeled with its corresponding cluster (1).\n",
      "\n",
      "/home/pranjal/venv/lib/python3.6/site-packages/sklearn_extra/cluster/_k_medoids.py:279: UserWarning:\n",
      "\n",
      "Cluster 2 is empty! self.labels_[self.medoid_indices_[2]] may not be labeled with its corresponding cluster (2).\n",
      "\n",
      "/home/pranjal/venv/lib/python3.6/site-packages/sklearn_extra/cluster/_k_medoids.py:279: UserWarning:\n",
      "\n",
      "Cluster 1 is empty! self.labels_[self.medoid_indices_[1]] may not be labeled with its corresponding cluster (1).\n",
      "\n",
      "/home/pranjal/venv/lib/python3.6/site-packages/sklearn_extra/cluster/_k_medoids.py:279: UserWarning:\n",
      "\n",
      "Cluster 2 is empty! self.labels_[self.medoid_indices_[2]] may not be labeled with its corresponding cluster (2).\n",
      "\n",
      "/home/pranjal/venv/lib/python3.6/site-packages/sklearn_extra/cluster/_k_medoids.py:279: UserWarning:\n",
      "\n",
      "Cluster 1 is empty! self.labels_[self.medoid_indices_[1]] may not be labeled with its corresponding cluster (1).\n",
      "\n",
      "/home/pranjal/venv/lib/python3.6/site-packages/sklearn_extra/cluster/_k_medoids.py:279: UserWarning:\n",
      "\n",
      "Cluster 2 is empty! self.labels_[self.medoid_indices_[2]] may not be labeled with its corresponding cluster (2).\n",
      "\n"
     ]
    },
    {
     "name": "stdout",
     "output_type": "stream",
     "text": [
      "3150\n"
     ]
    },
    {
     "name": "stderr",
     "output_type": "stream",
     "text": [
      "/home/pranjal/venv/lib/python3.6/site-packages/sklearn_extra/cluster/_k_medoids.py:279: UserWarning:\n",
      "\n",
      "Cluster 1 is empty! self.labels_[self.medoid_indices_[1]] may not be labeled with its corresponding cluster (1).\n",
      "\n",
      "/home/pranjal/venv/lib/python3.6/site-packages/sklearn_extra/cluster/_k_medoids.py:279: UserWarning:\n",
      "\n",
      "Cluster 2 is empty! self.labels_[self.medoid_indices_[2]] may not be labeled with its corresponding cluster (2).\n",
      "\n",
      "/home/pranjal/venv/lib/python3.6/site-packages/sklearn_extra/cluster/_k_medoids.py:279: UserWarning:\n",
      "\n",
      "Cluster 1 is empty! self.labels_[self.medoid_indices_[1]] may not be labeled with its corresponding cluster (1).\n",
      "\n",
      "/home/pranjal/venv/lib/python3.6/site-packages/sklearn_extra/cluster/_k_medoids.py:279: UserWarning:\n",
      "\n",
      "Cluster 2 is empty! self.labels_[self.medoid_indices_[2]] may not be labeled with its corresponding cluster (2).\n",
      "\n",
      "/home/pranjal/venv/lib/python3.6/site-packages/sklearn_extra/cluster/_k_medoids.py:279: UserWarning:\n",
      "\n",
      "Cluster 1 is empty! self.labels_[self.medoid_indices_[1]] may not be labeled with its corresponding cluster (1).\n",
      "\n",
      "/home/pranjal/venv/lib/python3.6/site-packages/sklearn_extra/cluster/_k_medoids.py:279: UserWarning:\n",
      "\n",
      "Cluster 2 is empty! self.labels_[self.medoid_indices_[2]] may not be labeled with its corresponding cluster (2).\n",
      "\n"
     ]
    },
    {
     "name": "stdout",
     "output_type": "stream",
     "text": [
      "3200\n"
     ]
    },
    {
     "name": "stderr",
     "output_type": "stream",
     "text": [
      "/home/pranjal/venv/lib/python3.6/site-packages/sklearn_extra/cluster/_k_medoids.py:279: UserWarning:\n",
      "\n",
      "Cluster 1 is empty! self.labels_[self.medoid_indices_[1]] may not be labeled with its corresponding cluster (1).\n",
      "\n",
      "/home/pranjal/venv/lib/python3.6/site-packages/sklearn_extra/cluster/_k_medoids.py:279: UserWarning:\n",
      "\n",
      "Cluster 2 is empty! self.labels_[self.medoid_indices_[2]] may not be labeled with its corresponding cluster (2).\n",
      "\n",
      "/home/pranjal/venv/lib/python3.6/site-packages/sklearn_extra/cluster/_k_medoids.py:279: UserWarning:\n",
      "\n",
      "Cluster 1 is empty! self.labels_[self.medoid_indices_[1]] may not be labeled with its corresponding cluster (1).\n",
      "\n",
      "/home/pranjal/venv/lib/python3.6/site-packages/sklearn_extra/cluster/_k_medoids.py:279: UserWarning:\n",
      "\n",
      "Cluster 2 is empty! self.labels_[self.medoid_indices_[2]] may not be labeled with its corresponding cluster (2).\n",
      "\n",
      "/home/pranjal/venv/lib/python3.6/site-packages/sklearn_extra/cluster/_k_medoids.py:279: UserWarning:\n",
      "\n",
      "Cluster 1 is empty! self.labels_[self.medoid_indices_[1]] may not be labeled with its corresponding cluster (1).\n",
      "\n",
      "/home/pranjal/venv/lib/python3.6/site-packages/sklearn_extra/cluster/_k_medoids.py:279: UserWarning:\n",
      "\n",
      "Cluster 2 is empty! self.labels_[self.medoid_indices_[2]] may not be labeled with its corresponding cluster (2).\n",
      "\n"
     ]
    },
    {
     "name": "stdout",
     "output_type": "stream",
     "text": [
      "3250\n"
     ]
    },
    {
     "name": "stderr",
     "output_type": "stream",
     "text": [
      "/home/pranjal/venv/lib/python3.6/site-packages/sklearn_extra/cluster/_k_medoids.py:279: UserWarning:\n",
      "\n",
      "Cluster 1 is empty! self.labels_[self.medoid_indices_[1]] may not be labeled with its corresponding cluster (1).\n",
      "\n",
      "/home/pranjal/venv/lib/python3.6/site-packages/sklearn_extra/cluster/_k_medoids.py:279: UserWarning:\n",
      "\n",
      "Cluster 2 is empty! self.labels_[self.medoid_indices_[2]] may not be labeled with its corresponding cluster (2).\n",
      "\n",
      "/home/pranjal/venv/lib/python3.6/site-packages/sklearn_extra/cluster/_k_medoids.py:279: UserWarning:\n",
      "\n",
      "Cluster 1 is empty! self.labels_[self.medoid_indices_[1]] may not be labeled with its corresponding cluster (1).\n",
      "\n",
      "/home/pranjal/venv/lib/python3.6/site-packages/sklearn_extra/cluster/_k_medoids.py:279: UserWarning:\n",
      "\n",
      "Cluster 2 is empty! self.labels_[self.medoid_indices_[2]] may not be labeled with its corresponding cluster (2).\n",
      "\n",
      "/home/pranjal/venv/lib/python3.6/site-packages/sklearn_extra/cluster/_k_medoids.py:279: UserWarning:\n",
      "\n",
      "Cluster 1 is empty! self.labels_[self.medoid_indices_[1]] may not be labeled with its corresponding cluster (1).\n",
      "\n",
      "/home/pranjal/venv/lib/python3.6/site-packages/sklearn_extra/cluster/_k_medoids.py:279: UserWarning:\n",
      "\n",
      "Cluster 2 is empty! self.labels_[self.medoid_indices_[2]] may not be labeled with its corresponding cluster (2).\n",
      "\n"
     ]
    },
    {
     "name": "stdout",
     "output_type": "stream",
     "text": [
      "3300\n"
     ]
    },
    {
     "name": "stderr",
     "output_type": "stream",
     "text": [
      "/home/pranjal/venv/lib/python3.6/site-packages/sklearn_extra/cluster/_k_medoids.py:279: UserWarning:\n",
      "\n",
      "Cluster 1 is empty! self.labels_[self.medoid_indices_[1]] may not be labeled with its corresponding cluster (1).\n",
      "\n",
      "/home/pranjal/venv/lib/python3.6/site-packages/sklearn_extra/cluster/_k_medoids.py:279: UserWarning:\n",
      "\n",
      "Cluster 2 is empty! self.labels_[self.medoid_indices_[2]] may not be labeled with its corresponding cluster (2).\n",
      "\n",
      "/home/pranjal/venv/lib/python3.6/site-packages/sklearn_extra/cluster/_k_medoids.py:279: UserWarning:\n",
      "\n",
      "Cluster 1 is empty! self.labels_[self.medoid_indices_[1]] may not be labeled with its corresponding cluster (1).\n",
      "\n",
      "/home/pranjal/venv/lib/python3.6/site-packages/sklearn_extra/cluster/_k_medoids.py:279: UserWarning:\n",
      "\n",
      "Cluster 2 is empty! self.labels_[self.medoid_indices_[2]] may not be labeled with its corresponding cluster (2).\n",
      "\n",
      "/home/pranjal/venv/lib/python3.6/site-packages/sklearn_extra/cluster/_k_medoids.py:279: UserWarning:\n",
      "\n",
      "Cluster 1 is empty! self.labels_[self.medoid_indices_[1]] may not be labeled with its corresponding cluster (1).\n",
      "\n",
      "/home/pranjal/venv/lib/python3.6/site-packages/sklearn_extra/cluster/_k_medoids.py:279: UserWarning:\n",
      "\n",
      "Cluster 2 is empty! self.labels_[self.medoid_indices_[2]] may not be labeled with its corresponding cluster (2).\n",
      "\n"
     ]
    },
    {
     "name": "stdout",
     "output_type": "stream",
     "text": [
      "3350\n"
     ]
    },
    {
     "name": "stderr",
     "output_type": "stream",
     "text": [
      "/home/pranjal/venv/lib/python3.6/site-packages/sklearn_extra/cluster/_k_medoids.py:279: UserWarning:\n",
      "\n",
      "Cluster 1 is empty! self.labels_[self.medoid_indices_[1]] may not be labeled with its corresponding cluster (1).\n",
      "\n",
      "/home/pranjal/venv/lib/python3.6/site-packages/sklearn_extra/cluster/_k_medoids.py:279: UserWarning:\n",
      "\n",
      "Cluster 2 is empty! self.labels_[self.medoid_indices_[2]] may not be labeled with its corresponding cluster (2).\n",
      "\n",
      "/home/pranjal/venv/lib/python3.6/site-packages/sklearn_extra/cluster/_k_medoids.py:279: UserWarning:\n",
      "\n",
      "Cluster 1 is empty! self.labels_[self.medoid_indices_[1]] may not be labeled with its corresponding cluster (1).\n",
      "\n",
      "/home/pranjal/venv/lib/python3.6/site-packages/sklearn_extra/cluster/_k_medoids.py:279: UserWarning:\n",
      "\n",
      "Cluster 2 is empty! self.labels_[self.medoid_indices_[2]] may not be labeled with its corresponding cluster (2).\n",
      "\n",
      "/home/pranjal/venv/lib/python3.6/site-packages/sklearn_extra/cluster/_k_medoids.py:279: UserWarning:\n",
      "\n",
      "Cluster 1 is empty! self.labels_[self.medoid_indices_[1]] may not be labeled with its corresponding cluster (1).\n",
      "\n",
      "/home/pranjal/venv/lib/python3.6/site-packages/sklearn_extra/cluster/_k_medoids.py:279: UserWarning:\n",
      "\n",
      "Cluster 2 is empty! self.labels_[self.medoid_indices_[2]] may not be labeled with its corresponding cluster (2).\n",
      "\n"
     ]
    },
    {
     "name": "stdout",
     "output_type": "stream",
     "text": [
      "3400\n"
     ]
    },
    {
     "name": "stderr",
     "output_type": "stream",
     "text": [
      "/home/pranjal/venv/lib/python3.6/site-packages/sklearn_extra/cluster/_k_medoids.py:279: UserWarning:\n",
      "\n",
      "Cluster 1 is empty! self.labels_[self.medoid_indices_[1]] may not be labeled with its corresponding cluster (1).\n",
      "\n",
      "/home/pranjal/venv/lib/python3.6/site-packages/sklearn_extra/cluster/_k_medoids.py:279: UserWarning:\n",
      "\n",
      "Cluster 2 is empty! self.labels_[self.medoid_indices_[2]] may not be labeled with its corresponding cluster (2).\n",
      "\n",
      "/home/pranjal/venv/lib/python3.6/site-packages/sklearn_extra/cluster/_k_medoids.py:279: UserWarning:\n",
      "\n",
      "Cluster 1 is empty! self.labels_[self.medoid_indices_[1]] may not be labeled with its corresponding cluster (1).\n",
      "\n",
      "/home/pranjal/venv/lib/python3.6/site-packages/sklearn_extra/cluster/_k_medoids.py:279: UserWarning:\n",
      "\n",
      "Cluster 2 is empty! self.labels_[self.medoid_indices_[2]] may not be labeled with its corresponding cluster (2).\n",
      "\n",
      "/home/pranjal/venv/lib/python3.6/site-packages/sklearn_extra/cluster/_k_medoids.py:279: UserWarning:\n",
      "\n",
      "Cluster 1 is empty! self.labels_[self.medoid_indices_[1]] may not be labeled with its corresponding cluster (1).\n",
      "\n",
      "/home/pranjal/venv/lib/python3.6/site-packages/sklearn_extra/cluster/_k_medoids.py:279: UserWarning:\n",
      "\n",
      "Cluster 2 is empty! self.labels_[self.medoid_indices_[2]] may not be labeled with its corresponding cluster (2).\n",
      "\n"
     ]
    },
    {
     "name": "stdout",
     "output_type": "stream",
     "text": [
      "3450\n"
     ]
    },
    {
     "name": "stderr",
     "output_type": "stream",
     "text": [
      "/home/pranjal/venv/lib/python3.6/site-packages/sklearn_extra/cluster/_k_medoids.py:279: UserWarning:\n",
      "\n",
      "Cluster 1 is empty! self.labels_[self.medoid_indices_[1]] may not be labeled with its corresponding cluster (1).\n",
      "\n",
      "/home/pranjal/venv/lib/python3.6/site-packages/sklearn_extra/cluster/_k_medoids.py:279: UserWarning:\n",
      "\n",
      "Cluster 2 is empty! self.labels_[self.medoid_indices_[2]] may not be labeled with its corresponding cluster (2).\n",
      "\n",
      "/home/pranjal/venv/lib/python3.6/site-packages/sklearn_extra/cluster/_k_medoids.py:279: UserWarning:\n",
      "\n",
      "Cluster 1 is empty! self.labels_[self.medoid_indices_[1]] may not be labeled with its corresponding cluster (1).\n",
      "\n",
      "/home/pranjal/venv/lib/python3.6/site-packages/sklearn_extra/cluster/_k_medoids.py:279: UserWarning:\n",
      "\n",
      "Cluster 2 is empty! self.labels_[self.medoid_indices_[2]] may not be labeled with its corresponding cluster (2).\n",
      "\n",
      "/home/pranjal/venv/lib/python3.6/site-packages/sklearn_extra/cluster/_k_medoids.py:279: UserWarning:\n",
      "\n",
      "Cluster 1 is empty! self.labels_[self.medoid_indices_[1]] may not be labeled with its corresponding cluster (1).\n",
      "\n",
      "/home/pranjal/venv/lib/python3.6/site-packages/sklearn_extra/cluster/_k_medoids.py:279: UserWarning:\n",
      "\n",
      "Cluster 2 is empty! self.labels_[self.medoid_indices_[2]] may not be labeled with its corresponding cluster (2).\n",
      "\n"
     ]
    },
    {
     "name": "stdout",
     "output_type": "stream",
     "text": [
      "3500\n"
     ]
    },
    {
     "name": "stderr",
     "output_type": "stream",
     "text": [
      "/home/pranjal/venv/lib/python3.6/site-packages/sklearn_extra/cluster/_k_medoids.py:279: UserWarning:\n",
      "\n",
      "Cluster 1 is empty! self.labels_[self.medoid_indices_[1]] may not be labeled with its corresponding cluster (1).\n",
      "\n",
      "/home/pranjal/venv/lib/python3.6/site-packages/sklearn_extra/cluster/_k_medoids.py:279: UserWarning:\n",
      "\n",
      "Cluster 2 is empty! self.labels_[self.medoid_indices_[2]] may not be labeled with its corresponding cluster (2).\n",
      "\n",
      "/home/pranjal/venv/lib/python3.6/site-packages/sklearn_extra/cluster/_k_medoids.py:279: UserWarning:\n",
      "\n",
      "Cluster 1 is empty! self.labels_[self.medoid_indices_[1]] may not be labeled with its corresponding cluster (1).\n",
      "\n",
      "/home/pranjal/venv/lib/python3.6/site-packages/sklearn_extra/cluster/_k_medoids.py:279: UserWarning:\n",
      "\n",
      "Cluster 2 is empty! self.labels_[self.medoid_indices_[2]] may not be labeled with its corresponding cluster (2).\n",
      "\n",
      "/home/pranjal/venv/lib/python3.6/site-packages/sklearn_extra/cluster/_k_medoids.py:279: UserWarning:\n",
      "\n",
      "Cluster 1 is empty! self.labels_[self.medoid_indices_[1]] may not be labeled with its corresponding cluster (1).\n",
      "\n",
      "/home/pranjal/venv/lib/python3.6/site-packages/sklearn_extra/cluster/_k_medoids.py:279: UserWarning:\n",
      "\n",
      "Cluster 2 is empty! self.labels_[self.medoid_indices_[2]] may not be labeled with its corresponding cluster (2).\n",
      "\n"
     ]
    },
    {
     "name": "stdout",
     "output_type": "stream",
     "text": [
      "3550\n"
     ]
    },
    {
     "name": "stderr",
     "output_type": "stream",
     "text": [
      "/home/pranjal/venv/lib/python3.6/site-packages/sklearn_extra/cluster/_k_medoids.py:279: UserWarning:\n",
      "\n",
      "Cluster 1 is empty! self.labels_[self.medoid_indices_[1]] may not be labeled with its corresponding cluster (1).\n",
      "\n",
      "/home/pranjal/venv/lib/python3.6/site-packages/sklearn_extra/cluster/_k_medoids.py:279: UserWarning:\n",
      "\n",
      "Cluster 2 is empty! self.labels_[self.medoid_indices_[2]] may not be labeled with its corresponding cluster (2).\n",
      "\n",
      "/home/pranjal/venv/lib/python3.6/site-packages/sklearn_extra/cluster/_k_medoids.py:279: UserWarning:\n",
      "\n",
      "Cluster 1 is empty! self.labels_[self.medoid_indices_[1]] may not be labeled with its corresponding cluster (1).\n",
      "\n",
      "/home/pranjal/venv/lib/python3.6/site-packages/sklearn_extra/cluster/_k_medoids.py:279: UserWarning:\n",
      "\n",
      "Cluster 2 is empty! self.labels_[self.medoid_indices_[2]] may not be labeled with its corresponding cluster (2).\n",
      "\n",
      "/home/pranjal/venv/lib/python3.6/site-packages/sklearn_extra/cluster/_k_medoids.py:279: UserWarning:\n",
      "\n",
      "Cluster 1 is empty! self.labels_[self.medoid_indices_[1]] may not be labeled with its corresponding cluster (1).\n",
      "\n",
      "/home/pranjal/venv/lib/python3.6/site-packages/sklearn_extra/cluster/_k_medoids.py:279: UserWarning:\n",
      "\n",
      "Cluster 2 is empty! self.labels_[self.medoid_indices_[2]] may not be labeled with its corresponding cluster (2).\n",
      "\n"
     ]
    },
    {
     "name": "stdout",
     "output_type": "stream",
     "text": [
      "3600\n"
     ]
    },
    {
     "name": "stderr",
     "output_type": "stream",
     "text": [
      "/home/pranjal/venv/lib/python3.6/site-packages/sklearn_extra/cluster/_k_medoids.py:279: UserWarning:\n",
      "\n",
      "Cluster 1 is empty! self.labels_[self.medoid_indices_[1]] may not be labeled with its corresponding cluster (1).\n",
      "\n",
      "/home/pranjal/venv/lib/python3.6/site-packages/sklearn_extra/cluster/_k_medoids.py:279: UserWarning:\n",
      "\n",
      "Cluster 2 is empty! self.labels_[self.medoid_indices_[2]] may not be labeled with its corresponding cluster (2).\n",
      "\n",
      "/home/pranjal/venv/lib/python3.6/site-packages/sklearn_extra/cluster/_k_medoids.py:279: UserWarning:\n",
      "\n",
      "Cluster 1 is empty! self.labels_[self.medoid_indices_[1]] may not be labeled with its corresponding cluster (1).\n",
      "\n",
      "/home/pranjal/venv/lib/python3.6/site-packages/sklearn_extra/cluster/_k_medoids.py:279: UserWarning:\n",
      "\n",
      "Cluster 2 is empty! self.labels_[self.medoid_indices_[2]] may not be labeled with its corresponding cluster (2).\n",
      "\n",
      "/home/pranjal/venv/lib/python3.6/site-packages/sklearn_extra/cluster/_k_medoids.py:279: UserWarning:\n",
      "\n",
      "Cluster 1 is empty! self.labels_[self.medoid_indices_[1]] may not be labeled with its corresponding cluster (1).\n",
      "\n",
      "/home/pranjal/venv/lib/python3.6/site-packages/sklearn_extra/cluster/_k_medoids.py:279: UserWarning:\n",
      "\n",
      "Cluster 2 is empty! self.labels_[self.medoid_indices_[2]] may not be labeled with its corresponding cluster (2).\n",
      "\n"
     ]
    },
    {
     "name": "stdout",
     "output_type": "stream",
     "text": [
      "3650\n"
     ]
    },
    {
     "name": "stderr",
     "output_type": "stream",
     "text": [
      "/home/pranjal/venv/lib/python3.6/site-packages/sklearn_extra/cluster/_k_medoids.py:279: UserWarning:\n",
      "\n",
      "Cluster 1 is empty! self.labels_[self.medoid_indices_[1]] may not be labeled with its corresponding cluster (1).\n",
      "\n",
      "/home/pranjal/venv/lib/python3.6/site-packages/sklearn_extra/cluster/_k_medoids.py:279: UserWarning:\n",
      "\n",
      "Cluster 2 is empty! self.labels_[self.medoid_indices_[2]] may not be labeled with its corresponding cluster (2).\n",
      "\n",
      "/home/pranjal/venv/lib/python3.6/site-packages/sklearn_extra/cluster/_k_medoids.py:279: UserWarning:\n",
      "\n",
      "Cluster 1 is empty! self.labels_[self.medoid_indices_[1]] may not be labeled with its corresponding cluster (1).\n",
      "\n",
      "/home/pranjal/venv/lib/python3.6/site-packages/sklearn_extra/cluster/_k_medoids.py:279: UserWarning:\n",
      "\n",
      "Cluster 2 is empty! self.labels_[self.medoid_indices_[2]] may not be labeled with its corresponding cluster (2).\n",
      "\n",
      "/home/pranjal/venv/lib/python3.6/site-packages/sklearn_extra/cluster/_k_medoids.py:279: UserWarning:\n",
      "\n",
      "Cluster 2 is empty! self.labels_[self.medoid_indices_[2]] may not be labeled with its corresponding cluster (2).\n",
      "\n"
     ]
    },
    {
     "name": "stdout",
     "output_type": "stream",
     "text": [
      "3700\n"
     ]
    },
    {
     "name": "stderr",
     "output_type": "stream",
     "text": [
      "/home/pranjal/venv/lib/python3.6/site-packages/sklearn_extra/cluster/_k_medoids.py:279: UserWarning:\n",
      "\n",
      "Cluster 1 is empty! self.labels_[self.medoid_indices_[1]] may not be labeled with its corresponding cluster (1).\n",
      "\n",
      "/home/pranjal/venv/lib/python3.6/site-packages/sklearn_extra/cluster/_k_medoids.py:279: UserWarning:\n",
      "\n",
      "Cluster 2 is empty! self.labels_[self.medoid_indices_[2]] may not be labeled with its corresponding cluster (2).\n",
      "\n",
      "/home/pranjal/venv/lib/python3.6/site-packages/sklearn_extra/cluster/_k_medoids.py:279: UserWarning:\n",
      "\n",
      "Cluster 1 is empty! self.labels_[self.medoid_indices_[1]] may not be labeled with its corresponding cluster (1).\n",
      "\n",
      "/home/pranjal/venv/lib/python3.6/site-packages/sklearn_extra/cluster/_k_medoids.py:279: UserWarning:\n",
      "\n",
      "Cluster 2 is empty! self.labels_[self.medoid_indices_[2]] may not be labeled with its corresponding cluster (2).\n",
      "\n",
      "/home/pranjal/venv/lib/python3.6/site-packages/sklearn_extra/cluster/_k_medoids.py:279: UserWarning:\n",
      "\n",
      "Cluster 2 is empty! self.labels_[self.medoid_indices_[2]] may not be labeled with its corresponding cluster (2).\n",
      "\n"
     ]
    },
    {
     "name": "stdout",
     "output_type": "stream",
     "text": [
      "3800\n"
     ]
    },
    {
     "name": "stderr",
     "output_type": "stream",
     "text": [
      "/home/pranjal/venv/lib/python3.6/site-packages/sklearn_extra/cluster/_k_medoids.py:279: UserWarning:\n",
      "\n",
      "Cluster 1 is empty! self.labels_[self.medoid_indices_[1]] may not be labeled with its corresponding cluster (1).\n",
      "\n",
      "/home/pranjal/venv/lib/python3.6/site-packages/sklearn_extra/cluster/_k_medoids.py:279: UserWarning:\n",
      "\n",
      "Cluster 2 is empty! self.labels_[self.medoid_indices_[2]] may not be labeled with its corresponding cluster (2).\n",
      "\n",
      "/home/pranjal/venv/lib/python3.6/site-packages/sklearn_extra/cluster/_k_medoids.py:279: UserWarning:\n",
      "\n",
      "Cluster 1 is empty! self.labels_[self.medoid_indices_[1]] may not be labeled with its corresponding cluster (1).\n",
      "\n",
      "/home/pranjal/venv/lib/python3.6/site-packages/sklearn_extra/cluster/_k_medoids.py:279: UserWarning:\n",
      "\n",
      "Cluster 2 is empty! self.labels_[self.medoid_indices_[2]] may not be labeled with its corresponding cluster (2).\n",
      "\n",
      "/home/pranjal/venv/lib/python3.6/site-packages/sklearn_extra/cluster/_k_medoids.py:279: UserWarning:\n",
      "\n",
      "Cluster 2 is empty! self.labels_[self.medoid_indices_[2]] may not be labeled with its corresponding cluster (2).\n",
      "\n"
     ]
    },
    {
     "name": "stdout",
     "output_type": "stream",
     "text": [
      "3900\n"
     ]
    },
    {
     "name": "stderr",
     "output_type": "stream",
     "text": [
      "/home/pranjal/venv/lib/python3.6/site-packages/sklearn_extra/cluster/_k_medoids.py:279: UserWarning:\n",
      "\n",
      "Cluster 1 is empty! self.labels_[self.medoid_indices_[1]] may not be labeled with its corresponding cluster (1).\n",
      "\n",
      "/home/pranjal/venv/lib/python3.6/site-packages/sklearn_extra/cluster/_k_medoids.py:279: UserWarning:\n",
      "\n",
      "Cluster 2 is empty! self.labels_[self.medoid_indices_[2]] may not be labeled with its corresponding cluster (2).\n",
      "\n",
      "/home/pranjal/venv/lib/python3.6/site-packages/sklearn_extra/cluster/_k_medoids.py:279: UserWarning:\n",
      "\n",
      "Cluster 1 is empty! self.labels_[self.medoid_indices_[1]] may not be labeled with its corresponding cluster (1).\n",
      "\n",
      "/home/pranjal/venv/lib/python3.6/site-packages/sklearn_extra/cluster/_k_medoids.py:279: UserWarning:\n",
      "\n",
      "Cluster 2 is empty! self.labels_[self.medoid_indices_[2]] may not be labeled with its corresponding cluster (2).\n",
      "\n",
      "/home/pranjal/venv/lib/python3.6/site-packages/sklearn_extra/cluster/_k_medoids.py:279: UserWarning:\n",
      "\n",
      "Cluster 2 is empty! self.labels_[self.medoid_indices_[2]] may not be labeled with its corresponding cluster (2).\n",
      "\n"
     ]
    },
    {
     "name": "stdout",
     "output_type": "stream",
     "text": [
      "4000\n"
     ]
    },
    {
     "name": "stderr",
     "output_type": "stream",
     "text": [
      "/home/pranjal/venv/lib/python3.6/site-packages/sklearn_extra/cluster/_k_medoids.py:279: UserWarning:\n",
      "\n",
      "Cluster 1 is empty! self.labels_[self.medoid_indices_[1]] may not be labeled with its corresponding cluster (1).\n",
      "\n",
      "/home/pranjal/venv/lib/python3.6/site-packages/sklearn_extra/cluster/_k_medoids.py:279: UserWarning:\n",
      "\n",
      "Cluster 2 is empty! self.labels_[self.medoid_indices_[2]] may not be labeled with its corresponding cluster (2).\n",
      "\n",
      "/home/pranjal/venv/lib/python3.6/site-packages/sklearn_extra/cluster/_k_medoids.py:279: UserWarning:\n",
      "\n",
      "Cluster 1 is empty! self.labels_[self.medoid_indices_[1]] may not be labeled with its corresponding cluster (1).\n",
      "\n",
      "/home/pranjal/venv/lib/python3.6/site-packages/sklearn_extra/cluster/_k_medoids.py:279: UserWarning:\n",
      "\n",
      "Cluster 2 is empty! self.labels_[self.medoid_indices_[2]] may not be labeled with its corresponding cluster (2).\n",
      "\n",
      "/home/pranjal/venv/lib/python3.6/site-packages/sklearn_extra/cluster/_k_medoids.py:279: UserWarning:\n",
      "\n",
      "Cluster 1 is empty! self.labels_[self.medoid_indices_[1]] may not be labeled with its corresponding cluster (1).\n",
      "\n",
      "/home/pranjal/venv/lib/python3.6/site-packages/sklearn_extra/cluster/_k_medoids.py:279: UserWarning:\n",
      "\n",
      "Cluster 2 is empty! self.labels_[self.medoid_indices_[2]] may not be labeled with its corresponding cluster (2).\n",
      "\n"
     ]
    },
    {
     "name": "stdout",
     "output_type": "stream",
     "text": [
      "4100\n"
     ]
    },
    {
     "name": "stderr",
     "output_type": "stream",
     "text": [
      "/home/pranjal/venv/lib/python3.6/site-packages/sklearn_extra/cluster/_k_medoids.py:279: UserWarning:\n",
      "\n",
      "Cluster 1 is empty! self.labels_[self.medoid_indices_[1]] may not be labeled with its corresponding cluster (1).\n",
      "\n",
      "/home/pranjal/venv/lib/python3.6/site-packages/sklearn_extra/cluster/_k_medoids.py:279: UserWarning:\n",
      "\n",
      "Cluster 2 is empty! self.labels_[self.medoid_indices_[2]] may not be labeled with its corresponding cluster (2).\n",
      "\n",
      "/home/pranjal/venv/lib/python3.6/site-packages/sklearn_extra/cluster/_k_medoids.py:279: UserWarning:\n",
      "\n",
      "Cluster 1 is empty! self.labels_[self.medoid_indices_[1]] may not be labeled with its corresponding cluster (1).\n",
      "\n",
      "/home/pranjal/venv/lib/python3.6/site-packages/sklearn_extra/cluster/_k_medoids.py:279: UserWarning:\n",
      "\n",
      "Cluster 2 is empty! self.labels_[self.medoid_indices_[2]] may not be labeled with its corresponding cluster (2).\n",
      "\n",
      "/home/pranjal/venv/lib/python3.6/site-packages/sklearn_extra/cluster/_k_medoids.py:279: UserWarning:\n",
      "\n",
      "Cluster 2 is empty! self.labels_[self.medoid_indices_[2]] may not be labeled with its corresponding cluster (2).\n",
      "\n"
     ]
    },
    {
     "name": "stdout",
     "output_type": "stream",
     "text": [
      "4150\n"
     ]
    },
    {
     "name": "stderr",
     "output_type": "stream",
     "text": [
      "/home/pranjal/venv/lib/python3.6/site-packages/sklearn_extra/cluster/_k_medoids.py:279: UserWarning:\n",
      "\n",
      "Cluster 1 is empty! self.labels_[self.medoid_indices_[1]] may not be labeled with its corresponding cluster (1).\n",
      "\n",
      "/home/pranjal/venv/lib/python3.6/site-packages/sklearn_extra/cluster/_k_medoids.py:279: UserWarning:\n",
      "\n",
      "Cluster 2 is empty! self.labels_[self.medoid_indices_[2]] may not be labeled with its corresponding cluster (2).\n",
      "\n",
      "/home/pranjal/venv/lib/python3.6/site-packages/sklearn_extra/cluster/_k_medoids.py:279: UserWarning:\n",
      "\n",
      "Cluster 1 is empty! self.labels_[self.medoid_indices_[1]] may not be labeled with its corresponding cluster (1).\n",
      "\n",
      "/home/pranjal/venv/lib/python3.6/site-packages/sklearn_extra/cluster/_k_medoids.py:279: UserWarning:\n",
      "\n",
      "Cluster 2 is empty! self.labels_[self.medoid_indices_[2]] may not be labeled with its corresponding cluster (2).\n",
      "\n",
      "/home/pranjal/venv/lib/python3.6/site-packages/sklearn_extra/cluster/_k_medoids.py:279: UserWarning:\n",
      "\n",
      "Cluster 2 is empty! self.labels_[self.medoid_indices_[2]] may not be labeled with its corresponding cluster (2).\n",
      "\n"
     ]
    },
    {
     "name": "stdout",
     "output_type": "stream",
     "text": [
      "4250\n"
     ]
    },
    {
     "name": "stderr",
     "output_type": "stream",
     "text": [
      "/home/pranjal/venv/lib/python3.6/site-packages/sklearn_extra/cluster/_k_medoids.py:279: UserWarning:\n",
      "\n",
      "Cluster 1 is empty! self.labels_[self.medoid_indices_[1]] may not be labeled with its corresponding cluster (1).\n",
      "\n",
      "/home/pranjal/venv/lib/python3.6/site-packages/sklearn_extra/cluster/_k_medoids.py:279: UserWarning:\n",
      "\n",
      "Cluster 2 is empty! self.labels_[self.medoid_indices_[2]] may not be labeled with its corresponding cluster (2).\n",
      "\n",
      "/home/pranjal/venv/lib/python3.6/site-packages/sklearn_extra/cluster/_k_medoids.py:279: UserWarning:\n",
      "\n",
      "Cluster 1 is empty! self.labels_[self.medoid_indices_[1]] may not be labeled with its corresponding cluster (1).\n",
      "\n",
      "/home/pranjal/venv/lib/python3.6/site-packages/sklearn_extra/cluster/_k_medoids.py:279: UserWarning:\n",
      "\n",
      "Cluster 2 is empty! self.labels_[self.medoid_indices_[2]] may not be labeled with its corresponding cluster (2).\n",
      "\n",
      "/home/pranjal/venv/lib/python3.6/site-packages/sklearn_extra/cluster/_k_medoids.py:279: UserWarning:\n",
      "\n",
      "Cluster 2 is empty! self.labels_[self.medoid_indices_[2]] may not be labeled with its corresponding cluster (2).\n",
      "\n"
     ]
    },
    {
     "name": "stdout",
     "output_type": "stream",
     "text": [
      "4350\n"
     ]
    },
    {
     "name": "stderr",
     "output_type": "stream",
     "text": [
      "/home/pranjal/venv/lib/python3.6/site-packages/sklearn_extra/cluster/_k_medoids.py:279: UserWarning:\n",
      "\n",
      "Cluster 1 is empty! self.labels_[self.medoid_indices_[1]] may not be labeled with its corresponding cluster (1).\n",
      "\n",
      "/home/pranjal/venv/lib/python3.6/site-packages/sklearn_extra/cluster/_k_medoids.py:279: UserWarning:\n",
      "\n",
      "Cluster 2 is empty! self.labels_[self.medoid_indices_[2]] may not be labeled with its corresponding cluster (2).\n",
      "\n",
      "/home/pranjal/venv/lib/python3.6/site-packages/sklearn_extra/cluster/_k_medoids.py:279: UserWarning:\n",
      "\n",
      "Cluster 1 is empty! self.labels_[self.medoid_indices_[1]] may not be labeled with its corresponding cluster (1).\n",
      "\n",
      "/home/pranjal/venv/lib/python3.6/site-packages/sklearn_extra/cluster/_k_medoids.py:279: UserWarning:\n",
      "\n",
      "Cluster 2 is empty! self.labels_[self.medoid_indices_[2]] may not be labeled with its corresponding cluster (2).\n",
      "\n",
      "/home/pranjal/venv/lib/python3.6/site-packages/sklearn_extra/cluster/_k_medoids.py:279: UserWarning:\n",
      "\n",
      "Cluster 2 is empty! self.labels_[self.medoid_indices_[2]] may not be labeled with its corresponding cluster (2).\n",
      "\n"
     ]
    },
    {
     "name": "stdout",
     "output_type": "stream",
     "text": [
      "4450\n"
     ]
    },
    {
     "name": "stderr",
     "output_type": "stream",
     "text": [
      "/home/pranjal/venv/lib/python3.6/site-packages/sklearn_extra/cluster/_k_medoids.py:279: UserWarning:\n",
      "\n",
      "Cluster 1 is empty! self.labels_[self.medoid_indices_[1]] may not be labeled with its corresponding cluster (1).\n",
      "\n",
      "/home/pranjal/venv/lib/python3.6/site-packages/sklearn_extra/cluster/_k_medoids.py:279: UserWarning:\n",
      "\n",
      "Cluster 2 is empty! self.labels_[self.medoid_indices_[2]] may not be labeled with its corresponding cluster (2).\n",
      "\n",
      "/home/pranjal/venv/lib/python3.6/site-packages/sklearn_extra/cluster/_k_medoids.py:279: UserWarning:\n",
      "\n",
      "Cluster 1 is empty! self.labels_[self.medoid_indices_[1]] may not be labeled with its corresponding cluster (1).\n",
      "\n",
      "/home/pranjal/venv/lib/python3.6/site-packages/sklearn_extra/cluster/_k_medoids.py:279: UserWarning:\n",
      "\n",
      "Cluster 2 is empty! self.labels_[self.medoid_indices_[2]] may not be labeled with its corresponding cluster (2).\n",
      "\n",
      "/home/pranjal/venv/lib/python3.6/site-packages/sklearn_extra/cluster/_k_medoids.py:279: UserWarning:\n",
      "\n",
      "Cluster 2 is empty! self.labels_[self.medoid_indices_[2]] may not be labeled with its corresponding cluster (2).\n",
      "\n"
     ]
    },
    {
     "name": "stdout",
     "output_type": "stream",
     "text": [
      "Performing clustering post-attack...\n",
      "Pre-attack cluster centers: \n",
      "[[ 0.19435  1.4263  -0.33069]\n",
      " [ 1.1361  -0.33181 -0.22973]\n",
      " [-0.6532  -0.23393 -0.28798]]\n",
      "Pre-attack utility: \n",
      "0.17141143028554284\n",
      "Adversarial centers utility: \n",
      "0.030929110478782627\n",
      "Post attack utility\n",
      "0.030929110478782627\n",
      "Added samples: \n",
      "3050\n",
      "Ratio: (|X_aug| - |X|)/|X|\n",
      "2.033333333333333\n"
     ]
    },
    {
     "name": "stderr",
     "output_type": "stream",
     "text": [
      "/home/pranjal/venv/lib/python3.6/site-packages/sklearn_extra/cluster/_k_medoids.py:279: UserWarning:\n",
      "\n",
      "Cluster 2 is empty! self.labels_[self.medoid_indices_[2]] may not be labeled with its corresponding cluster (2).\n",
      "\n"
     ]
    }
   ],
   "source": [
    "FA.main()"
   ]
  },
  {
   "cell_type": "code",
   "execution_count": 45,
   "id": "334ecfcc-4fa6-40f1-9c01-e61590b3983c",
   "metadata": {},
   "outputs": [
    {
     "name": "stdout",
     "output_type": "stream",
     "text": [
      "Pre-attack cluster centers: \n",
      "[[ 0.19435  1.4263  -0.33069]\n",
      " [ 1.1361  -0.33181 -0.22973]\n",
      " [-0.6532  -0.23393 -0.28798]]\n",
      "Pre-attack utility: \n",
      "0.17141143028554284\n",
      "Adversarial centers utility: \n",
      "0.030929110478782627\n",
      "Post attack utility\n",
      "0.030929110478782627\n",
      "Added samples: \n",
      "3050\n",
      "Ratio: (|X_aug| - |X|)/|X|\n",
      "2.033333333333333\n"
     ]
    }
   ],
   "source": [
    "print(\"Pre-attack cluster centers: \")\n",
    "print(FA.initial_centers)\n",
    "print(\"Pre-attack utility: \")\n",
    "print(FA.pre_attack_utility)\n",
    "# print(\"Adversarial cluster centers: \")\n",
    "# print(self.adv_centers)\n",
    "print(\"Adversarial centers utility: \")\n",
    "print(FA.adv_utility)\n",
    "# print(\"Post attack cluster centers: \")\n",
    "# print(self.final_centers)\n",
    "print(\"Post attack utility\")\n",
    "print(FA.post_attack_utility)\n",
    "print(\"Added samples: \")\n",
    "print(len(FA.X_augmented) - len(FA.X))\n",
    "print(\"Ratio: (|X_aug| - |X|)/|X|\")\n",
    "print((len(FA.X_augmented) - len(FA.X)) / len(FA.X))"
   ]
  },
  {
   "cell_type": "code",
   "execution_count": null,
   "id": "980e7597-9ddf-4ac1-8bda-ed25a9c292f8",
   "metadata": {},
   "outputs": [],
   "source": []
  },
  {
   "cell_type": "code",
   "execution_count": null,
   "id": "075d341c-6643-4545-9149-129dd1953a79",
   "metadata": {},
   "outputs": [],
   "source": []
  },
  {
   "cell_type": "code",
   "execution_count": null,
   "id": "a9408c56-748b-4fa0-97a7-a37e23b235d1",
   "metadata": {},
   "outputs": [],
   "source": [
    "FA = FairnessAttack(2, X, S, 5, 10)"
   ]
  },
  {
   "cell_type": "code",
   "execution_count": 50,
   "id": "d991d878-374c-4c4b-9f5e-8625a7baee3a",
   "metadata": {},
   "outputs": [
    {
     "name": "stdout",
     "output_type": "stream",
     "text": [
      "Performing clustering pre-attack...\n",
      "Obtaining adversarial cluster centers...\n",
      "{2: 0.268, 3: 0.124, 1: 0.608}\n",
      "new centers [[-0.84155 -0.23065 -0.12489]\n",
      " [ 0.94774 -0.18335 -0.31905]]\n",
      "adv centers [[ 0.3827   -0.27663   0.75268 ]\n",
      " [ 2.9254    0.082019  1.0556  ]]\n",
      "1500\n"
     ]
    },
    {
     "name": "stderr",
     "output_type": "stream",
     "text": [
      "/mnt/c/Users/dhaka/Documents/semester3/849/FairnessTSAdvClustering/src/attack.py:144: FutureWarning:\n",
      "\n",
      "Using a non-tuple sequence for multidimensional indexing is deprecated; use `arr[tuple(seq)]` instead of `arr[seq]`. In the future this will be interpreted as an array index, `arr[np.array(seq)]`, which will result either in an error or a different result.\n",
      "\n"
     ]
    },
    {
     "name": "stdout",
     "output_type": "stream",
     "text": [
      "1510\n",
      "1520\n",
      "1530\n",
      "1540\n",
      "1550\n",
      "1560\n",
      "1570\n",
      "1580\n",
      "1590\n",
      "1600\n",
      "1610\n",
      "1620\n",
      "1630\n",
      "1640\n",
      "1650\n",
      "1660\n",
      "1670\n",
      "1680\n",
      "1690\n",
      "1700\n",
      "1710\n",
      "1720\n",
      "1730\n",
      "1740\n",
      "1750\n",
      "1760\n",
      "1770\n",
      "1780\n",
      "1790\n",
      "1800\n",
      "1810\n",
      "1820\n",
      "1830\n",
      "1840\n",
      "1850\n",
      "1860\n",
      "1870\n",
      "1880\n",
      "1890\n",
      "1900\n",
      "1910\n",
      "1920\n",
      "1930\n",
      "1940\n",
      "1950\n",
      "1960\n",
      "1970\n",
      "1980\n",
      "1990\n",
      "2000\n",
      "2010\n",
      "2020\n",
      "2030\n",
      "2040\n",
      "2050\n",
      "2060\n",
      "2070\n",
      "2080\n",
      "2090\n",
      "2100\n",
      "2110\n",
      "2120\n",
      "2130\n",
      "2140\n",
      "2150\n",
      "2160\n",
      "2165\n",
      "2175\n",
      "2185\n",
      "2195\n",
      "2205\n",
      "2215\n",
      "2225\n",
      "2235\n",
      "2245\n",
      "2255\n",
      "2265\n",
      "2275\n",
      "2285\n",
      "2295\n",
      "2305\n",
      "2315\n",
      "2325\n",
      "2335\n",
      "2345\n",
      "2355\n",
      "2365\n",
      "2375\n",
      "2385\n",
      "2395\n",
      "2405\n",
      "2415\n",
      "2425\n",
      "2435\n",
      "2445\n",
      "2455\n",
      "2465\n",
      "2475\n",
      "2485\n",
      "2495\n",
      "2505\n",
      "2515\n",
      "2525\n",
      "2535\n",
      "2545\n",
      "2555\n",
      "2565\n",
      "2575\n",
      "2585\n",
      "2595\n",
      "2605\n",
      "2615\n",
      "2625\n",
      "2635\n",
      "2645\n",
      "2655\n",
      "2665\n",
      "2675\n",
      "2685\n",
      "2695\n",
      "2705\n",
      "2715\n",
      "2725\n",
      "2735\n",
      "2745\n",
      "2755\n",
      "2765\n",
      "2775\n",
      "2785\n",
      "2795\n",
      "2805\n",
      "2815\n",
      "2820\n",
      "2825\n",
      "2830\n",
      "2835\n"
     ]
    },
    {
     "name": "stderr",
     "output_type": "stream",
     "text": [
      "/home/pranjal/venv/lib/python3.6/site-packages/sklearn_extra/cluster/_k_medoids.py:279: UserWarning:\n",
      "\n",
      "Cluster 1 is empty! self.labels_[self.medoid_indices_[1]] may not be labeled with its corresponding cluster (1).\n",
      "\n"
     ]
    },
    {
     "name": "stdout",
     "output_type": "stream",
     "text": [
      "2845\n"
     ]
    },
    {
     "name": "stderr",
     "output_type": "stream",
     "text": [
      "/home/pranjal/venv/lib/python3.6/site-packages/sklearn_extra/cluster/_k_medoids.py:279: UserWarning:\n",
      "\n",
      "Cluster 1 is empty! self.labels_[self.medoid_indices_[1]] may not be labeled with its corresponding cluster (1).\n",
      "\n",
      "/home/pranjal/venv/lib/python3.6/site-packages/sklearn_extra/cluster/_k_medoids.py:279: UserWarning:\n",
      "\n",
      "Cluster 1 is empty! self.labels_[self.medoid_indices_[1]] may not be labeled with its corresponding cluster (1).\n",
      "\n"
     ]
    },
    {
     "name": "stdout",
     "output_type": "stream",
     "text": [
      "2855\n"
     ]
    },
    {
     "name": "stderr",
     "output_type": "stream",
     "text": [
      "/home/pranjal/venv/lib/python3.6/site-packages/sklearn_extra/cluster/_k_medoids.py:279: UserWarning:\n",
      "\n",
      "Cluster 1 is empty! self.labels_[self.medoid_indices_[1]] may not be labeled with its corresponding cluster (1).\n",
      "\n",
      "/home/pranjal/venv/lib/python3.6/site-packages/sklearn_extra/cluster/_k_medoids.py:279: UserWarning:\n",
      "\n",
      "Cluster 1 is empty! self.labels_[self.medoid_indices_[1]] may not be labeled with its corresponding cluster (1).\n",
      "\n"
     ]
    },
    {
     "name": "stdout",
     "output_type": "stream",
     "text": [
      "2860\n"
     ]
    },
    {
     "name": "stderr",
     "output_type": "stream",
     "text": [
      "/home/pranjal/venv/lib/python3.6/site-packages/sklearn_extra/cluster/_k_medoids.py:279: UserWarning:\n",
      "\n",
      "Cluster 1 is empty! self.labels_[self.medoid_indices_[1]] may not be labeled with its corresponding cluster (1).\n",
      "\n"
     ]
    },
    {
     "name": "stdout",
     "output_type": "stream",
     "text": [
      "2865\n"
     ]
    },
    {
     "name": "stderr",
     "output_type": "stream",
     "text": [
      "/home/pranjal/venv/lib/python3.6/site-packages/sklearn_extra/cluster/_k_medoids.py:279: UserWarning:\n",
      "\n",
      "Cluster 1 is empty! self.labels_[self.medoid_indices_[1]] may not be labeled with its corresponding cluster (1).\n",
      "\n",
      "/home/pranjal/venv/lib/python3.6/site-packages/sklearn_extra/cluster/_k_medoids.py:279: UserWarning:\n",
      "\n",
      "Cluster 1 is empty! self.labels_[self.medoid_indices_[1]] may not be labeled with its corresponding cluster (1).\n",
      "\n"
     ]
    },
    {
     "name": "stdout",
     "output_type": "stream",
     "text": [
      "2875\n"
     ]
    },
    {
     "name": "stderr",
     "output_type": "stream",
     "text": [
      "/home/pranjal/venv/lib/python3.6/site-packages/sklearn_extra/cluster/_k_medoids.py:279: UserWarning:\n",
      "\n",
      "Cluster 1 is empty! self.labels_[self.medoid_indices_[1]] may not be labeled with its corresponding cluster (1).\n",
      "\n",
      "/home/pranjal/venv/lib/python3.6/site-packages/sklearn_extra/cluster/_k_medoids.py:279: UserWarning:\n",
      "\n",
      "Cluster 1 is empty! self.labels_[self.medoid_indices_[1]] may not be labeled with its corresponding cluster (1).\n",
      "\n"
     ]
    },
    {
     "name": "stdout",
     "output_type": "stream",
     "text": [
      "2880\n"
     ]
    },
    {
     "name": "stderr",
     "output_type": "stream",
     "text": [
      "/home/pranjal/venv/lib/python3.6/site-packages/sklearn_extra/cluster/_k_medoids.py:279: UserWarning:\n",
      "\n",
      "Cluster 1 is empty! self.labels_[self.medoid_indices_[1]] may not be labeled with its corresponding cluster (1).\n",
      "\n"
     ]
    },
    {
     "name": "stdout",
     "output_type": "stream",
     "text": [
      "2885\n"
     ]
    },
    {
     "name": "stderr",
     "output_type": "stream",
     "text": [
      "/home/pranjal/venv/lib/python3.6/site-packages/sklearn_extra/cluster/_k_medoids.py:279: UserWarning:\n",
      "\n",
      "Cluster 1 is empty! self.labels_[self.medoid_indices_[1]] may not be labeled with its corresponding cluster (1).\n",
      "\n",
      "/home/pranjal/venv/lib/python3.6/site-packages/sklearn_extra/cluster/_k_medoids.py:279: UserWarning:\n",
      "\n",
      "Cluster 1 is empty! self.labels_[self.medoid_indices_[1]] may not be labeled with its corresponding cluster (1).\n",
      "\n"
     ]
    },
    {
     "name": "stdout",
     "output_type": "stream",
     "text": [
      "2895\n"
     ]
    },
    {
     "name": "stderr",
     "output_type": "stream",
     "text": [
      "/home/pranjal/venv/lib/python3.6/site-packages/sklearn_extra/cluster/_k_medoids.py:279: UserWarning:\n",
      "\n",
      "Cluster 1 is empty! self.labels_[self.medoid_indices_[1]] may not be labeled with its corresponding cluster (1).\n",
      "\n",
      "/home/pranjal/venv/lib/python3.6/site-packages/sklearn_extra/cluster/_k_medoids.py:279: UserWarning:\n",
      "\n",
      "Cluster 1 is empty! self.labels_[self.medoid_indices_[1]] may not be labeled with its corresponding cluster (1).\n",
      "\n"
     ]
    },
    {
     "name": "stdout",
     "output_type": "stream",
     "text": [
      "2900\n"
     ]
    },
    {
     "name": "stderr",
     "output_type": "stream",
     "text": [
      "/home/pranjal/venv/lib/python3.6/site-packages/sklearn_extra/cluster/_k_medoids.py:279: UserWarning:\n",
      "\n",
      "Cluster 1 is empty! self.labels_[self.medoid_indices_[1]] may not be labeled with its corresponding cluster (1).\n",
      "\n"
     ]
    },
    {
     "name": "stdout",
     "output_type": "stream",
     "text": [
      "2905\n"
     ]
    },
    {
     "name": "stderr",
     "output_type": "stream",
     "text": [
      "/home/pranjal/venv/lib/python3.6/site-packages/sklearn_extra/cluster/_k_medoids.py:279: UserWarning:\n",
      "\n",
      "Cluster 1 is empty! self.labels_[self.medoid_indices_[1]] may not be labeled with its corresponding cluster (1).\n",
      "\n",
      "/home/pranjal/venv/lib/python3.6/site-packages/sklearn_extra/cluster/_k_medoids.py:279: UserWarning:\n",
      "\n",
      "Cluster 1 is empty! self.labels_[self.medoid_indices_[1]] may not be labeled with its corresponding cluster (1).\n",
      "\n"
     ]
    },
    {
     "name": "stdout",
     "output_type": "stream",
     "text": [
      "2915\n"
     ]
    },
    {
     "name": "stderr",
     "output_type": "stream",
     "text": [
      "/home/pranjal/venv/lib/python3.6/site-packages/sklearn_extra/cluster/_k_medoids.py:279: UserWarning:\n",
      "\n",
      "Cluster 1 is empty! self.labels_[self.medoid_indices_[1]] may not be labeled with its corresponding cluster (1).\n",
      "\n",
      "/home/pranjal/venv/lib/python3.6/site-packages/sklearn_extra/cluster/_k_medoids.py:279: UserWarning:\n",
      "\n",
      "Cluster 1 is empty! self.labels_[self.medoid_indices_[1]] may not be labeled with its corresponding cluster (1).\n",
      "\n"
     ]
    },
    {
     "name": "stdout",
     "output_type": "stream",
     "text": [
      "2920\n"
     ]
    },
    {
     "name": "stderr",
     "output_type": "stream",
     "text": [
      "/home/pranjal/venv/lib/python3.6/site-packages/sklearn_extra/cluster/_k_medoids.py:279: UserWarning:\n",
      "\n",
      "Cluster 1 is empty! self.labels_[self.medoid_indices_[1]] may not be labeled with its corresponding cluster (1).\n",
      "\n"
     ]
    },
    {
     "name": "stdout",
     "output_type": "stream",
     "text": [
      "2925\n"
     ]
    },
    {
     "name": "stderr",
     "output_type": "stream",
     "text": [
      "/home/pranjal/venv/lib/python3.6/site-packages/sklearn_extra/cluster/_k_medoids.py:279: UserWarning:\n",
      "\n",
      "Cluster 1 is empty! self.labels_[self.medoid_indices_[1]] may not be labeled with its corresponding cluster (1).\n",
      "\n",
      "/home/pranjal/venv/lib/python3.6/site-packages/sklearn_extra/cluster/_k_medoids.py:279: UserWarning:\n",
      "\n",
      "Cluster 1 is empty! self.labels_[self.medoid_indices_[1]] may not be labeled with its corresponding cluster (1).\n",
      "\n"
     ]
    },
    {
     "name": "stdout",
     "output_type": "stream",
     "text": [
      "2935\n"
     ]
    },
    {
     "name": "stderr",
     "output_type": "stream",
     "text": [
      "/home/pranjal/venv/lib/python3.6/site-packages/sklearn_extra/cluster/_k_medoids.py:279: UserWarning:\n",
      "\n",
      "Cluster 1 is empty! self.labels_[self.medoid_indices_[1]] may not be labeled with its corresponding cluster (1).\n",
      "\n",
      "/home/pranjal/venv/lib/python3.6/site-packages/sklearn_extra/cluster/_k_medoids.py:279: UserWarning:\n",
      "\n",
      "Cluster 1 is empty! self.labels_[self.medoid_indices_[1]] may not be labeled with its corresponding cluster (1).\n",
      "\n"
     ]
    },
    {
     "name": "stdout",
     "output_type": "stream",
     "text": [
      "2940\n"
     ]
    },
    {
     "name": "stderr",
     "output_type": "stream",
     "text": [
      "/home/pranjal/venv/lib/python3.6/site-packages/sklearn_extra/cluster/_k_medoids.py:279: UserWarning:\n",
      "\n",
      "Cluster 1 is empty! self.labels_[self.medoid_indices_[1]] may not be labeled with its corresponding cluster (1).\n",
      "\n"
     ]
    },
    {
     "name": "stdout",
     "output_type": "stream",
     "text": [
      "2945\n"
     ]
    },
    {
     "name": "stderr",
     "output_type": "stream",
     "text": [
      "/home/pranjal/venv/lib/python3.6/site-packages/sklearn_extra/cluster/_k_medoids.py:279: UserWarning:\n",
      "\n",
      "Cluster 1 is empty! self.labels_[self.medoid_indices_[1]] may not be labeled with its corresponding cluster (1).\n",
      "\n",
      "/home/pranjal/venv/lib/python3.6/site-packages/sklearn_extra/cluster/_k_medoids.py:279: UserWarning:\n",
      "\n",
      "Cluster 1 is empty! self.labels_[self.medoid_indices_[1]] may not be labeled with its corresponding cluster (1).\n",
      "\n"
     ]
    },
    {
     "name": "stdout",
     "output_type": "stream",
     "text": [
      "2955\n"
     ]
    },
    {
     "name": "stderr",
     "output_type": "stream",
     "text": [
      "/home/pranjal/venv/lib/python3.6/site-packages/sklearn_extra/cluster/_k_medoids.py:279: UserWarning:\n",
      "\n",
      "Cluster 1 is empty! self.labels_[self.medoid_indices_[1]] may not be labeled with its corresponding cluster (1).\n",
      "\n",
      "/home/pranjal/venv/lib/python3.6/site-packages/sklearn_extra/cluster/_k_medoids.py:279: UserWarning:\n",
      "\n",
      "Cluster 1 is empty! self.labels_[self.medoid_indices_[1]] may not be labeled with its corresponding cluster (1).\n",
      "\n"
     ]
    },
    {
     "name": "stdout",
     "output_type": "stream",
     "text": [
      "2960\n"
     ]
    },
    {
     "name": "stderr",
     "output_type": "stream",
     "text": [
      "/home/pranjal/venv/lib/python3.6/site-packages/sklearn_extra/cluster/_k_medoids.py:279: UserWarning:\n",
      "\n",
      "Cluster 1 is empty! self.labels_[self.medoid_indices_[1]] may not be labeled with its corresponding cluster (1).\n",
      "\n",
      "/home/pranjal/venv/lib/python3.6/site-packages/sklearn_extra/cluster/_k_medoids.py:279: UserWarning:\n",
      "\n",
      "Cluster 1 is empty! self.labels_[self.medoid_indices_[1]] may not be labeled with its corresponding cluster (1).\n",
      "\n"
     ]
    },
    {
     "name": "stdout",
     "output_type": "stream",
     "text": [
      "2965\n"
     ]
    },
    {
     "name": "stderr",
     "output_type": "stream",
     "text": [
      "/home/pranjal/venv/lib/python3.6/site-packages/sklearn_extra/cluster/_k_medoids.py:279: UserWarning:\n",
      "\n",
      "Cluster 1 is empty! self.labels_[self.medoid_indices_[1]] may not be labeled with its corresponding cluster (1).\n",
      "\n"
     ]
    },
    {
     "name": "stdout",
     "output_type": "stream",
     "text": [
      "2970\n"
     ]
    },
    {
     "name": "stderr",
     "output_type": "stream",
     "text": [
      "/home/pranjal/venv/lib/python3.6/site-packages/sklearn_extra/cluster/_k_medoids.py:279: UserWarning:\n",
      "\n",
      "Cluster 1 is empty! self.labels_[self.medoid_indices_[1]] may not be labeled with its corresponding cluster (1).\n",
      "\n",
      "/home/pranjal/venv/lib/python3.6/site-packages/sklearn_extra/cluster/_k_medoids.py:279: UserWarning:\n",
      "\n",
      "Cluster 1 is empty! self.labels_[self.medoid_indices_[1]] may not be labeled with its corresponding cluster (1).\n",
      "\n"
     ]
    },
    {
     "name": "stdout",
     "output_type": "stream",
     "text": [
      "2980\n"
     ]
    },
    {
     "name": "stderr",
     "output_type": "stream",
     "text": [
      "/home/pranjal/venv/lib/python3.6/site-packages/sklearn_extra/cluster/_k_medoids.py:279: UserWarning:\n",
      "\n",
      "Cluster 1 is empty! self.labels_[self.medoid_indices_[1]] may not be labeled with its corresponding cluster (1).\n",
      "\n",
      "/home/pranjal/venv/lib/python3.6/site-packages/sklearn_extra/cluster/_k_medoids.py:279: UserWarning:\n",
      "\n",
      "Cluster 1 is empty! self.labels_[self.medoid_indices_[1]] may not be labeled with its corresponding cluster (1).\n",
      "\n"
     ]
    },
    {
     "name": "stdout",
     "output_type": "stream",
     "text": [
      "2985\n"
     ]
    },
    {
     "name": "stderr",
     "output_type": "stream",
     "text": [
      "/home/pranjal/venv/lib/python3.6/site-packages/sklearn_extra/cluster/_k_medoids.py:279: UserWarning:\n",
      "\n",
      "Cluster 1 is empty! self.labels_[self.medoid_indices_[1]] may not be labeled with its corresponding cluster (1).\n",
      "\n"
     ]
    },
    {
     "name": "stdout",
     "output_type": "stream",
     "text": [
      "Performing clustering post-attack...\n",
      "Pre-attack cluster centers: \n",
      "[[ 0.94774 -0.18335 -0.31905]\n",
      " [-0.84155 -0.23065 -0.12489]]\n",
      "Pre-attack utility: \n",
      "0.3034526164358928\n",
      "Adversarial centers utility: \n",
      "0.04783773440489858\n",
      "Post attack utility\n",
      "0.04783773440489858\n",
      "Added samples: \n",
      "1490\n",
      "Ratio: (|X_aug| - |X|)/|X|\n",
      "0.9933333333333333\n"
     ]
    }
   ],
   "source": [
    "FA.main()"
   ]
  },
  {
   "cell_type": "code",
   "execution_count": null,
   "id": "201930b0-8935-4efe-acee-6265edf2f73d",
   "metadata": {},
   "outputs": [],
   "source": []
  },
  {
   "cell_type": "markdown",
   "id": "47fc80fb-d2a1-475a-9696-db4bad6f7f18",
   "metadata": {},
   "source": [
    "# Adult Dataset"
   ]
  },
  {
   "cell_type": "code",
   "execution_count": 9,
   "id": "29efd1ac-66c1-41ba-b702-af72433002cd",
   "metadata": {},
   "outputs": [],
   "source": [
    "adultm_X = pd.read_csv(\"datafiles/data_adultm.csv\", header=None)"
   ]
  },
  {
   "cell_type": "code",
   "execution_count": 10,
   "id": "f18c6a69-b1bd-4cfb-babe-dbfeb0005f50",
   "metadata": {},
   "outputs": [
    {
     "data": {
      "text/plain": [
       "(10000, 5)"
      ]
     },
     "execution_count": 10,
     "metadata": {},
     "output_type": "execute_result"
    }
   ],
   "source": [
    "adultm_X = np.array(adultm_X)\n",
    "adultm_X.shape"
   ]
  },
  {
   "cell_type": "code",
   "execution_count": 23,
   "id": "3be9f678-2703-4ec1-9c5a-45c8bdcc3f31",
   "metadata": {},
   "outputs": [],
   "source": [
    "adultm_S = np.array(pd.read_csv(\"datafiles/groups_adultm.csv\", header=None))[0]"
   ]
  },
  {
   "cell_type": "code",
   "execution_count": 24,
   "id": "29a38aa0-023c-476c-a1b2-dc5d113aa59d",
   "metadata": {},
   "outputs": [
    {
     "data": {
      "text/plain": [
       "array([1, 1, 3, ..., 5, 4, 2])"
      ]
     },
     "execution_count": 24,
     "metadata": {},
     "output_type": "execute_result"
    }
   ],
   "source": [
    "adultm_S"
   ]
  },
  {
   "cell_type": "code",
   "execution_count": 25,
   "id": "cbface70-c255-4887-b9e8-eb1ea4004eb1",
   "metadata": {},
   "outputs": [],
   "source": [
    "num_samples = 1500\n",
    "idx = [x for x in range(len(adultm_S))]\n",
    "random.shuffle(idx)\n",
    "select_idx = idx[:num_samples]\n",
    "\n",
    "X = adultm_X[select_idx]\n",
    "S = adultm_S[select_idx]"
   ]
  },
  {
   "cell_type": "code",
   "execution_count": 26,
   "id": "d53702d6-2cf7-4335-8e55-5643d75d1895",
   "metadata": {},
   "outputs": [
    {
     "data": {
      "text/plain": [
       "(1500, 5)"
      ]
     },
     "execution_count": 26,
     "metadata": {},
     "output_type": "execute_result"
    }
   ],
   "source": [
    "X.shape"
   ]
  },
  {
   "cell_type": "code",
   "execution_count": 27,
   "id": "071af6a0-836e-4b70-bb01-195a1b531acb",
   "metadata": {},
   "outputs": [],
   "source": [
    "FA = FairnessAttack(4, X, S, 20, 10)"
   ]
  },
  {
   "cell_type": "code",
   "execution_count": 28,
   "id": "7d5200f4-f8b7-4e9e-a109-2dd8c947b3f4",
   "metadata": {},
   "outputs": [
    {
     "name": "stdout",
     "output_type": "stream",
     "text": [
      "Performing clustering pre-attack...\n",
      "Obtaining adversarial cluster centers...\n",
      "{3: 0.30533333333333335, 5: 0.03133333333333333, 1: 0.5253333333333333, 2: 0.11266666666666666, 4: 0.025333333333333333}\n",
      "new centers [[-0.76407   -0.72365    0.019422  -0.13846    0.0081889]\n",
      " [-0.99005    0.98      -0.37057   -0.13846   -0.3316   ]\n",
      " [-0.086142   0.1693     0.019422  -0.13846    0.0081889]\n",
      " [ 1.1191    -0.26711    0.019422  -0.13846    0.0081889]]\n",
      "adv centers [[-1.216     -1.4531    -0.37057   -0.13846   -1.5209   ]\n",
      " [-1.2914     0.80874   -0.37057   -0.13846    0.0081889]\n",
      " [-0.5381     0.97094    0.019422  -0.13846    0.0081889]\n",
      " [ 1.2697    -1.4852     1.5794    -0.13846    0.0081889]]\n",
      "1500\n"
     ]
    },
    {
     "name": "stderr",
     "output_type": "stream",
     "text": [
      "/mnt/c/Users/dhaka/Documents/semester3/849/FairnessTSAdvClustering/src/attack.py:144: FutureWarning:\n",
      "\n",
      "Using a non-tuple sequence for multidimensional indexing is deprecated; use `arr[tuple(seq)]` instead of `arr[seq]`. In the future this will be interpreted as an array index, `arr[np.array(seq)]`, which will result either in an error or a different result.\n",
      "\n"
     ]
    },
    {
     "name": "stdout",
     "output_type": "stream",
     "text": [
      "1580\n",
      "1660\n",
      "1740\n",
      "1820\n",
      "1880\n",
      "1940\n",
      "2000\n",
      "2040\n",
      "2100\n",
      "2160\n",
      "2220\n",
      "2280\n",
      "2340\n",
      "2400\n",
      "2420\n",
      "2440\n",
      "2480\n",
      "2540\n",
      "2560\n",
      "2600\n",
      "Performing clustering post-attack...\n",
      "Pre-attack cluster centers: \n",
      "[[-0.086142   0.1693     0.019422  -0.13846    0.0081889]\n",
      " [ 1.1191    -0.26711    0.019422  -0.13846    0.0081889]\n",
      " [-0.99005    0.98      -0.37057   -0.13846   -0.3316   ]\n",
      " [-0.76407   -0.72365    0.019422  -0.13846    0.0081889]]\n",
      "Pre-attack utility: \n",
      "0.2029495332160736\n",
      "Adversarial centers utility: \n",
      "0.05536281095445486\n",
      "Post attack utility\n",
      "0.05536281095445486\n",
      "Added samples: \n",
      "1120\n",
      "Ratio: (|X_aug| - |X|)/|X|\n",
      "0.7466666666666667\n"
     ]
    }
   ],
   "source": [
    "FA.main()"
   ]
  },
  {
   "cell_type": "code",
   "execution_count": 21,
   "id": "784500f3-fc16-4bd8-8277-9a7f7d6b0c36",
   "metadata": {},
   "outputs": [],
   "source": [
    "FA = FairnessAttack(2, X, S, 20, 10)"
   ]
  },
  {
   "cell_type": "code",
   "execution_count": 22,
   "id": "8b5b3951-7ffe-407c-af94-114b05a478d6",
   "metadata": {},
   "outputs": [
    {
     "name": "stdout",
     "output_type": "stream",
     "text": [
      "Performing clustering pre-attack...\n",
      "Obtaining adversarial cluster centers...\n",
      "{3: 0.2986666666666667, 1: 0.5333333333333333, 2: 0.114, 5: 0.028666666666666667, 4: 0.025333333333333333}\n",
      "new centers [[-0.68875    0.042234   0.019422  -0.13846   -0.1617   ]\n",
      " [ 0.81776   -0.25041    0.019422  -0.13846    0.0081889]]\n",
      "adv centers [[-1.442     -0.64852    0.019422  -0.13846    0.0081889]\n",
      " [-0.68875    3.9564    -0.37057   -0.13846    0.0081889]]\n",
      "1500\n",
      "1540\n"
     ]
    },
    {
     "name": "stderr",
     "output_type": "stream",
     "text": [
      "/mnt/c/Users/dhaka/Documents/semester3/849/FairnessTSAdvClustering/src/attack.py:144: FutureWarning:\n",
      "\n",
      "Using a non-tuple sequence for multidimensional indexing is deprecated; use `arr[tuple(seq)]` instead of `arr[seq]`. In the future this will be interpreted as an array index, `arr[np.array(seq)]`, which will result either in an error or a different result.\n",
      "\n"
     ]
    },
    {
     "name": "stdout",
     "output_type": "stream",
     "text": [
      "1580\n",
      "1620\n",
      "1660\n",
      "1700\n",
      "1740\n",
      "1780\n",
      "1820\n",
      "1860\n",
      "1900\n",
      "1920\n",
      "1960\n",
      "1980\n",
      "2000\n",
      "2020\n",
      "2040\n",
      "2060\n",
      "2100\n",
      "2140\n",
      "2160\n",
      "2200\n",
      "2220\n",
      "2240\n",
      "2280\n",
      "2320\n",
      "2360\n",
      "2380\n",
      "2400\n",
      "2420\n",
      "2440\n",
      "2460\n",
      "2480\n",
      "2500\n",
      "2520\n",
      "2540\n",
      "2560\n",
      "2580\n",
      "2600\n",
      "2620\n",
      "2640\n",
      "2660\n",
      "2680\n",
      "2700\n",
      "2720\n",
      "2740\n",
      "2760\n",
      "Performing clustering post-attack...\n",
      "Pre-attack cluster centers: \n",
      "[[ 0.81776   -0.25041    0.019422  -0.13846    0.0081889]\n",
      " [-0.68875    0.042234   0.019422  -0.13846   -0.1617   ]]\n",
      "Pre-attack utility: \n",
      "0.6023088505939435\n",
      "Adversarial centers utility: \n",
      "0.07371369600471767\n",
      "Post attack utility\n",
      "0.07371369600471767\n",
      "Added samples: \n",
      "1280\n",
      "Ratio: (|X_aug| - |X|)/|X|\n",
      "0.8533333333333334\n"
     ]
    }
   ],
   "source": [
    "FA.main()"
   ]
  },
  {
   "cell_type": "code",
   "execution_count": null,
   "id": "278162a9-7d45-4d57-aef5-a5ac3dca5d84",
   "metadata": {},
   "outputs": [],
   "source": []
  },
  {
   "cell_type": "code",
   "execution_count": null,
   "id": "0cb400b4-030c-4fd6-be1d-2dcd3ca05cdc",
   "metadata": {},
   "outputs": [],
   "source": []
  },
  {
   "cell_type": "code",
   "execution_count": 13,
   "id": "b350ccd2-7e9b-4c99-a612-bb67f9179897",
   "metadata": {},
   "outputs": [],
   "source": [
    "FA = FairnessAttack(3, X, S, 40, 10)"
   ]
  },
  {
   "cell_type": "code",
   "execution_count": 14,
   "id": "c2be78da-431f-47ea-9886-f5dd2f8727c6",
   "metadata": {
    "tags": []
   },
   "outputs": [
    {
     "name": "stdout",
     "output_type": "stream",
     "text": [
      "Performing clustering pre-attack...\n",
      "Obtaining adversarial cluster centers...\n",
      "{3: 0.31266666666666665, 1: 0.52, 2: 0.11066666666666666, 5: 0.026, 4: 0.030666666666666665}\n",
      "new centers [[-0.38744   -0.76889    0.019422  -0.13846    0.0081889]\n",
      " [-0.61342    0.69588    0.019422  -0.13846    0.0081889]\n",
      " [ 1.1191    -0.20618    0.019422  -0.13846    0.0081889]]\n",
      "adv centers [[-1.0654    -0.53599   -0.37057   -0.13846    0.0081889]\n",
      " [-0.61342    2.0851    -1.1506    -0.13846   -1.7757   ]\n",
      " [-0.23679   -1.0533     1.5794    -0.13846    0.0081889]]\n",
      "1500\n"
     ]
    },
    {
     "name": "stderr",
     "output_type": "stream",
     "text": [
      "/mnt/c/Users/dhaka/Documents/semester3/849/FairnessTSAdvClustering/src/attack.py:144: FutureWarning:\n",
      "\n",
      "Using a non-tuple sequence for multidimensional indexing is deprecated; use `arr[tuple(seq)]` instead of `arr[seq]`. In the future this will be interpreted as an array index, `arr[np.array(seq)]`, which will result either in an error or a different result.\n",
      "\n"
     ]
    },
    {
     "name": "stdout",
     "output_type": "stream",
     "text": [
      "1620\n",
      "1700\n",
      "1820\n",
      "1940\n",
      "2060\n",
      "2140\n",
      "2260\n",
      "2380\n",
      "2460\n",
      "2500\n",
      "2540\n",
      "2620\n",
      "Performing clustering post-attack...\n",
      "Pre-attack cluster centers: \n",
      "[[-0.38744   -0.76889    0.019422  -0.13846    0.0081889]\n",
      " [-0.61342    0.69588    0.019422  -0.13846    0.0081889]\n",
      " [ 1.1191    -0.20618    0.019422  -0.13846    0.0081889]]\n",
      "Pre-attack utility: \n",
      "0.37409593482417497\n",
      "Adversarial centers utility: \n",
      "0.05543646980560278\n",
      "Post attack utility\n",
      "0.05543646980560278\n",
      "Added samples: \n",
      "1160\n",
      "Ratio: (|X_aug| - |X|)/|X|\n",
      "0.7733333333333333\n"
     ]
    }
   ],
   "source": [
    "FA.main()"
   ]
  },
  {
   "cell_type": "code",
   "execution_count": null,
   "id": "e97146d1-bc8c-4eb5-87a6-f3dd23a66349",
   "metadata": {},
   "outputs": [],
   "source": []
  },
  {
   "cell_type": "markdown",
   "id": "3dcc69ae-ffcd-4b53-a032-27696317da96",
   "metadata": {
    "tags": []
   },
   "source": [
    "# ADL results"
   ]
  },
  {
   "cell_type": "code",
   "execution_count": null,
   "id": "2c692d3e-3fb8-496c-90fb-e9d6c5342a0f",
   "metadata": {},
   "outputs": [],
   "source": [
    "data_path = \"/mnt/c/Users/dhaka/Documents/healthylife/accelerometer_dataset/ADL_Dataset/HMP_Dataset\""
   ]
  },
  {
   "cell_type": "code",
   "execution_count": 5,
   "id": "1a7962b5-11ff-49b7-9410-df4a6206c671",
   "metadata": {},
   "outputs": [],
   "source": [
    "DL = ADLDataLoader(data_path)"
   ]
  },
  {
   "cell_type": "code",
   "execution_count": 6,
   "id": "260a7701-79b5-4045-b809-fa3add8e7bce",
   "metadata": {},
   "outputs": [
    {
     "name": "stderr",
     "output_type": "stream",
     "text": [
      "979it [00:07, 128.67it/s]\n"
     ]
    }
   ],
   "source": [
    "DL.load_data()"
   ]
  },
  {
   "cell_type": "code",
   "execution_count": 44,
   "id": "cdb0229e-dc27-4ffe-847c-905d85ecd55f",
   "metadata": {},
   "outputs": [],
   "source": [
    "DL.data_samples_mod = np.reshape(DL.data_samples,(len(DL.data_samples),-1))"
   ]
  },
  {
   "cell_type": "code",
   "execution_count": 45,
   "id": "a27dd556-eb65-472d-92d6-fc028faddfd9",
   "metadata": {},
   "outputs": [
    {
     "data": {
      "text/plain": [
       "(4455, 288)"
      ]
     },
     "execution_count": 45,
     "metadata": {},
     "output_type": "execute_result"
    }
   ],
   "source": [
    "DL.data_samples_mod.shape"
   ]
  },
  {
   "cell_type": "code",
   "execution_count": 46,
   "id": "eab513cf-f8a7-435f-a89d-4a3957923d3a",
   "metadata": {},
   "outputs": [],
   "source": [
    "num_samples = 1000\n",
    "idx = [x for x in range(len(DL.data_samples))]\n",
    "random.shuffle(idx)\n",
    "select_idx = idx[:num_samples]\n",
    "\n",
    "X = DL.data_samples_mod[select_idx]\n",
    "S = DL.genders[select_idx]"
   ]
  },
  {
   "cell_type": "code",
   "execution_count": 47,
   "id": "aed3a49b-db5d-4666-a117-42a52f767836",
   "metadata": {},
   "outputs": [
    {
     "data": {
      "text/plain": [
       "(1000, 288)"
      ]
     },
     "execution_count": 47,
     "metadata": {},
     "output_type": "execute_result"
    }
   ],
   "source": [
    "X.shape"
   ]
  },
  {
   "cell_type": "code",
   "execution_count": 48,
   "id": "b0841beb-ef13-4862-8e4e-0e0614e8a67e",
   "metadata": {},
   "outputs": [],
   "source": [
    "FA = FairnessAttack(4, X,S, 20, 10)"
   ]
  },
  {
   "cell_type": "code",
   "execution_count": 49,
   "id": "e177f234-680e-4312-8f73-cca56df3f8c2",
   "metadata": {},
   "outputs": [
    {
     "name": "stdout",
     "output_type": "stream",
     "text": [
      "Performing clustering pre-attack...\n",
      "Obtaining adversarial cluster centers...\n",
      "{0.0: 0.631, 1.0: 0.369}\n",
      "new centers [[0.20634921 0.6031746  0.5555556  ... 0.17460318 0.5873016  0.5714286 ]\n",
      " [0.36507937 0.7777778  0.5873016  ... 0.42857143 0.8095238  0.47619048]\n",
      " [0.53968257 0.5714286  0.84126985 ... 0.52380955 0.5714286  0.82539684]\n",
      " [0.50793654 0.74603176 0.74603176 ... 0.50793654 0.74603176 0.74603176]]\n",
      "adv centers [[0.74603176 0.4920635  0.5555556  ... 0.3809524  0.7619048  0.8095238 ]\n",
      " [0.4920635  0.63492066 0.8095238  ... 0.6825397  0.3809524  0.74603176]\n",
      " [0.5873016  0.5873016  0.82539684 ... 0.6031746  0.61904764 0.8095238 ]\n",
      " [0.3968254  0.8095238  0.85714287 ... 0.5555556  0.73015875 0.7619048 ]]\n",
      "1000\n",
      "1080\n"
     ]
    },
    {
     "name": "stderr",
     "output_type": "stream",
     "text": [
      "/mnt/c/Users/dhaka/Documents/semester3/849/FairnessTSAdvClustering/src/attack.py:144: FutureWarning:\n",
      "\n",
      "Using a non-tuple sequence for multidimensional indexing is deprecated; use `arr[tuple(seq)]` instead of `arr[seq]`. In the future this will be interpreted as an array index, `arr[np.array(seq)]`, which will result either in an error or a different result.\n",
      "\n"
     ]
    },
    {
     "name": "stdout",
     "output_type": "stream",
     "text": [
      "1160\n",
      "1240\n",
      "1280\n",
      "1340\n",
      "1380\n",
      "1440\n",
      "1520\n",
      "1600\n",
      "1620\n",
      "1640\n",
      "1660\n",
      "1720\n",
      "1780\n",
      "1820\n",
      "1880\n",
      "1940\n",
      "2020\n"
     ]
    },
    {
     "name": "stderr",
     "output_type": "stream",
     "text": [
      "/home/pranjal/venv/lib/python3.6/site-packages/sklearn_extra/cluster/_k_medoids.py:279: UserWarning:\n",
      "\n",
      "Cluster 3 is empty! self.labels_[self.medoid_indices_[3]] may not be labeled with its corresponding cluster (3).\n",
      "\n",
      "/home/pranjal/venv/lib/python3.6/site-packages/sklearn_extra/cluster/_k_medoids.py:279: UserWarning:\n",
      "\n",
      "Cluster 3 is empty! self.labels_[self.medoid_indices_[3]] may not be labeled with its corresponding cluster (3).\n",
      "\n",
      "/home/pranjal/venv/lib/python3.6/site-packages/sklearn_extra/cluster/_k_medoids.py:279: UserWarning:\n",
      "\n",
      "Cluster 3 is empty! self.labels_[self.medoid_indices_[3]] may not be labeled with its corresponding cluster (3).\n",
      "\n"
     ]
    },
    {
     "name": "stdout",
     "output_type": "stream",
     "text": [
      "2060\n"
     ]
    },
    {
     "name": "stderr",
     "output_type": "stream",
     "text": [
      "/home/pranjal/venv/lib/python3.6/site-packages/sklearn_extra/cluster/_k_medoids.py:279: UserWarning:\n",
      "\n",
      "Cluster 3 is empty! self.labels_[self.medoid_indices_[3]] may not be labeled with its corresponding cluster (3).\n",
      "\n",
      "/home/pranjal/venv/lib/python3.6/site-packages/sklearn_extra/cluster/_k_medoids.py:279: UserWarning:\n",
      "\n",
      "Cluster 3 is empty! self.labels_[self.medoid_indices_[3]] may not be labeled with its corresponding cluster (3).\n",
      "\n",
      "/home/pranjal/venv/lib/python3.6/site-packages/sklearn_extra/cluster/_k_medoids.py:279: UserWarning:\n",
      "\n",
      "Cluster 3 is empty! self.labels_[self.medoid_indices_[3]] may not be labeled with its corresponding cluster (3).\n",
      "\n",
      "/home/pranjal/venv/lib/python3.6/site-packages/sklearn_extra/cluster/_k_medoids.py:279: UserWarning:\n",
      "\n",
      "Cluster 3 is empty! self.labels_[self.medoid_indices_[3]] may not be labeled with its corresponding cluster (3).\n",
      "\n"
     ]
    },
    {
     "name": "stdout",
     "output_type": "stream",
     "text": [
      "2100\n"
     ]
    },
    {
     "name": "stderr",
     "output_type": "stream",
     "text": [
      "/home/pranjal/venv/lib/python3.6/site-packages/sklearn_extra/cluster/_k_medoids.py:279: UserWarning:\n",
      "\n",
      "Cluster 3 is empty! self.labels_[self.medoid_indices_[3]] may not be labeled with its corresponding cluster (3).\n",
      "\n",
      "/home/pranjal/venv/lib/python3.6/site-packages/sklearn_extra/cluster/_k_medoids.py:279: UserWarning:\n",
      "\n",
      "Cluster 3 is empty! self.labels_[self.medoid_indices_[3]] may not be labeled with its corresponding cluster (3).\n",
      "\n",
      "/home/pranjal/venv/lib/python3.6/site-packages/sklearn_extra/cluster/_k_medoids.py:279: UserWarning:\n",
      "\n",
      "Cluster 3 is empty! self.labels_[self.medoid_indices_[3]] may not be labeled with its corresponding cluster (3).\n",
      "\n",
      "/home/pranjal/venv/lib/python3.6/site-packages/sklearn_extra/cluster/_k_medoids.py:279: UserWarning:\n",
      "\n",
      "Cluster 2 is empty! self.labels_[self.medoid_indices_[2]] may not be labeled with its corresponding cluster (2).\n",
      "\n",
      "/home/pranjal/venv/lib/python3.6/site-packages/sklearn_extra/cluster/_k_medoids.py:279: UserWarning:\n",
      "\n",
      "Cluster 3 is empty! self.labels_[self.medoid_indices_[3]] may not be labeled with its corresponding cluster (3).\n",
      "\n"
     ]
    },
    {
     "name": "stdout",
     "output_type": "stream",
     "text": [
      "2140\n"
     ]
    },
    {
     "name": "stderr",
     "output_type": "stream",
     "text": [
      "/home/pranjal/venv/lib/python3.6/site-packages/sklearn_extra/cluster/_k_medoids.py:279: UserWarning:\n",
      "\n",
      "Cluster 1 is empty! self.labels_[self.medoid_indices_[1]] may not be labeled with its corresponding cluster (1).\n",
      "\n",
      "/home/pranjal/venv/lib/python3.6/site-packages/sklearn_extra/cluster/_k_medoids.py:279: UserWarning:\n",
      "\n",
      "Cluster 2 is empty! self.labels_[self.medoid_indices_[2]] may not be labeled with its corresponding cluster (2).\n",
      "\n",
      "/home/pranjal/venv/lib/python3.6/site-packages/sklearn_extra/cluster/_k_medoids.py:279: UserWarning:\n",
      "\n",
      "Cluster 3 is empty! self.labels_[self.medoid_indices_[3]] may not be labeled with its corresponding cluster (3).\n",
      "\n",
      "/home/pranjal/venv/lib/python3.6/site-packages/sklearn_extra/cluster/_k_medoids.py:279: UserWarning:\n",
      "\n",
      "Cluster 1 is empty! self.labels_[self.medoid_indices_[1]] may not be labeled with its corresponding cluster (1).\n",
      "\n",
      "/home/pranjal/venv/lib/python3.6/site-packages/sklearn_extra/cluster/_k_medoids.py:279: UserWarning:\n",
      "\n",
      "Cluster 2 is empty! self.labels_[self.medoid_indices_[2]] may not be labeled with its corresponding cluster (2).\n",
      "\n",
      "/home/pranjal/venv/lib/python3.6/site-packages/sklearn_extra/cluster/_k_medoids.py:279: UserWarning:\n",
      "\n",
      "Cluster 3 is empty! self.labels_[self.medoid_indices_[3]] may not be labeled with its corresponding cluster (3).\n",
      "\n",
      "/home/pranjal/venv/lib/python3.6/site-packages/sklearn_extra/cluster/_k_medoids.py:279: UserWarning:\n",
      "\n",
      "Cluster 1 is empty! self.labels_[self.medoid_indices_[1]] may not be labeled with its corresponding cluster (1).\n",
      "\n",
      "/home/pranjal/venv/lib/python3.6/site-packages/sklearn_extra/cluster/_k_medoids.py:279: UserWarning:\n",
      "\n",
      "Cluster 2 is empty! self.labels_[self.medoid_indices_[2]] may not be labeled with its corresponding cluster (2).\n",
      "\n",
      "/home/pranjal/venv/lib/python3.6/site-packages/sklearn_extra/cluster/_k_medoids.py:279: UserWarning:\n",
      "\n",
      "Cluster 3 is empty! self.labels_[self.medoid_indices_[3]] may not be labeled with its corresponding cluster (3).\n",
      "\n",
      "/home/pranjal/venv/lib/python3.6/site-packages/sklearn_extra/cluster/_k_medoids.py:279: UserWarning:\n",
      "\n",
      "Cluster 1 is empty! self.labels_[self.medoid_indices_[1]] may not be labeled with its corresponding cluster (1).\n",
      "\n",
      "/home/pranjal/venv/lib/python3.6/site-packages/sklearn_extra/cluster/_k_medoids.py:279: UserWarning:\n",
      "\n",
      "Cluster 2 is empty! self.labels_[self.medoid_indices_[2]] may not be labeled with its corresponding cluster (2).\n",
      "\n",
      "/home/pranjal/venv/lib/python3.6/site-packages/sklearn_extra/cluster/_k_medoids.py:279: UserWarning:\n",
      "\n",
      "Cluster 3 is empty! self.labels_[self.medoid_indices_[3]] may not be labeled with its corresponding cluster (3).\n",
      "\n"
     ]
    },
    {
     "name": "stdout",
     "output_type": "stream",
     "text": [
      "2200\n"
     ]
    },
    {
     "name": "stderr",
     "output_type": "stream",
     "text": [
      "/home/pranjal/venv/lib/python3.6/site-packages/sklearn_extra/cluster/_k_medoids.py:279: UserWarning:\n",
      "\n",
      "Cluster 1 is empty! self.labels_[self.medoid_indices_[1]] may not be labeled with its corresponding cluster (1).\n",
      "\n",
      "/home/pranjal/venv/lib/python3.6/site-packages/sklearn_extra/cluster/_k_medoids.py:279: UserWarning:\n",
      "\n",
      "Cluster 2 is empty! self.labels_[self.medoid_indices_[2]] may not be labeled with its corresponding cluster (2).\n",
      "\n",
      "/home/pranjal/venv/lib/python3.6/site-packages/sklearn_extra/cluster/_k_medoids.py:279: UserWarning:\n",
      "\n",
      "Cluster 3 is empty! self.labels_[self.medoid_indices_[3]] may not be labeled with its corresponding cluster (3).\n",
      "\n",
      "/home/pranjal/venv/lib/python3.6/site-packages/sklearn_extra/cluster/_k_medoids.py:279: UserWarning:\n",
      "\n",
      "Cluster 1 is empty! self.labels_[self.medoid_indices_[1]] may not be labeled with its corresponding cluster (1).\n",
      "\n",
      "/home/pranjal/venv/lib/python3.6/site-packages/sklearn_extra/cluster/_k_medoids.py:279: UserWarning:\n",
      "\n",
      "Cluster 2 is empty! self.labels_[self.medoid_indices_[2]] may not be labeled with its corresponding cluster (2).\n",
      "\n",
      "/home/pranjal/venv/lib/python3.6/site-packages/sklearn_extra/cluster/_k_medoids.py:279: UserWarning:\n",
      "\n",
      "Cluster 3 is empty! self.labels_[self.medoid_indices_[3]] may not be labeled with its corresponding cluster (3).\n",
      "\n",
      "/home/pranjal/venv/lib/python3.6/site-packages/sklearn_extra/cluster/_k_medoids.py:279: UserWarning:\n",
      "\n",
      "Cluster 1 is empty! self.labels_[self.medoid_indices_[1]] may not be labeled with its corresponding cluster (1).\n",
      "\n",
      "/home/pranjal/venv/lib/python3.6/site-packages/sklearn_extra/cluster/_k_medoids.py:279: UserWarning:\n",
      "\n",
      "Cluster 2 is empty! self.labels_[self.medoid_indices_[2]] may not be labeled with its corresponding cluster (2).\n",
      "\n",
      "/home/pranjal/venv/lib/python3.6/site-packages/sklearn_extra/cluster/_k_medoids.py:279: UserWarning:\n",
      "\n",
      "Cluster 3 is empty! self.labels_[self.medoid_indices_[3]] may not be labeled with its corresponding cluster (3).\n",
      "\n",
      "/home/pranjal/venv/lib/python3.6/site-packages/sklearn_extra/cluster/_k_medoids.py:279: UserWarning:\n",
      "\n",
      "Cluster 1 is empty! self.labels_[self.medoid_indices_[1]] may not be labeled with its corresponding cluster (1).\n",
      "\n",
      "/home/pranjal/venv/lib/python3.6/site-packages/sklearn_extra/cluster/_k_medoids.py:279: UserWarning:\n",
      "\n",
      "Cluster 2 is empty! self.labels_[self.medoid_indices_[2]] may not be labeled with its corresponding cluster (2).\n",
      "\n",
      "/home/pranjal/venv/lib/python3.6/site-packages/sklearn_extra/cluster/_k_medoids.py:279: UserWarning:\n",
      "\n",
      "Cluster 3 is empty! self.labels_[self.medoid_indices_[3]] may not be labeled with its corresponding cluster (3).\n",
      "\n"
     ]
    },
    {
     "name": "stdout",
     "output_type": "stream",
     "text": [
      "2260\n"
     ]
    },
    {
     "name": "stderr",
     "output_type": "stream",
     "text": [
      "/home/pranjal/venv/lib/python3.6/site-packages/sklearn_extra/cluster/_k_medoids.py:279: UserWarning:\n",
      "\n",
      "Cluster 1 is empty! self.labels_[self.medoid_indices_[1]] may not be labeled with its corresponding cluster (1).\n",
      "\n",
      "/home/pranjal/venv/lib/python3.6/site-packages/sklearn_extra/cluster/_k_medoids.py:279: UserWarning:\n",
      "\n",
      "Cluster 2 is empty! self.labels_[self.medoid_indices_[2]] may not be labeled with its corresponding cluster (2).\n",
      "\n",
      "/home/pranjal/venv/lib/python3.6/site-packages/sklearn_extra/cluster/_k_medoids.py:279: UserWarning:\n",
      "\n",
      "Cluster 3 is empty! self.labels_[self.medoid_indices_[3]] may not be labeled with its corresponding cluster (3).\n",
      "\n",
      "/home/pranjal/venv/lib/python3.6/site-packages/sklearn_extra/cluster/_k_medoids.py:279: UserWarning:\n",
      "\n",
      "Cluster 1 is empty! self.labels_[self.medoid_indices_[1]] may not be labeled with its corresponding cluster (1).\n",
      "\n",
      "/home/pranjal/venv/lib/python3.6/site-packages/sklearn_extra/cluster/_k_medoids.py:279: UserWarning:\n",
      "\n",
      "Cluster 2 is empty! self.labels_[self.medoid_indices_[2]] may not be labeled with its corresponding cluster (2).\n",
      "\n",
      "/home/pranjal/venv/lib/python3.6/site-packages/sklearn_extra/cluster/_k_medoids.py:279: UserWarning:\n",
      "\n",
      "Cluster 3 is empty! self.labels_[self.medoid_indices_[3]] may not be labeled with its corresponding cluster (3).\n",
      "\n",
      "/home/pranjal/venv/lib/python3.6/site-packages/sklearn_extra/cluster/_k_medoids.py:279: UserWarning:\n",
      "\n",
      "Cluster 1 is empty! self.labels_[self.medoid_indices_[1]] may not be labeled with its corresponding cluster (1).\n",
      "\n",
      "/home/pranjal/venv/lib/python3.6/site-packages/sklearn_extra/cluster/_k_medoids.py:279: UserWarning:\n",
      "\n",
      "Cluster 2 is empty! self.labels_[self.medoid_indices_[2]] may not be labeled with its corresponding cluster (2).\n",
      "\n",
      "/home/pranjal/venv/lib/python3.6/site-packages/sklearn_extra/cluster/_k_medoids.py:279: UserWarning:\n",
      "\n",
      "Cluster 3 is empty! self.labels_[self.medoid_indices_[3]] may not be labeled with its corresponding cluster (3).\n",
      "\n",
      "/home/pranjal/venv/lib/python3.6/site-packages/sklearn_extra/cluster/_k_medoids.py:279: UserWarning:\n",
      "\n",
      "Cluster 1 is empty! self.labels_[self.medoid_indices_[1]] may not be labeled with its corresponding cluster (1).\n",
      "\n",
      "/home/pranjal/venv/lib/python3.6/site-packages/sklearn_extra/cluster/_k_medoids.py:279: UserWarning:\n",
      "\n",
      "Cluster 2 is empty! self.labels_[self.medoid_indices_[2]] may not be labeled with its corresponding cluster (2).\n",
      "\n",
      "/home/pranjal/venv/lib/python3.6/site-packages/sklearn_extra/cluster/_k_medoids.py:279: UserWarning:\n",
      "\n",
      "Cluster 3 is empty! self.labels_[self.medoid_indices_[3]] may not be labeled with its corresponding cluster (3).\n",
      "\n"
     ]
    },
    {
     "name": "stdout",
     "output_type": "stream",
     "text": [
      "2320\n"
     ]
    },
    {
     "name": "stderr",
     "output_type": "stream",
     "text": [
      "/home/pranjal/venv/lib/python3.6/site-packages/sklearn_extra/cluster/_k_medoids.py:279: UserWarning:\n",
      "\n",
      "Cluster 1 is empty! self.labels_[self.medoid_indices_[1]] may not be labeled with its corresponding cluster (1).\n",
      "\n",
      "/home/pranjal/venv/lib/python3.6/site-packages/sklearn_extra/cluster/_k_medoids.py:279: UserWarning:\n",
      "\n",
      "Cluster 2 is empty! self.labels_[self.medoid_indices_[2]] may not be labeled with its corresponding cluster (2).\n",
      "\n",
      "/home/pranjal/venv/lib/python3.6/site-packages/sklearn_extra/cluster/_k_medoids.py:279: UserWarning:\n",
      "\n",
      "Cluster 3 is empty! self.labels_[self.medoid_indices_[3]] may not be labeled with its corresponding cluster (3).\n",
      "\n",
      "/home/pranjal/venv/lib/python3.6/site-packages/sklearn_extra/cluster/_k_medoids.py:279: UserWarning:\n",
      "\n",
      "Cluster 1 is empty! self.labels_[self.medoid_indices_[1]] may not be labeled with its corresponding cluster (1).\n",
      "\n",
      "/home/pranjal/venv/lib/python3.6/site-packages/sklearn_extra/cluster/_k_medoids.py:279: UserWarning:\n",
      "\n",
      "Cluster 2 is empty! self.labels_[self.medoid_indices_[2]] may not be labeled with its corresponding cluster (2).\n",
      "\n",
      "/home/pranjal/venv/lib/python3.6/site-packages/sklearn_extra/cluster/_k_medoids.py:279: UserWarning:\n",
      "\n",
      "Cluster 3 is empty! self.labels_[self.medoid_indices_[3]] may not be labeled with its corresponding cluster (3).\n",
      "\n",
      "/home/pranjal/venv/lib/python3.6/site-packages/sklearn_extra/cluster/_k_medoids.py:279: UserWarning:\n",
      "\n",
      "Cluster 1 is empty! self.labels_[self.medoid_indices_[1]] may not be labeled with its corresponding cluster (1).\n",
      "\n",
      "/home/pranjal/venv/lib/python3.6/site-packages/sklearn_extra/cluster/_k_medoids.py:279: UserWarning:\n",
      "\n",
      "Cluster 2 is empty! self.labels_[self.medoid_indices_[2]] may not be labeled with its corresponding cluster (2).\n",
      "\n",
      "/home/pranjal/venv/lib/python3.6/site-packages/sklearn_extra/cluster/_k_medoids.py:279: UserWarning:\n",
      "\n",
      "Cluster 3 is empty! self.labels_[self.medoid_indices_[3]] may not be labeled with its corresponding cluster (3).\n",
      "\n",
      "/home/pranjal/venv/lib/python3.6/site-packages/sklearn_extra/cluster/_k_medoids.py:279: UserWarning:\n",
      "\n",
      "Cluster 1 is empty! self.labels_[self.medoid_indices_[1]] may not be labeled with its corresponding cluster (1).\n",
      "\n",
      "/home/pranjal/venv/lib/python3.6/site-packages/sklearn_extra/cluster/_k_medoids.py:279: UserWarning:\n",
      "\n",
      "Cluster 2 is empty! self.labels_[self.medoid_indices_[2]] may not be labeled with its corresponding cluster (2).\n",
      "\n",
      "/home/pranjal/venv/lib/python3.6/site-packages/sklearn_extra/cluster/_k_medoids.py:279: UserWarning:\n",
      "\n",
      "Cluster 3 is empty! self.labels_[self.medoid_indices_[3]] may not be labeled with its corresponding cluster (3).\n",
      "\n"
     ]
    },
    {
     "name": "stdout",
     "output_type": "stream",
     "text": [
      "2380\n"
     ]
    },
    {
     "name": "stderr",
     "output_type": "stream",
     "text": [
      "/home/pranjal/venv/lib/python3.6/site-packages/sklearn_extra/cluster/_k_medoids.py:279: UserWarning:\n",
      "\n",
      "Cluster 1 is empty! self.labels_[self.medoid_indices_[1]] may not be labeled with its corresponding cluster (1).\n",
      "\n",
      "/home/pranjal/venv/lib/python3.6/site-packages/sklearn_extra/cluster/_k_medoids.py:279: UserWarning:\n",
      "\n",
      "Cluster 2 is empty! self.labels_[self.medoid_indices_[2]] may not be labeled with its corresponding cluster (2).\n",
      "\n",
      "/home/pranjal/venv/lib/python3.6/site-packages/sklearn_extra/cluster/_k_medoids.py:279: UserWarning:\n",
      "\n",
      "Cluster 3 is empty! self.labels_[self.medoid_indices_[3]] may not be labeled with its corresponding cluster (3).\n",
      "\n",
      "/home/pranjal/venv/lib/python3.6/site-packages/sklearn_extra/cluster/_k_medoids.py:279: UserWarning:\n",
      "\n",
      "Cluster 1 is empty! self.labels_[self.medoid_indices_[1]] may not be labeled with its corresponding cluster (1).\n",
      "\n",
      "/home/pranjal/venv/lib/python3.6/site-packages/sklearn_extra/cluster/_k_medoids.py:279: UserWarning:\n",
      "\n",
      "Cluster 2 is empty! self.labels_[self.medoid_indices_[2]] may not be labeled with its corresponding cluster (2).\n",
      "\n",
      "/home/pranjal/venv/lib/python3.6/site-packages/sklearn_extra/cluster/_k_medoids.py:279: UserWarning:\n",
      "\n",
      "Cluster 3 is empty! self.labels_[self.medoid_indices_[3]] may not be labeled with its corresponding cluster (3).\n",
      "\n",
      "/home/pranjal/venv/lib/python3.6/site-packages/sklearn_extra/cluster/_k_medoids.py:279: UserWarning:\n",
      "\n",
      "Cluster 1 is empty! self.labels_[self.medoid_indices_[1]] may not be labeled with its corresponding cluster (1).\n",
      "\n",
      "/home/pranjal/venv/lib/python3.6/site-packages/sklearn_extra/cluster/_k_medoids.py:279: UserWarning:\n",
      "\n",
      "Cluster 2 is empty! self.labels_[self.medoid_indices_[2]] may not be labeled with its corresponding cluster (2).\n",
      "\n",
      "/home/pranjal/venv/lib/python3.6/site-packages/sklearn_extra/cluster/_k_medoids.py:279: UserWarning:\n",
      "\n",
      "Cluster 3 is empty! self.labels_[self.medoid_indices_[3]] may not be labeled with its corresponding cluster (3).\n",
      "\n",
      "/home/pranjal/venv/lib/python3.6/site-packages/sklearn_extra/cluster/_k_medoids.py:279: UserWarning:\n",
      "\n",
      "Cluster 2 is empty! self.labels_[self.medoid_indices_[2]] may not be labeled with its corresponding cluster (2).\n",
      "\n",
      "/home/pranjal/venv/lib/python3.6/site-packages/sklearn_extra/cluster/_k_medoids.py:279: UserWarning:\n",
      "\n",
      "Cluster 3 is empty! self.labels_[self.medoid_indices_[3]] may not be labeled with its corresponding cluster (3).\n",
      "\n"
     ]
    },
    {
     "name": "stdout",
     "output_type": "stream",
     "text": [
      "2440\n"
     ]
    },
    {
     "name": "stderr",
     "output_type": "stream",
     "text": [
      "/home/pranjal/venv/lib/python3.6/site-packages/sklearn_extra/cluster/_k_medoids.py:279: UserWarning:\n",
      "\n",
      "Cluster 2 is empty! self.labels_[self.medoid_indices_[2]] may not be labeled with its corresponding cluster (2).\n",
      "\n",
      "/home/pranjal/venv/lib/python3.6/site-packages/sklearn_extra/cluster/_k_medoids.py:279: UserWarning:\n",
      "\n",
      "Cluster 3 is empty! self.labels_[self.medoid_indices_[3]] may not be labeled with its corresponding cluster (3).\n",
      "\n",
      "/home/pranjal/venv/lib/python3.6/site-packages/sklearn_extra/cluster/_k_medoids.py:279: UserWarning:\n",
      "\n",
      "Cluster 2 is empty! self.labels_[self.medoid_indices_[2]] may not be labeled with its corresponding cluster (2).\n",
      "\n",
      "/home/pranjal/venv/lib/python3.6/site-packages/sklearn_extra/cluster/_k_medoids.py:279: UserWarning:\n",
      "\n",
      "Cluster 3 is empty! self.labels_[self.medoid_indices_[3]] may not be labeled with its corresponding cluster (3).\n",
      "\n",
      "/home/pranjal/venv/lib/python3.6/site-packages/sklearn_extra/cluster/_k_medoids.py:279: UserWarning:\n",
      "\n",
      "Cluster 1 is empty! self.labels_[self.medoid_indices_[1]] may not be labeled with its corresponding cluster (1).\n",
      "\n",
      "/home/pranjal/venv/lib/python3.6/site-packages/sklearn_extra/cluster/_k_medoids.py:279: UserWarning:\n",
      "\n",
      "Cluster 2 is empty! self.labels_[self.medoid_indices_[2]] may not be labeled with its corresponding cluster (2).\n",
      "\n",
      "/home/pranjal/venv/lib/python3.6/site-packages/sklearn_extra/cluster/_k_medoids.py:279: UserWarning:\n",
      "\n",
      "Cluster 3 is empty! self.labels_[self.medoid_indices_[3]] may not be labeled with its corresponding cluster (3).\n",
      "\n",
      "/home/pranjal/venv/lib/python3.6/site-packages/sklearn_extra/cluster/_k_medoids.py:279: UserWarning:\n",
      "\n",
      "Cluster 1 is empty! self.labels_[self.medoid_indices_[1]] may not be labeled with its corresponding cluster (1).\n",
      "\n",
      "/home/pranjal/venv/lib/python3.6/site-packages/sklearn_extra/cluster/_k_medoids.py:279: UserWarning:\n",
      "\n",
      "Cluster 2 is empty! self.labels_[self.medoid_indices_[2]] may not be labeled with its corresponding cluster (2).\n",
      "\n",
      "/home/pranjal/venv/lib/python3.6/site-packages/sklearn_extra/cluster/_k_medoids.py:279: UserWarning:\n",
      "\n",
      "Cluster 3 is empty! self.labels_[self.medoid_indices_[3]] may not be labeled with its corresponding cluster (3).\n",
      "\n"
     ]
    },
    {
     "name": "stdout",
     "output_type": "stream",
     "text": [
      "2520\n"
     ]
    },
    {
     "name": "stderr",
     "output_type": "stream",
     "text": [
      "/home/pranjal/venv/lib/python3.6/site-packages/sklearn_extra/cluster/_k_medoids.py:279: UserWarning:\n",
      "\n",
      "Cluster 1 is empty! self.labels_[self.medoid_indices_[1]] may not be labeled with its corresponding cluster (1).\n",
      "\n",
      "/home/pranjal/venv/lib/python3.6/site-packages/sklearn_extra/cluster/_k_medoids.py:279: UserWarning:\n",
      "\n",
      "Cluster 2 is empty! self.labels_[self.medoid_indices_[2]] may not be labeled with its corresponding cluster (2).\n",
      "\n",
      "/home/pranjal/venv/lib/python3.6/site-packages/sklearn_extra/cluster/_k_medoids.py:279: UserWarning:\n",
      "\n",
      "Cluster 3 is empty! self.labels_[self.medoid_indices_[3]] may not be labeled with its corresponding cluster (3).\n",
      "\n",
      "/home/pranjal/venv/lib/python3.6/site-packages/sklearn_extra/cluster/_k_medoids.py:279: UserWarning:\n",
      "\n",
      "Cluster 1 is empty! self.labels_[self.medoid_indices_[1]] may not be labeled with its corresponding cluster (1).\n",
      "\n",
      "/home/pranjal/venv/lib/python3.6/site-packages/sklearn_extra/cluster/_k_medoids.py:279: UserWarning:\n",
      "\n",
      "Cluster 2 is empty! self.labels_[self.medoid_indices_[2]] may not be labeled with its corresponding cluster (2).\n",
      "\n",
      "/home/pranjal/venv/lib/python3.6/site-packages/sklearn_extra/cluster/_k_medoids.py:279: UserWarning:\n",
      "\n",
      "Cluster 3 is empty! self.labels_[self.medoid_indices_[3]] may not be labeled with its corresponding cluster (3).\n",
      "\n",
      "/home/pranjal/venv/lib/python3.6/site-packages/sklearn_extra/cluster/_k_medoids.py:279: UserWarning:\n",
      "\n",
      "Cluster 1 is empty! self.labels_[self.medoid_indices_[1]] may not be labeled with its corresponding cluster (1).\n",
      "\n",
      "/home/pranjal/venv/lib/python3.6/site-packages/sklearn_extra/cluster/_k_medoids.py:279: UserWarning:\n",
      "\n",
      "Cluster 2 is empty! self.labels_[self.medoid_indices_[2]] may not be labeled with its corresponding cluster (2).\n",
      "\n",
      "/home/pranjal/venv/lib/python3.6/site-packages/sklearn_extra/cluster/_k_medoids.py:279: UserWarning:\n",
      "\n",
      "Cluster 3 is empty! self.labels_[self.medoid_indices_[3]] may not be labeled with its corresponding cluster (3).\n",
      "\n",
      "/home/pranjal/venv/lib/python3.6/site-packages/sklearn_extra/cluster/_k_medoids.py:279: UserWarning:\n",
      "\n",
      "Cluster 1 is empty! self.labels_[self.medoid_indices_[1]] may not be labeled with its corresponding cluster (1).\n",
      "\n",
      "/home/pranjal/venv/lib/python3.6/site-packages/sklearn_extra/cluster/_k_medoids.py:279: UserWarning:\n",
      "\n",
      "Cluster 2 is empty! self.labels_[self.medoid_indices_[2]] may not be labeled with its corresponding cluster (2).\n",
      "\n",
      "/home/pranjal/venv/lib/python3.6/site-packages/sklearn_extra/cluster/_k_medoids.py:279: UserWarning:\n",
      "\n",
      "Cluster 3 is empty! self.labels_[self.medoid_indices_[3]] may not be labeled with its corresponding cluster (3).\n",
      "\n"
     ]
    },
    {
     "name": "stdout",
     "output_type": "stream",
     "text": [
      "2580\n"
     ]
    },
    {
     "name": "stderr",
     "output_type": "stream",
     "text": [
      "/home/pranjal/venv/lib/python3.6/site-packages/sklearn_extra/cluster/_k_medoids.py:279: UserWarning:\n",
      "\n",
      "Cluster 1 is empty! self.labels_[self.medoid_indices_[1]] may not be labeled with its corresponding cluster (1).\n",
      "\n",
      "/home/pranjal/venv/lib/python3.6/site-packages/sklearn_extra/cluster/_k_medoids.py:279: UserWarning:\n",
      "\n",
      "Cluster 2 is empty! self.labels_[self.medoid_indices_[2]] may not be labeled with its corresponding cluster (2).\n",
      "\n",
      "/home/pranjal/venv/lib/python3.6/site-packages/sklearn_extra/cluster/_k_medoids.py:279: UserWarning:\n",
      "\n",
      "Cluster 3 is empty! self.labels_[self.medoid_indices_[3]] may not be labeled with its corresponding cluster (3).\n",
      "\n",
      "/home/pranjal/venv/lib/python3.6/site-packages/sklearn_extra/cluster/_k_medoids.py:279: UserWarning:\n",
      "\n",
      "Cluster 1 is empty! self.labels_[self.medoid_indices_[1]] may not be labeled with its corresponding cluster (1).\n",
      "\n",
      "/home/pranjal/venv/lib/python3.6/site-packages/sklearn_extra/cluster/_k_medoids.py:279: UserWarning:\n",
      "\n",
      "Cluster 2 is empty! self.labels_[self.medoid_indices_[2]] may not be labeled with its corresponding cluster (2).\n",
      "\n",
      "/home/pranjal/venv/lib/python3.6/site-packages/sklearn_extra/cluster/_k_medoids.py:279: UserWarning:\n",
      "\n",
      "Cluster 3 is empty! self.labels_[self.medoid_indices_[3]] may not be labeled with its corresponding cluster (3).\n",
      "\n",
      "/home/pranjal/venv/lib/python3.6/site-packages/sklearn_extra/cluster/_k_medoids.py:279: UserWarning:\n",
      "\n",
      "Cluster 1 is empty! self.labels_[self.medoid_indices_[1]] may not be labeled with its corresponding cluster (1).\n",
      "\n",
      "/home/pranjal/venv/lib/python3.6/site-packages/sklearn_extra/cluster/_k_medoids.py:279: UserWarning:\n",
      "\n",
      "Cluster 2 is empty! self.labels_[self.medoid_indices_[2]] may not be labeled with its corresponding cluster (2).\n",
      "\n",
      "/home/pranjal/venv/lib/python3.6/site-packages/sklearn_extra/cluster/_k_medoids.py:279: UserWarning:\n",
      "\n",
      "Cluster 3 is empty! self.labels_[self.medoid_indices_[3]] may not be labeled with its corresponding cluster (3).\n",
      "\n",
      "/home/pranjal/venv/lib/python3.6/site-packages/sklearn_extra/cluster/_k_medoids.py:279: UserWarning:\n",
      "\n",
      "Cluster 1 is empty! self.labels_[self.medoid_indices_[1]] may not be labeled with its corresponding cluster (1).\n",
      "\n",
      "/home/pranjal/venv/lib/python3.6/site-packages/sklearn_extra/cluster/_k_medoids.py:279: UserWarning:\n",
      "\n",
      "Cluster 2 is empty! self.labels_[self.medoid_indices_[2]] may not be labeled with its corresponding cluster (2).\n",
      "\n",
      "/home/pranjal/venv/lib/python3.6/site-packages/sklearn_extra/cluster/_k_medoids.py:279: UserWarning:\n",
      "\n",
      "Cluster 3 is empty! self.labels_[self.medoid_indices_[3]] may not be labeled with its corresponding cluster (3).\n",
      "\n"
     ]
    },
    {
     "name": "stdout",
     "output_type": "stream",
     "text": [
      "2640\n"
     ]
    },
    {
     "name": "stderr",
     "output_type": "stream",
     "text": [
      "/home/pranjal/venv/lib/python3.6/site-packages/sklearn_extra/cluster/_k_medoids.py:279: UserWarning:\n",
      "\n",
      "Cluster 1 is empty! self.labels_[self.medoid_indices_[1]] may not be labeled with its corresponding cluster (1).\n",
      "\n",
      "/home/pranjal/venv/lib/python3.6/site-packages/sklearn_extra/cluster/_k_medoids.py:279: UserWarning:\n",
      "\n",
      "Cluster 2 is empty! self.labels_[self.medoid_indices_[2]] may not be labeled with its corresponding cluster (2).\n",
      "\n",
      "/home/pranjal/venv/lib/python3.6/site-packages/sklearn_extra/cluster/_k_medoids.py:279: UserWarning:\n",
      "\n",
      "Cluster 3 is empty! self.labels_[self.medoid_indices_[3]] may not be labeled with its corresponding cluster (3).\n",
      "\n",
      "/home/pranjal/venv/lib/python3.6/site-packages/sklearn_extra/cluster/_k_medoids.py:279: UserWarning:\n",
      "\n",
      "Cluster 1 is empty! self.labels_[self.medoid_indices_[1]] may not be labeled with its corresponding cluster (1).\n",
      "\n",
      "/home/pranjal/venv/lib/python3.6/site-packages/sklearn_extra/cluster/_k_medoids.py:279: UserWarning:\n",
      "\n",
      "Cluster 2 is empty! self.labels_[self.medoid_indices_[2]] may not be labeled with its corresponding cluster (2).\n",
      "\n",
      "/home/pranjal/venv/lib/python3.6/site-packages/sklearn_extra/cluster/_k_medoids.py:279: UserWarning:\n",
      "\n",
      "Cluster 3 is empty! self.labels_[self.medoid_indices_[3]] may not be labeled with its corresponding cluster (3).\n",
      "\n",
      "/home/pranjal/venv/lib/python3.6/site-packages/sklearn_extra/cluster/_k_medoids.py:279: UserWarning:\n",
      "\n",
      "Cluster 1 is empty! self.labels_[self.medoid_indices_[1]] may not be labeled with its corresponding cluster (1).\n",
      "\n",
      "/home/pranjal/venv/lib/python3.6/site-packages/sklearn_extra/cluster/_k_medoids.py:279: UserWarning:\n",
      "\n",
      "Cluster 2 is empty! self.labels_[self.medoid_indices_[2]] may not be labeled with its corresponding cluster (2).\n",
      "\n",
      "/home/pranjal/venv/lib/python3.6/site-packages/sklearn_extra/cluster/_k_medoids.py:279: UserWarning:\n",
      "\n",
      "Cluster 3 is empty! self.labels_[self.medoid_indices_[3]] may not be labeled with its corresponding cluster (3).\n",
      "\n",
      "/home/pranjal/venv/lib/python3.6/site-packages/sklearn_extra/cluster/_k_medoids.py:279: UserWarning:\n",
      "\n",
      "Cluster 2 is empty! self.labels_[self.medoid_indices_[2]] may not be labeled with its corresponding cluster (2).\n",
      "\n",
      "/home/pranjal/venv/lib/python3.6/site-packages/sklearn_extra/cluster/_k_medoids.py:279: UserWarning:\n",
      "\n",
      "Cluster 3 is empty! self.labels_[self.medoid_indices_[3]] may not be labeled with its corresponding cluster (3).\n",
      "\n"
     ]
    },
    {
     "name": "stdout",
     "output_type": "stream",
     "text": [
      "Performing clustering post-attack...\n",
      "Pre-attack cluster centers: \n",
      "[[0.36507937 0.7777778  0.5873016  ... 0.42857143 0.8095238  0.47619048]\n",
      " [0.50793654 0.74603176 0.74603176 ... 0.50793654 0.74603176 0.74603176]\n",
      " [0.53968257 0.5714286  0.84126985 ... 0.52380955 0.5714286  0.82539684]\n",
      " [0.20634921 0.6031746  0.5555556  ... 0.17460318 0.5873016  0.5714286 ]]\n",
      "Pre-attack utility: \n",
      "0.6335128286347799\n",
      "Adversarial centers utility: \n",
      "0.06948787436592314\n",
      "Post attack utility\n",
      "0.06948787436592314\n",
      "Added samples: \n",
      "1700\n",
      "Ratio: (|X_aug| - |X|)/|X|\n",
      "1.7\n"
     ]
    },
    {
     "name": "stderr",
     "output_type": "stream",
     "text": [
      "/home/pranjal/venv/lib/python3.6/site-packages/sklearn_extra/cluster/_k_medoids.py:279: UserWarning:\n",
      "\n",
      "Cluster 2 is empty! self.labels_[self.medoid_indices_[2]] may not be labeled with its corresponding cluster (2).\n",
      "\n",
      "/home/pranjal/venv/lib/python3.6/site-packages/sklearn_extra/cluster/_k_medoids.py:279: UserWarning:\n",
      "\n",
      "Cluster 3 is empty! self.labels_[self.medoid_indices_[3]] may not be labeled with its corresponding cluster (3).\n",
      "\n"
     ]
    }
   ],
   "source": [
    "FA.main()"
   ]
  },
  {
   "cell_type": "code",
   "execution_count": null,
   "id": "db89b3d4-fd96-414f-81f7-64aecb22995e",
   "metadata": {},
   "outputs": [],
   "source": []
  },
  {
   "cell_type": "code",
   "execution_count": null,
   "id": "a0e4af7c-bc86-4e2f-b798-f299ac1fa7b1",
   "metadata": {},
   "outputs": [],
   "source": []
  },
  {
   "cell_type": "code",
   "execution_count": 11,
   "id": "5964dd98-bab2-428a-9541-28875c3eba3c",
   "metadata": {},
   "outputs": [],
   "source": [
    "FA = FairnessAttack(2, X,S, 20, 10)"
   ]
  },
  {
   "cell_type": "code",
   "execution_count": 12,
   "id": "8ae3cc0b-e76f-43a4-8a4a-f79198a0ac19",
   "metadata": {},
   "outputs": [
    {
     "name": "stdout",
     "output_type": "stream",
     "text": [
      "Performing clustering pre-attack...\n",
      "Obtaining adversarial cluster centers...\n",
      "{0.0: 0.6373333333333333, 1.0: 0.3626666666666667}\n",
      "new centers [[0.1904762  0.61904764 0.5714286  0.1904762  0.5873016  0.5714286\n",
      "  0.1904762  0.6031746  0.5714286  0.20634921 0.6031746  0.5555556\n",
      "  0.20634921 0.6031746  0.5555556  0.20634921 0.5873016  0.5555556\n",
      "  0.1904762  0.6031746  0.5555556  0.20634921 0.5873016  0.5555556\n",
      "  0.1904762  0.6031746  0.5555556  0.20634921 0.61904764 0.5555556\n",
      "  0.20634921 0.5873016  0.5555556  0.20634921 0.6031746  0.5714286\n",
      "  0.20634921 0.5873016  0.5555556  0.20634921 0.61904764 0.5555556\n",
      "  0.20634921 0.5873016  0.5555556  0.20634921 0.6031746  0.5714286\n",
      "  0.20634921 0.5873016  0.5555556  0.20634921 0.6031746  0.5555556\n",
      "  0.1904762  0.5873016  0.5555556  0.20634921 0.5873016  0.5555556\n",
      "  0.1904762  0.5873016  0.5714286  0.1904762  0.5873016  0.5714286\n",
      "  0.20634921 0.5873016  0.5714286  0.20634921 0.6031746  0.5555556\n",
      "  0.22222222 0.6031746  0.5714286  0.22222222 0.61904764 0.5555556\n",
      "  0.1904762  0.6031746  0.5714286  0.20634921 0.5873016  0.5555556\n",
      "  0.22222222 0.5873016  0.5714286  0.1904762  0.5873016  0.5555556\n",
      "  0.1904762  0.61904764 0.5714286  0.20634921 0.61904764 0.5555556\n",
      "  0.20634921 0.6031746  0.5555556  0.17460318 0.5873016  0.5714286\n",
      "  0.1904762  0.6031746  0.5555556  0.1904762  0.5873016  0.5555556\n",
      "  0.20634921 0.5714286  0.5714286  0.20634921 0.6031746  0.5555556\n",
      "  0.20634921 0.5873016  0.5714286  0.20634921 0.61904764 0.5555556\n",
      "  0.1904762  0.6031746  0.5555556  0.22222222 0.61904764 0.5714286\n",
      "  0.20634921 0.6031746  0.5555556  0.1904762  0.6031746  0.5714286\n",
      "  0.20634921 0.6031746  0.5555556  0.20634921 0.5873016  0.5555556\n",
      "  0.20634921 0.6031746  0.5714286  0.1904762  0.6031746  0.5555556\n",
      "  0.1904762  0.5873016  0.5714286  0.1904762  0.61904764 0.5555556\n",
      "  0.20634921 0.5873016  0.5555556  0.22222222 0.6031746  0.5714286\n",
      "  0.1904762  0.6031746  0.5555556  0.20634921 0.6031746  0.5555556\n",
      "  0.17460318 0.6031746  0.5714286  0.20634921 0.5873016  0.5555556\n",
      "  0.1904762  0.6031746  0.5555556  0.1904762  0.6031746  0.5714286\n",
      "  0.20634921 0.6031746  0.5555556  0.20634921 0.6031746  0.5714286\n",
      "  0.20634921 0.5873016  0.5714286  0.1904762  0.6031746  0.5714286\n",
      "  0.20634921 0.6031746  0.5555556  0.1904762  0.6031746  0.5555556\n",
      "  0.20634921 0.5873016  0.5714286  0.20634921 0.6031746  0.5555556\n",
      "  0.20634921 0.5873016  0.5714286  0.1904762  0.61904764 0.5555556\n",
      "  0.20634921 0.6031746  0.5714286  0.20634921 0.61904764 0.5714286\n",
      "  0.20634921 0.6031746  0.5555556  0.1904762  0.61904764 0.5714286\n",
      "  0.20634921 0.61904764 0.5714286  0.20634921 0.5873016  0.5714286\n",
      "  0.1904762  0.5873016  0.5555556  0.20634921 0.6031746  0.5873016\n",
      "  0.20634921 0.5873016  0.5555556  0.20634921 0.61904764 0.5714286\n",
      "  0.1904762  0.6031746  0.5555556  0.1904762  0.5873016  0.5555556\n",
      "  0.1904762  0.6031746  0.5555556  0.1904762  0.6031746  0.5555556\n",
      "  0.1904762  0.5873016  0.5555556  0.17460318 0.5873016  0.5555556\n",
      "  0.20634921 0.6031746  0.5714286  0.20634921 0.6031746  0.5714286\n",
      "  0.20634921 0.61904764 0.5555556  0.1904762  0.6031746  0.5714286\n",
      "  0.1904762  0.5873016  0.5555556  0.20634921 0.5873016  0.5555556\n",
      "  0.20634921 0.6031746  0.53968257 0.20634921 0.5873016  0.5555556\n",
      "  0.1904762  0.5873016  0.5555556  0.23809524 0.6031746  0.5714286\n",
      "  0.20634921 0.5873016  0.5555556  0.1904762  0.6031746  0.5555556 ]\n",
      " [0.53968257 0.61904764 0.8095238  0.5555556  0.6031746  0.82539684\n",
      "  0.5555556  0.6031746  0.82539684 0.5714286  0.6031746  0.82539684\n",
      "  0.5555556  0.5873016  0.82539684 0.5555556  0.63492066 0.8095238\n",
      "  0.53968257 0.6031746  0.82539684 0.5555556  0.6031746  0.82539684\n",
      "  0.5555556  0.5873016  0.82539684 0.5555556  0.5873016  0.82539684\n",
      "  0.53968257 0.6031746  0.82539684 0.5555556  0.6031746  0.84126985\n",
      "  0.5555556  0.6031746  0.8095238  0.5555556  0.6031746  0.8095238\n",
      "  0.5714286  0.6031746  0.82539684 0.5555556  0.6031746  0.8095238\n",
      "  0.5555556  0.6031746  0.82539684 0.5555556  0.6031746  0.8095238\n",
      "  0.5555556  0.6031746  0.8095238  0.5555556  0.6031746  0.82539684\n",
      "  0.5555556  0.6031746  0.82539684 0.5714286  0.5873016  0.8095238\n",
      "  0.5555556  0.6031746  0.82539684 0.5555556  0.6031746  0.84126985\n",
      "  0.5555556  0.61904764 0.82539684 0.5555556  0.6031746  0.82539684\n",
      "  0.5555556  0.5873016  0.82539684 0.53968257 0.6031746  0.82539684\n",
      "  0.5555556  0.5873016  0.82539684 0.52380955 0.61904764 0.82539684\n",
      "  0.5555556  0.6031746  0.82539684 0.5555556  0.61904764 0.8095238\n",
      "  0.5873016  0.5873016  0.82539684 0.5555556  0.6031746  0.82539684\n",
      "  0.53968257 0.6031746  0.8095238  0.53968257 0.63492066 0.82539684\n",
      "  0.53968257 0.5873016  0.8095238  0.5555556  0.6031746  0.84126985\n",
      "  0.5555556  0.6031746  0.82539684 0.5555556  0.6031746  0.8095238\n",
      "  0.53968257 0.6031746  0.8095238  0.5555556  0.6031746  0.82539684\n",
      "  0.5555556  0.61904764 0.82539684 0.53968257 0.61904764 0.82539684\n",
      "  0.5555556  0.6031746  0.84126985 0.5555556  0.5873016  0.8095238\n",
      "  0.53968257 0.6031746  0.82539684 0.53968257 0.5873016  0.84126985\n",
      "  0.53968257 0.5873016  0.82539684 0.5555556  0.6031746  0.82539684\n",
      "  0.53968257 0.6031746  0.84126985 0.5555556  0.6031746  0.82539684\n",
      "  0.52380955 0.61904764 0.82539684 0.5714286  0.6031746  0.82539684\n",
      "  0.53968257 0.5873016  0.82539684 0.5555556  0.5873016  0.8095238\n",
      "  0.5555556  0.6031746  0.82539684 0.5714286  0.6031746  0.82539684\n",
      "  0.53968257 0.6031746  0.82539684 0.53968257 0.61904764 0.82539684\n",
      "  0.53968257 0.5873016  0.8095238  0.53968257 0.6031746  0.82539684\n",
      "  0.53968257 0.6031746  0.82539684 0.53968257 0.6031746  0.82539684\n",
      "  0.5555556  0.6031746  0.84126985 0.5555556  0.6031746  0.8095238\n",
      "  0.53968257 0.6031746  0.82539684 0.53968257 0.6031746  0.82539684\n",
      "  0.53968257 0.61904764 0.82539684 0.5555556  0.6031746  0.82539684\n",
      "  0.5555556  0.6031746  0.84126985 0.5555556  0.5873016  0.82539684\n",
      "  0.5555556  0.6031746  0.82539684 0.53968257 0.5873016  0.84126985\n",
      "  0.5555556  0.61904764 0.8095238  0.5714286  0.5873016  0.82539684\n",
      "  0.5555556  0.5873016  0.84126985 0.53968257 0.5714286  0.82539684\n",
      "  0.5555556  0.6031746  0.8095238  0.5714286  0.5873016  0.8095238\n",
      "  0.53968257 0.6031746  0.82539684 0.53968257 0.6031746  0.82539684\n",
      "  0.5555556  0.6031746  0.82539684 0.53968257 0.5873016  0.8095238\n",
      "  0.5555556  0.6031746  0.82539684 0.53968257 0.5873016  0.8095238\n",
      "  0.5714286  0.5873016  0.8095238  0.5555556  0.6031746  0.8095238\n",
      "  0.5555556  0.5873016  0.82539684 0.5555556  0.5714286  0.84126985\n",
      "  0.5555556  0.5873016  0.82539684 0.53968257 0.6031746  0.82539684\n",
      "  0.53968257 0.6031746  0.82539684 0.53968257 0.5873016  0.82539684\n",
      "  0.53968257 0.5873016  0.82539684 0.53968257 0.6031746  0.82539684]]\n",
      "adv centers [[0.         0.5714286  0.61904764 0.06349207 0.85714287 0.44444445\n",
      "  0.26984128 0.73015875 0.3809524  0.50793654 0.93650794 0.5714286\n",
      "  0.9206349  1.         0.3015873  0.7777778  0.84126985 0.47619048\n",
      "  0.47619048 0.7619048  0.4920635  0.04761905 0.6666667  0.6031746\n",
      "  0.         0.23809524 0.61904764 0.04761905 0.9047619  0.41269842\n",
      "  0.14285715 0.7619048  0.44444445 0.4920635  0.93650794 0.53968257\n",
      "  0.8888889  1.         0.31746033 0.7619048  0.84126985 0.47619048\n",
      "  0.4920635  0.73015875 0.50793654 0.04761905 0.71428573 0.5555556\n",
      "  0.         0.6666667  0.52380955 0.17460318 0.7936508  0.44444445\n",
      "  0.3968254  0.6984127  0.52380955 0.82539684 0.984127   0.41269842\n",
      "  0.8730159  0.8888889  0.41269842 0.53968257 0.6984127  0.47619048\n",
      "  0.17460318 0.6666667  0.53968257 0.         0.36507937 0.5714286\n",
      "  0.01587302 0.7619048  0.4920635  0.25396827 0.7936508  0.50793654\n",
      "  0.6507937  0.96825397 0.47619048 0.8730159  1.         0.41269842\n",
      "  0.6507937  0.74603176 0.50793654 0.3015873  0.74603176 0.52380955\n",
      "  0.         0.52380955 0.6507937  0.01587302 0.96825397 0.52380955\n",
      "  0.3015873  0.8095238  0.42857143 0.5555556  0.96825397 0.52380955\n",
      "  0.93650794 1.         0.3809524  0.6666667  0.8888889  0.52380955\n",
      "  0.33333334 0.6507937  0.50793654 0.         0.6825397  0.5714286\n",
      "  0.01587302 0.85714287 0.50793654 0.20634921 0.82539684 0.46031746\n",
      "  0.46031746 0.84126985 0.52380955 0.8095238  0.984127   0.42857143\n",
      "  0.7936508  0.74603176 0.50793654 0.47619048 0.71428573 0.52380955\n",
      "  0.20634921 0.74603176 0.44444445 0.         0.47619048 0.52380955\n",
      "  0.12698413 0.84126985 0.46031746 0.23809524 0.7777778  0.6031746\n",
      "  0.6666667  0.96825397 0.50793654 0.7777778  0.984127   0.50793654\n",
      "  0.6031746  0.82539684 0.52380955 0.15873016 0.7777778  0.53968257\n",
      "  0.         0.71428573 0.4920635  0.12698413 0.74603176 0.4920635\n",
      "  0.42857143 0.93650794 0.52380955 0.82539684 0.96825397 0.41269842\n",
      "  0.7777778  0.8730159  0.52380955 0.34920636 0.61904764 0.6031746\n",
      "  0.12698413 0.71428573 0.61904764 0.06349207 0.6507937  0.5555556\n",
      "  0.15873016 0.6825397  0.4920635  0.44444445 0.8730159  0.46031746\n",
      "  0.8095238  0.96825397 0.46031746 0.71428573 0.84126985 0.50793654\n",
      "  0.3015873  0.73015875 0.6031746  0.         0.6825397  0.6825397\n",
      "  0.0952381  0.6984127  0.46031746 0.4920635  0.85714287 0.41269842\n",
      "  0.8095238  0.984127   0.42857143 0.6507937  0.96825397 0.61904764\n",
      "  0.23809524 0.73015875 0.73015875 0.         0.6666667  0.61904764\n",
      "  0.17460318 0.6666667  0.46031746 0.52380955 0.8730159  0.44444445\n",
      "  0.74603176 1.         0.42857143 0.6031746  0.9206349  0.53968257\n",
      "  0.22222222 0.73015875 0.6825397  0.03174603 0.71428573 0.6031746\n",
      "  0.17460318 0.74603176 0.46031746 0.52380955 0.8095238  0.42857143\n",
      "  0.85714287 0.984127   0.3809524  0.6507937  0.96825397 0.5555556\n",
      "  0.1904762  0.6984127  0.6984127  0.06349207 0.73015875 0.6031746\n",
      "  0.22222222 0.6825397  0.46031746 0.61904764 0.82539684 0.41269842\n",
      "  0.73015875 0.984127   0.3809524  0.44444445 0.984127   0.53968257\n",
      "  0.06349207 0.7936508  0.74603176 0.0952381  0.8095238  0.61904764\n",
      "  0.34920636 0.71428573 0.46031746 0.7777778  0.85714287 0.36507937\n",
      "  0.7619048  0.8730159  0.42857143 0.53968257 0.7936508  0.5714286\n",
      "  0.22222222 0.85714287 0.50793654 0.03174603 0.6031746  0.6031746 ]\n",
      " [0.47619048 0.7619048  0.71428573 0.4920635  0.7619048  0.73015875\n",
      "  0.4920635  0.7777778  0.71428573 0.4920635  0.7777778  0.73015875\n",
      "  0.46031746 0.7619048  0.71428573 0.42857143 0.7777778  0.73015875\n",
      "  0.44444445 0.74603176 0.73015875 0.42857143 0.74603176 0.73015875\n",
      "  0.42857143 0.7619048  0.7777778  0.46031746 0.74603176 0.7777778\n",
      "  0.46031746 0.74603176 0.7936508  0.4920635  0.73015875 0.7936508\n",
      "  0.4920635  0.74603176 0.7777778  0.52380955 0.73015875 0.7777778\n",
      "  0.53968257 0.6984127  0.7777778  0.5555556  0.71428573 0.7619048\n",
      "  0.5714286  0.71428573 0.7619048  0.5555556  0.73015875 0.7619048\n",
      "  0.5714286  0.71428573 0.74603176 0.5873016  0.6825397  0.74603176\n",
      "  0.5714286  0.6825397  0.7777778  0.5873016  0.6507937  0.8095238\n",
      "  0.6031746  0.63492066 0.7936508  0.6031746  0.6031746  0.8095238\n",
      "  0.5873016  0.61904764 0.82539684 0.6031746  0.61904764 0.7936508\n",
      "  0.5714286  0.6031746  0.74603176 0.5873016  0.63492066 0.74603176\n",
      "  0.5555556  0.61904764 0.8095238  0.53968257 0.6507937  0.71428573\n",
      "  0.50793654 0.6031746  0.7777778  0.4920635  0.6507937  0.7936508\n",
      "  0.46031746 0.6031746  0.8095238  0.47619048 0.6666667  0.9047619\n",
      "  0.46031746 0.63492066 0.82539684 0.47619048 0.61904764 0.8730159\n",
      "  0.46031746 0.6825397  0.85714287 0.47619048 0.71428573 0.8095238\n",
      "  0.46031746 0.71428573 0.8888889  0.44444445 0.6507937  0.93650794\n",
      "  0.47619048 0.6825397  0.7777778  0.47619048 0.6666667  0.73015875\n",
      "  0.50793654 0.71428573 0.7619048  0.46031746 0.6825397  0.82539684\n",
      "  0.47619048 0.6825397  0.82539684 0.4920635  0.6666667  0.7777778\n",
      "  0.4920635  0.6825397  0.7619048  0.50793654 0.6825397  0.8095238\n",
      "  0.50793654 0.6984127  0.8095238  0.50793654 0.6984127  0.7777778\n",
      "  0.4920635  0.71428573 0.7936508  0.47619048 0.6984127  0.8095238\n",
      "  0.4920635  0.6984127  0.7936508  0.4920635  0.6984127  0.8095238\n",
      "  0.4920635  0.6666667  0.7936508  0.50793654 0.6825397  0.7777778\n",
      "  0.50793654 0.6666667  0.7777778  0.4920635  0.6984127  0.7936508\n",
      "  0.4920635  0.6825397  0.7936508  0.47619048 0.6666667  0.7777778\n",
      "  0.50793654 0.71428573 0.7936508  0.4920635  0.6984127  0.7777778\n",
      "  0.4920635  0.6984127  0.7619048  0.50793654 0.6825397  0.7777778\n",
      "  0.50793654 0.71428573 0.8095238  0.47619048 0.6507937  0.7619048\n",
      "  0.4920635  0.63492066 0.8095238  0.50793654 0.6825397  0.84126985\n",
      "  0.50793654 0.6507937  0.82539684 0.4920635  0.6507937  0.7777778\n",
      "  0.50793654 0.73015875 0.7777778  0.50793654 0.71428573 0.7619048\n",
      "  0.46031746 0.71428573 0.7777778  0.4920635  0.6984127  0.7936508\n",
      "  0.4920635  0.71428573 0.7777778  0.4920635  0.74603176 0.7777778\n",
      "  0.4920635  0.71428573 0.7619048  0.50793654 0.73015875 0.7777778\n",
      "  0.50793654 0.6825397  0.7777778  0.4920635  0.6984127  0.7777778\n",
      "  0.4920635  0.71428573 0.7777778  0.50793654 0.6984127  0.7619048\n",
      "  0.4920635  0.73015875 0.7777778  0.4920635  0.73015875 0.7777778\n",
      "  0.4920635  0.71428573 0.7619048  0.4920635  0.73015875 0.7936508\n",
      "  0.47619048 0.71428573 0.7936508  0.50793654 0.6984127  0.7777778\n",
      "  0.4920635  0.71428573 0.7777778  0.47619048 0.71428573 0.7936508\n",
      "  0.50793654 0.73015875 0.7619048  0.50793654 0.6984127  0.7777778\n",
      "  0.4920635  0.71428573 0.7777778  0.4920635  0.71428573 0.7777778\n",
      "  0.50793654 0.6984127  0.7777778  0.4920635  0.71428573 0.7777778 ]]\n",
      "1500\n"
     ]
    },
    {
     "name": "stderr",
     "output_type": "stream",
     "text": [
      "/mnt/c/Users/dhaka/Documents/semester3/849/FairnessTSAdvClustering/src/attack.py:144: FutureWarning:\n",
      "\n",
      "Using a non-tuple sequence for multidimensional indexing is deprecated; use `arr[tuple(seq)]` instead of `arr[seq]`. In the future this will be interpreted as an array index, `arr[np.array(seq)]`, which will result either in an error or a different result.\n",
      "\n"
     ]
    },
    {
     "name": "stdout",
     "output_type": "stream",
     "text": [
      "1540\n",
      "1580\n",
      "1620\n",
      "1660\n",
      "1700\n",
      "1740\n",
      "1780\n",
      "1820\n",
      "1860\n",
      "1900\n",
      "1940\n",
      "1980\n",
      "2000\n",
      "2020\n",
      "2040\n",
      "2060\n",
      "2080\n",
      "2100\n",
      "2120\n",
      "2140\n",
      "2160\n",
      "2180\n",
      "2200\n",
      "2220\n",
      "2240\n",
      "2280\n",
      "2300\n",
      "Performing clustering post-attack...\n",
      "Pre-attack cluster centers: \n",
      "[[0.53968257 0.61904764 0.8095238  0.5555556  0.6031746  0.82539684\n",
      "  0.5555556  0.6031746  0.82539684 0.5714286  0.6031746  0.82539684\n",
      "  0.5555556  0.5873016  0.82539684 0.5555556  0.63492066 0.8095238\n",
      "  0.53968257 0.6031746  0.82539684 0.5555556  0.6031746  0.82539684\n",
      "  0.5555556  0.5873016  0.82539684 0.5555556  0.5873016  0.82539684\n",
      "  0.53968257 0.6031746  0.82539684 0.5555556  0.6031746  0.84126985\n",
      "  0.5555556  0.6031746  0.8095238  0.5555556  0.6031746  0.8095238\n",
      "  0.5714286  0.6031746  0.82539684 0.5555556  0.6031746  0.8095238\n",
      "  0.5555556  0.6031746  0.82539684 0.5555556  0.6031746  0.8095238\n",
      "  0.5555556  0.6031746  0.8095238  0.5555556  0.6031746  0.82539684\n",
      "  0.5555556  0.6031746  0.82539684 0.5714286  0.5873016  0.8095238\n",
      "  0.5555556  0.6031746  0.82539684 0.5555556  0.6031746  0.84126985\n",
      "  0.5555556  0.61904764 0.82539684 0.5555556  0.6031746  0.82539684\n",
      "  0.5555556  0.5873016  0.82539684 0.53968257 0.6031746  0.82539684\n",
      "  0.5555556  0.5873016  0.82539684 0.52380955 0.61904764 0.82539684\n",
      "  0.5555556  0.6031746  0.82539684 0.5555556  0.61904764 0.8095238\n",
      "  0.5873016  0.5873016  0.82539684 0.5555556  0.6031746  0.82539684\n",
      "  0.53968257 0.6031746  0.8095238  0.53968257 0.63492066 0.82539684\n",
      "  0.53968257 0.5873016  0.8095238  0.5555556  0.6031746  0.84126985\n",
      "  0.5555556  0.6031746  0.82539684 0.5555556  0.6031746  0.8095238\n",
      "  0.53968257 0.6031746  0.8095238  0.5555556  0.6031746  0.82539684\n",
      "  0.5555556  0.61904764 0.82539684 0.53968257 0.61904764 0.82539684\n",
      "  0.5555556  0.6031746  0.84126985 0.5555556  0.5873016  0.8095238\n",
      "  0.53968257 0.6031746  0.82539684 0.53968257 0.5873016  0.84126985\n",
      "  0.53968257 0.5873016  0.82539684 0.5555556  0.6031746  0.82539684\n",
      "  0.53968257 0.6031746  0.84126985 0.5555556  0.6031746  0.82539684\n",
      "  0.52380955 0.61904764 0.82539684 0.5714286  0.6031746  0.82539684\n",
      "  0.53968257 0.5873016  0.82539684 0.5555556  0.5873016  0.8095238\n",
      "  0.5555556  0.6031746  0.82539684 0.5714286  0.6031746  0.82539684\n",
      "  0.53968257 0.6031746  0.82539684 0.53968257 0.61904764 0.82539684\n",
      "  0.53968257 0.5873016  0.8095238  0.53968257 0.6031746  0.82539684\n",
      "  0.53968257 0.6031746  0.82539684 0.53968257 0.6031746  0.82539684\n",
      "  0.5555556  0.6031746  0.84126985 0.5555556  0.6031746  0.8095238\n",
      "  0.53968257 0.6031746  0.82539684 0.53968257 0.6031746  0.82539684\n",
      "  0.53968257 0.61904764 0.82539684 0.5555556  0.6031746  0.82539684\n",
      "  0.5555556  0.6031746  0.84126985 0.5555556  0.5873016  0.82539684\n",
      "  0.5555556  0.6031746  0.82539684 0.53968257 0.5873016  0.84126985\n",
      "  0.5555556  0.61904764 0.8095238  0.5714286  0.5873016  0.82539684\n",
      "  0.5555556  0.5873016  0.84126985 0.53968257 0.5714286  0.82539684\n",
      "  0.5555556  0.6031746  0.8095238  0.5714286  0.5873016  0.8095238\n",
      "  0.53968257 0.6031746  0.82539684 0.53968257 0.6031746  0.82539684\n",
      "  0.5555556  0.6031746  0.82539684 0.53968257 0.5873016  0.8095238\n",
      "  0.5555556  0.6031746  0.82539684 0.53968257 0.5873016  0.8095238\n",
      "  0.5714286  0.5873016  0.8095238  0.5555556  0.6031746  0.8095238\n",
      "  0.5555556  0.5873016  0.82539684 0.5555556  0.5714286  0.84126985\n",
      "  0.5555556  0.5873016  0.82539684 0.53968257 0.6031746  0.82539684\n",
      "  0.53968257 0.6031746  0.82539684 0.53968257 0.5873016  0.82539684\n",
      "  0.53968257 0.5873016  0.82539684 0.53968257 0.6031746  0.82539684]\n",
      " [0.1904762  0.61904764 0.5714286  0.1904762  0.5873016  0.5714286\n",
      "  0.1904762  0.6031746  0.5714286  0.20634921 0.6031746  0.5555556\n",
      "  0.20634921 0.6031746  0.5555556  0.20634921 0.5873016  0.5555556\n",
      "  0.1904762  0.6031746  0.5555556  0.20634921 0.5873016  0.5555556\n",
      "  0.1904762  0.6031746  0.5555556  0.20634921 0.61904764 0.5555556\n",
      "  0.20634921 0.5873016  0.5555556  0.20634921 0.6031746  0.5714286\n",
      "  0.20634921 0.5873016  0.5555556  0.20634921 0.61904764 0.5555556\n",
      "  0.20634921 0.5873016  0.5555556  0.20634921 0.6031746  0.5714286\n",
      "  0.20634921 0.5873016  0.5555556  0.20634921 0.6031746  0.5555556\n",
      "  0.1904762  0.5873016  0.5555556  0.20634921 0.5873016  0.5555556\n",
      "  0.1904762  0.5873016  0.5714286  0.1904762  0.5873016  0.5714286\n",
      "  0.20634921 0.5873016  0.5714286  0.20634921 0.6031746  0.5555556\n",
      "  0.22222222 0.6031746  0.5714286  0.22222222 0.61904764 0.5555556\n",
      "  0.1904762  0.6031746  0.5714286  0.20634921 0.5873016  0.5555556\n",
      "  0.22222222 0.5873016  0.5714286  0.1904762  0.5873016  0.5555556\n",
      "  0.1904762  0.61904764 0.5714286  0.20634921 0.61904764 0.5555556\n",
      "  0.20634921 0.6031746  0.5555556  0.17460318 0.5873016  0.5714286\n",
      "  0.1904762  0.6031746  0.5555556  0.1904762  0.5873016  0.5555556\n",
      "  0.20634921 0.5714286  0.5714286  0.20634921 0.6031746  0.5555556\n",
      "  0.20634921 0.5873016  0.5714286  0.20634921 0.61904764 0.5555556\n",
      "  0.1904762  0.6031746  0.5555556  0.22222222 0.61904764 0.5714286\n",
      "  0.20634921 0.6031746  0.5555556  0.1904762  0.6031746  0.5714286\n",
      "  0.20634921 0.6031746  0.5555556  0.20634921 0.5873016  0.5555556\n",
      "  0.20634921 0.6031746  0.5714286  0.1904762  0.6031746  0.5555556\n",
      "  0.1904762  0.5873016  0.5714286  0.1904762  0.61904764 0.5555556\n",
      "  0.20634921 0.5873016  0.5555556  0.22222222 0.6031746  0.5714286\n",
      "  0.1904762  0.6031746  0.5555556  0.20634921 0.6031746  0.5555556\n",
      "  0.17460318 0.6031746  0.5714286  0.20634921 0.5873016  0.5555556\n",
      "  0.1904762  0.6031746  0.5555556  0.1904762  0.6031746  0.5714286\n",
      "  0.20634921 0.6031746  0.5555556  0.20634921 0.6031746  0.5714286\n",
      "  0.20634921 0.5873016  0.5714286  0.1904762  0.6031746  0.5714286\n",
      "  0.20634921 0.6031746  0.5555556  0.1904762  0.6031746  0.5555556\n",
      "  0.20634921 0.5873016  0.5714286  0.20634921 0.6031746  0.5555556\n",
      "  0.20634921 0.5873016  0.5714286  0.1904762  0.61904764 0.5555556\n",
      "  0.20634921 0.6031746  0.5714286  0.20634921 0.61904764 0.5714286\n",
      "  0.20634921 0.6031746  0.5555556  0.1904762  0.61904764 0.5714286\n",
      "  0.20634921 0.61904764 0.5714286  0.20634921 0.5873016  0.5714286\n",
      "  0.1904762  0.5873016  0.5555556  0.20634921 0.6031746  0.5873016\n",
      "  0.20634921 0.5873016  0.5555556  0.20634921 0.61904764 0.5714286\n",
      "  0.1904762  0.6031746  0.5555556  0.1904762  0.5873016  0.5555556\n",
      "  0.1904762  0.6031746  0.5555556  0.1904762  0.6031746  0.5555556\n",
      "  0.1904762  0.5873016  0.5555556  0.17460318 0.5873016  0.5555556\n",
      "  0.20634921 0.6031746  0.5714286  0.20634921 0.6031746  0.5714286\n",
      "  0.20634921 0.61904764 0.5555556  0.1904762  0.6031746  0.5714286\n",
      "  0.1904762  0.5873016  0.5555556  0.20634921 0.5873016  0.5555556\n",
      "  0.20634921 0.6031746  0.53968257 0.20634921 0.5873016  0.5555556\n",
      "  0.1904762  0.5873016  0.5555556  0.23809524 0.6031746  0.5714286\n",
      "  0.20634921 0.5873016  0.5555556  0.1904762  0.6031746  0.5555556 ]]\n",
      "Pre-attack utility: \n",
      "0.758734701934465\n",
      "Adversarial centers utility: \n",
      "0.12533422459893048\n",
      "Post attack utility\n",
      "0.12533422459893048\n",
      "Added samples: \n",
      "820\n",
      "Ratio: (|X_aug| - |X|)/|X|\n",
      "0.5466666666666666\n"
     ]
    }
   ],
   "source": [
    "FA.main()"
   ]
  },
  {
   "cell_type": "code",
   "execution_count": 13,
   "id": "45ec3c55-1761-417b-b096-7b254caa7938",
   "metadata": {},
   "outputs": [
    {
     "data": {
      "text/plain": [
       "(1500, 288)"
      ]
     },
     "execution_count": 13,
     "metadata": {},
     "output_type": "execute_result"
    }
   ],
   "source": [
    "FA.X.shape"
   ]
  },
  {
   "cell_type": "code",
   "execution_count": 14,
   "id": "457db631-f3da-4010-a324-5067c94b90d7",
   "metadata": {},
   "outputs": [
    {
     "data": {
      "text/plain": [
       "(2320, 288)"
      ]
     },
     "execution_count": 14,
     "metadata": {},
     "output_type": "execute_result"
    }
   ],
   "source": [
    "FA.X_augmented.shape"
   ]
  },
  {
   "cell_type": "code",
   "execution_count": null,
   "id": "4c59eadd-2a4a-486a-ac45-054d9bf84544",
   "metadata": {},
   "outputs": [],
   "source": []
  },
  {
   "cell_type": "code",
   "execution_count": 15,
   "id": "820463b7-839c-4941-810b-c78f1f2315ca",
   "metadata": {},
   "outputs": [],
   "source": [
    "from sklearn_extra.cluster import KMedoids"
   ]
  },
  {
   "cell_type": "code",
   "execution_count": 16,
   "id": "56997bbc-2d31-4db6-a882-9fd01419ef0f",
   "metadata": {},
   "outputs": [],
   "source": [
    "KM = KMedoids(2).fit(FA.X_augmented)"
   ]
  },
  {
   "cell_type": "code",
   "execution_count": null,
   "id": "512886f5-1480-4c30-bb83-bd5d14e8c767",
   "metadata": {},
   "outputs": [],
   "source": []
  },
  {
   "cell_type": "code",
   "execution_count": 18,
   "id": "dea80040-661d-4bd0-acd1-aa736453bb19",
   "metadata": {},
   "outputs": [
    {
     "data": {
      "text/plain": [
       "array([[ True,  True,  True,  True,  True,  True,  True,  True,  True,\n",
       "         True,  True,  True,  True,  True,  True,  True,  True,  True,\n",
       "         True,  True,  True,  True,  True,  True,  True,  True,  True,\n",
       "         True,  True,  True,  True,  True,  True,  True,  True,  True,\n",
       "         True,  True,  True,  True,  True,  True,  True,  True,  True,\n",
       "         True,  True,  True,  True,  True,  True,  True,  True,  True,\n",
       "         True,  True,  True,  True,  True,  True,  True,  True,  True,\n",
       "         True,  True,  True,  True,  True,  True,  True,  True,  True,\n",
       "         True,  True,  True,  True,  True,  True,  True,  True,  True,\n",
       "         True,  True,  True,  True,  True,  True,  True,  True,  True,\n",
       "         True,  True,  True,  True,  True,  True,  True,  True,  True,\n",
       "         True,  True,  True,  True,  True,  True,  True,  True,  True,\n",
       "         True,  True,  True,  True,  True,  True,  True,  True,  True,\n",
       "         True,  True,  True,  True,  True,  True,  True,  True,  True,\n",
       "         True,  True,  True,  True,  True,  True,  True,  True,  True,\n",
       "         True,  True,  True,  True,  True,  True,  True,  True,  True,\n",
       "         True,  True,  True,  True,  True,  True,  True,  True,  True,\n",
       "         True,  True,  True,  True,  True,  True,  True,  True,  True,\n",
       "         True,  True,  True,  True,  True,  True,  True,  True,  True,\n",
       "         True,  True,  True,  True,  True,  True,  True,  True,  True,\n",
       "         True,  True,  True,  True,  True,  True,  True,  True,  True,\n",
       "         True,  True,  True,  True,  True,  True,  True,  True,  True,\n",
       "         True,  True,  True,  True,  True,  True,  True,  True,  True,\n",
       "         True,  True,  True,  True,  True,  True,  True,  True,  True,\n",
       "         True,  True,  True,  True,  True,  True,  True,  True,  True,\n",
       "         True,  True,  True,  True,  True,  True,  True,  True,  True,\n",
       "         True,  True,  True,  True,  True,  True,  True,  True,  True,\n",
       "         True,  True,  True,  True,  True,  True,  True,  True,  True,\n",
       "         True,  True,  True,  True,  True,  True,  True,  True,  True,\n",
       "         True,  True,  True,  True,  True,  True,  True,  True,  True,\n",
       "         True,  True,  True,  True,  True,  True,  True,  True,  True,\n",
       "         True,  True,  True,  True,  True,  True,  True,  True,  True],\n",
       "       [ True,  True,  True,  True,  True,  True,  True,  True,  True,\n",
       "         True,  True,  True,  True,  True,  True,  True,  True,  True,\n",
       "         True,  True,  True,  True,  True,  True,  True,  True,  True,\n",
       "         True,  True,  True,  True,  True,  True,  True,  True,  True,\n",
       "         True,  True,  True,  True,  True,  True,  True,  True,  True,\n",
       "         True,  True,  True,  True,  True,  True,  True,  True,  True,\n",
       "         True,  True,  True,  True,  True,  True,  True,  True,  True,\n",
       "         True,  True,  True,  True,  True,  True,  True,  True,  True,\n",
       "         True,  True,  True,  True,  True,  True,  True,  True,  True,\n",
       "         True,  True,  True,  True,  True,  True,  True,  True,  True,\n",
       "         True,  True,  True,  True,  True,  True,  True,  True,  True,\n",
       "         True,  True,  True,  True,  True,  True,  True,  True,  True,\n",
       "         True,  True,  True,  True,  True,  True,  True,  True,  True,\n",
       "         True,  True,  True,  True,  True,  True,  True,  True,  True,\n",
       "         True,  True,  True,  True,  True,  True,  True,  True,  True,\n",
       "         True,  True,  True,  True,  True,  True,  True,  True,  True,\n",
       "         True,  True,  True,  True,  True,  True,  True,  True,  True,\n",
       "         True,  True,  True,  True,  True,  True,  True,  True,  True,\n",
       "         True,  True,  True,  True,  True,  True,  True,  True,  True,\n",
       "         True,  True,  True,  True,  True,  True,  True,  True,  True,\n",
       "         True,  True,  True,  True,  True,  True,  True,  True,  True,\n",
       "         True,  True,  True,  True,  True,  True,  True,  True,  True,\n",
       "         True,  True,  True,  True,  True,  True,  True,  True,  True,\n",
       "         True,  True,  True,  True,  True,  True,  True,  True,  True,\n",
       "         True,  True,  True,  True,  True,  True,  True,  True,  True,\n",
       "         True,  True,  True,  True,  True,  True,  True,  True,  True,\n",
       "         True,  True,  True,  True,  True,  True,  True,  True,  True,\n",
       "         True,  True,  True,  True,  True,  True,  True,  True,  True,\n",
       "         True,  True,  True,  True,  True,  True,  True,  True,  True,\n",
       "         True,  True,  True,  True,  True,  True,  True,  True,  True,\n",
       "         True,  True,  True,  True,  True,  True,  True,  True,  True,\n",
       "         True,  True,  True,  True,  True,  True,  True,  True,  True]])"
      ]
     },
     "execution_count": 18,
     "metadata": {},
     "output_type": "execute_result"
    }
   ],
   "source": [
    "KM.cluster_centers_ == FA.adv_centers[::-1]"
   ]
  },
  {
   "cell_type": "code",
   "execution_count": 67,
   "id": "b4317f16-29c6-4798-90a6-7dc41eac6752",
   "metadata": {},
   "outputs": [],
   "source": [
    "from src.cluster import ClusteringKMedoid"
   ]
  },
  {
   "cell_type": "code",
   "execution_count": 68,
   "id": "4a6ccea5-ff0c-40fb-9cfe-0b1edff63e74",
   "metadata": {},
   "outputs": [
    {
     "name": "stdout",
     "output_type": "stream",
     "text": [
      "{0: 0.5, 1: 0.5}\n"
     ]
    }
   ],
   "source": [
    "CK = ClusteringKMedoid(\"normal\",2,FA.X_augmented,[0,1])"
   ]
  },
  {
   "cell_type": "code",
   "execution_count": null,
   "id": "3af2e3bb-8889-42a0-8033-335a4e45d319",
   "metadata": {},
   "outputs": [],
   "source": []
  },
  {
   "cell_type": "code",
   "execution_count": null,
   "id": "a82391ee-3cb0-4413-a5ad-3234316a1c30",
   "metadata": {},
   "outputs": [],
   "source": []
  },
  {
   "cell_type": "code",
   "execution_count": null,
   "id": "82b71e69-7391-4d0e-9b3f-97d9c821ff31",
   "metadata": {},
   "outputs": [],
   "source": []
  },
  {
   "cell_type": "code",
   "execution_count": null,
   "id": "0e6497f2-1265-400c-b387-529eb5d39b56",
   "metadata": {},
   "outputs": [],
   "source": []
  },
  {
   "cell_type": "code",
   "execution_count": null,
   "id": "680f63da-1e66-4e5a-b285-1a189fd1479a",
   "metadata": {},
   "outputs": [],
   "source": []
  },
  {
   "cell_type": "code",
   "execution_count": null,
   "id": "11caa64c-92cb-46af-a669-b8e963a35195",
   "metadata": {},
   "outputs": [],
   "source": []
  },
  {
   "cell_type": "code",
   "execution_count": null,
   "id": "e87f3728-3c9a-4861-8f98-47e250dd9319",
   "metadata": {},
   "outputs": [],
   "source": []
  },
  {
   "cell_type": "code",
   "execution_count": null,
   "id": "9e09fc1b-be0b-4247-9d7a-4756c494eca9",
   "metadata": {},
   "outputs": [],
   "source": []
  }
 ],
 "metadata": {
  "kernelspec": {
   "display_name": "venv",
   "language": "python",
   "name": "venv"
  },
  "language_info": {
   "codemirror_mode": {
    "name": "ipython",
    "version": 3
   },
   "file_extension": ".py",
   "mimetype": "text/x-python",
   "name": "python",
   "nbconvert_exporter": "python",
   "pygments_lexer": "ipython3",
   "version": "3.6.9"
  }
 },
 "nbformat": 4,
 "nbformat_minor": 5
}
