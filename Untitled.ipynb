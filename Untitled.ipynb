{
 "cells": [
  {
   "cell_type": "code",
   "execution_count": 195,
   "id": "5074a82f-19fc-4ad8-a7da-dc401b06ea26",
   "metadata": {},
   "outputs": [],
   "source": [
    "%reload_ext autoreload\n",
    "%autoreload 2"
   ]
  },
  {
   "cell_type": "code",
   "execution_count": 196,
   "id": "5d0cc89b-5c46-4cbc-b49b-5dff006fc83a",
   "metadata": {},
   "outputs": [],
   "source": [
    "import numpy as np\n",
    "import pandas as pd\n",
    "import plotly.express as px"
   ]
  },
  {
   "cell_type": "code",
   "execution_count": 197,
   "id": "35d1ce62-fade-4a94-8f75-cb7e3b1fbfd0",
   "metadata": {},
   "outputs": [],
   "source": [
    "from src.dataloader import ADLDataLoader"
   ]
  },
  {
   "cell_type": "code",
   "execution_count": 198,
   "id": "8b1283bc-f7f2-4283-9173-7b4b7078b4d7",
   "metadata": {},
   "outputs": [],
   "source": [
    "data_path = \"/mnt/c/Users/dhaka/Documents/healthylife/accelerometer_dataset/ADL_Dataset/HMP_Dataset\""
   ]
  },
  {
   "cell_type": "code",
   "execution_count": 199,
   "id": "1a7962b5-11ff-49b7-9410-df4a6206c671",
   "metadata": {},
   "outputs": [],
   "source": [
    "DL = ADLDataLoader(data_path)"
   ]
  },
  {
   "cell_type": "code",
   "execution_count": 200,
   "id": "260a7701-79b5-4045-b809-fa3add8e7bce",
   "metadata": {},
   "outputs": [
    {
     "name": "stderr",
     "output_type": "stream",
     "text": [
      "979it [00:13, 72.34it/s]\n"
     ]
    }
   ],
   "source": [
    "DL.load_data()"
   ]
  },
  {
   "cell_type": "code",
   "execution_count": 204,
   "id": "147804ef-789f-463f-8057-6d7353483612",
   "metadata": {},
   "outputs": [],
   "source": [
    "from src.cluster import ClusteringKMedoid"
   ]
  },
  {
   "cell_type": "code",
   "execution_count": 205,
   "id": "d465bfe0-34b6-41b3-b0f9-2e8d42a77cf7",
   "metadata": {},
   "outputs": [
    {
     "name": "stdout",
     "output_type": "stream",
     "text": [
      "{0.0: 0.6307519640852974, 1.0: 0.36924803591470257}\n"
     ]
    }
   ],
   "source": [
    "ADV = ClusteringKMedoid(\"adversarial\", 3, DL.data_samples, DL.genders)"
   ]
  },
  {
   "cell_type": "code",
   "execution_count": 175,
   "id": "319cc96f-342d-4e64-941e-3beb368968ef",
   "metadata": {},
   "outputs": [
    {
     "name": "stdout",
     "output_type": "stream",
     "text": [
      "Initial centers are  [ 189  666 3586]\n",
      "Iter 0\n",
      "Change centers to  [ 189    0 3586]\n",
      "Change centers to  [ 189   31 3586]\n",
      "Change centers to  [189  31  36]\n",
      "Change centers to  [37 31 36]\n",
      "Change centers to  [38 31 36]\n",
      "Change centers to  [38 31 40]\n",
      "Change centers to  [45 31 40]\n",
      "Change centers to  [47 31 40]\n",
      "Change centers to  [47 31 51]\n",
      "Change centers to  [47 54 51]\n",
      "Change centers to  [47 57 51]\n",
      "Change centers to  [47 57 62]\n",
      "Change centers to  [ 47 111  62]\n",
      "Change centers to  [261 111  62]\n",
      "Change centers to  [ 261 2055   62]\n",
      "Change centers to  [ 261 2188   62]\n",
      "Iter 1\n",
      "End Searching by no swaps\n"
     ]
    }
   ],
   "source": [
    "centers, members, tot_cost = ADV.get_centers()"
   ]
  },
  {
   "cell_type": "code",
   "execution_count": 176,
   "id": "d91e3ed8-e9b0-4987-9917-7df7af70f7be",
   "metadata": {},
   "outputs": [
    {
     "data": {
      "text/plain": [
       "array([ 261, 2188,   62])"
      ]
     },
     "execution_count": 176,
     "metadata": {},
     "output_type": "execute_result"
    }
   ],
   "source": [
    "centers, tot_cost"
   ]
  },
  {
   "cell_type": "code",
   "execution_count": 179,
   "id": "9dba3574-abec-4765-8ad2-fa0724e343dc",
   "metadata": {},
   "outputs": [],
   "source": [
    "from collections import defaultdict"
   ]
  },
  {
   "cell_type": "code",
   "execution_count": 180,
   "id": "c0a8e43e-207e-4996-9c83-882a65ccafed",
   "metadata": {},
   "outputs": [],
   "source": [
    "d = defaultdict(lambda : defaultdict(int))"
   ]
  },
  {
   "cell_type": "code",
   "execution_count": 181,
   "id": "5b1a9af5-eda6-4850-b110-0ffb5ea765d7",
   "metadata": {},
   "outputs": [],
   "source": [
    "for mem_idx, g in zip(members, DL.genders):\n",
    "    d[mem_idx][g]+=1"
   ]
  },
  {
   "cell_type": "code",
   "execution_count": 182,
   "id": "1bf47657-78f4-436f-a604-d35b5af711e6",
   "metadata": {},
   "outputs": [
    {
     "data": {
      "text/plain": [
       "defaultdict(<function __main__.<lambda>()>,\n",
       "            {1: defaultdict(int, {0.0: 2583, 1.0: 1578}),\n",
       "             0: defaultdict(int, {0.0: 136, 1.0: 66}),\n",
       "             2: defaultdict(int, {0.0: 91, 1.0: 1})})"
      ]
     },
     "execution_count": 182,
     "metadata": {},
     "output_type": "execute_result"
    }
   ],
   "source": [
    "d"
   ]
  },
  {
   "cell_type": "code",
   "execution_count": null,
   "id": "21fed051-0f90-4556-96b9-f6213ac16756",
   "metadata": {},
   "outputs": [],
   "source": []
  },
  {
   "cell_type": "code",
   "execution_count": 208,
   "id": "7518a8a6-566a-43ec-9e5d-98d3ce391480",
   "metadata": {},
   "outputs": [
    {
     "name": "stdout",
     "output_type": "stream",
     "text": [
      "{0.0: 0.6307519640852974, 1.0: 0.36924803591470257}\n"
     ]
    }
   ],
   "source": [
    "ADV = ClusteringKMedoid(\"normal\", 3, DL.data_samples, DL.genders)"
   ]
  },
  {
   "cell_type": "code",
   "execution_count": 209,
   "id": "e97e31e2-52c8-422e-ab26-b39d0bbace81",
   "metadata": {},
   "outputs": [
    {
     "name": "stdout",
     "output_type": "stream",
     "text": [
      "Initial centers are  [1132 2463 1821]\n",
      "Iter 0\n",
      "Change centers to  [   0 2463 1821]\n",
      "Change centers to  [   0   22 1821]\n",
      "Change centers to  [   0   57 1821]\n",
      "Change centers to  [ 107   57 1821]\n",
      "Change centers to  [ 167   57 1821]\n",
      "Change centers to  [ 167  172 1821]\n",
      "Change centers to  [ 167  176 1821]\n",
      "Change centers to  [ 192  176 1821]\n",
      "Change centers to  [ 192  196 1821]\n",
      "Change centers to  [ 304  196 1821]\n",
      "Change centers to  [ 305  196 1821]\n",
      "Change centers to  [ 306  196 1821]\n",
      "Change centers to  [ 308  196 1821]\n",
      "Change centers to  [ 309  196 1821]\n",
      "Change centers to  [ 349  196 1821]\n",
      "Change centers to  [ 351  196 1821]\n",
      "Change centers to  [ 386  196 1821]\n",
      "Change centers to  [ 434  196 1821]\n",
      "Change centers to  [ 441  196 1821]\n",
      "Change centers to  [ 442  196 1821]\n",
      "Change centers to  [ 446  196 1821]\n",
      "Change centers to  [ 446  477 1821]\n",
      "Change centers to  [ 715  477 1821]\n",
      "Change centers to  [ 715  731 1821]\n",
      "Change centers to  [715 731 732]\n",
      "Change centers to  [715 731 743]\n",
      "Change centers to  [744 731 743]\n",
      "Change centers to  [744 731 791]\n",
      "Change centers to  [744 731 806]\n",
      "Change centers to  [744 731 861]\n",
      "Change centers to  [ 744  731 1075]\n",
      "Change centers to  [ 744 1077 1075]\n",
      "Change centers to  [ 744 1085 1075]\n",
      "Change centers to  [ 744 1099 1075]\n",
      "Change centers to  [ 744 1189 1075]\n",
      "Change centers to  [ 744 1408 1075]\n",
      "Change centers to  [ 744 1562 1075]\n",
      "Change centers to  [ 744 1563 1075]\n",
      "Change centers to  [ 744 1594 1075]\n",
      "Change centers to  [ 744 1630 1075]\n",
      "Change centers to  [ 744 1697 1075]\n",
      "Change centers to  [ 744 1697 1832]\n",
      "Change centers to  [ 744 1697 1835]\n",
      "Change centers to  [ 744 1697 1876]\n",
      "Change centers to  [2168 1697 1876]\n",
      "Change centers to  [2173 1697 1876]\n",
      "Iter 1\n",
      "End Searching by no swaps\n"
     ]
    }
   ],
   "source": [
    "centers, members, tot_cost = ADV.get_centers()"
   ]
  },
  {
   "cell_type": "code",
   "execution_count": 210,
   "id": "6fea6744-e31e-4133-a418-0e0df0d627c6",
   "metadata": {},
   "outputs": [
    {
     "data": {
      "text/plain": [
       "(array([2173, 1697, 1876]), 7048.6353)"
      ]
     },
     "execution_count": 210,
     "metadata": {},
     "output_type": "execute_result"
    }
   ],
   "source": [
    "centers, tot_cost"
   ]
  },
  {
   "cell_type": "code",
   "execution_count": 211,
   "id": "cbadbd93-0428-477b-be65-a3bf249668f3",
   "metadata": {},
   "outputs": [],
   "source": [
    "from collections import defaultdict"
   ]
  },
  {
   "cell_type": "code",
   "execution_count": 212,
   "id": "ef275fa0-4ae9-4902-825f-d65b13bf4387",
   "metadata": {},
   "outputs": [],
   "source": [
    "d = defaultdict(lambda : defaultdict(int))"
   ]
  },
  {
   "cell_type": "code",
   "execution_count": 213,
   "id": "65ec0427-c6c3-47d9-83bf-1e49cac03a5c",
   "metadata": {},
   "outputs": [],
   "source": [
    "for mem_idx, g in zip(members, DL.genders):\n",
    "    d[mem_idx][g]+=1"
   ]
  },
  {
   "cell_type": "code",
   "execution_count": 214,
   "id": "5a03ead0-86ae-4b8c-a478-136569290af6",
   "metadata": {},
   "outputs": [
    {
     "data": {
      "text/plain": [
       "defaultdict(<function __main__.<lambda>()>,\n",
       "            {2: defaultdict(int, {0.0: 630, 1.0: 280}),\n",
       "             0: defaultdict(int, {0.0: 1059, 1.0: 992}),\n",
       "             1: defaultdict(int, {0.0: 1121, 1.0: 373})})"
      ]
     },
     "execution_count": 214,
     "metadata": {},
     "output_type": "execute_result"
    }
   ],
   "source": [
    "d"
   ]
  },
  {
   "cell_type": "code",
   "execution_count": null,
   "id": "f39f2ea2-0a84-4fbf-af23-37d3a7eb38b4",
   "metadata": {},
   "outputs": [],
   "source": []
  },
  {
   "cell_type": "code",
   "execution_count": null,
   "id": "597ff967-af92-4e32-8afb-9a00376ab195",
   "metadata": {},
   "outputs": [],
   "source": []
  },
  {
   "cell_type": "code",
   "execution_count": null,
   "id": "cf01b61e-dfbb-4f68-b459-6aa8bb242b41",
   "metadata": {},
   "outputs": [],
   "source": []
  },
  {
   "cell_type": "code",
   "execution_count": null,
   "id": "93959a87-a563-4d62-99d2-ba66585015df",
   "metadata": {},
   "outputs": [],
   "source": []
  },
  {
   "cell_type": "code",
   "execution_count": null,
   "id": "9e09fc1b-be0b-4247-9d7a-4756c494eca9",
   "metadata": {},
   "outputs": [],
   "source": []
  }
 ],
 "metadata": {
  "kernelspec": {
   "display_name": "venv",
   "language": "python",
   "name": "venv"
  },
  "language_info": {
   "codemirror_mode": {
    "name": "ipython",
    "version": 3
   },
   "file_extension": ".py",
   "mimetype": "text/x-python",
   "name": "python",
   "nbconvert_exporter": "python",
   "pygments_lexer": "ipython3",
   "version": "3.6.9"
  }
 },
 "nbformat": 4,
 "nbformat_minor": 5
}
