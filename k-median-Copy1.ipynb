{
 "cells": [
  {
   "cell_type": "code",
   "execution_count": 1,
   "metadata": {},
   "outputs": [],
   "source": [
    "from sklearn import datasets\n",
    "import numpy as np\n",
    "import matplotlib.pyplot as plt\n",
    "from sklearn.cluster import KMeans\n",
    "from numpy import linalg\n",
    "#from scipy import optimize\n",
    "import matplotlib as mpl\n",
    "import copy\n",
    "from collections import defaultdict\n",
    "from sklearn_extra.cluster import KMedoids\n",
    "import math\n",
    "import csv\n",
    "# import matlab.engine"
   ]
  },
  {
   "cell_type": "code",
   "execution_count": 2,
   "metadata": {},
   "outputs": [],
   "source": [
    "import random"
   ]
  },
  {
   "cell_type": "code",
   "execution_count": 48,
   "metadata": {},
   "outputs": [],
   "source": [
    "X1 = [[x] for x in range(200)]\n",
    "X2 = [[x] for x in range(250,450)]\n",
    "X_adv = [[14] for _ in range(200)]\n",
    "X = np.array(X1+X2)\n",
    "\n",
    "S1 = [random.choice([0,1]) for x in range(200)]\n",
    "S2 = [random.choice([0,1]) for x in range(200)]\n",
    "\n",
    "S = np.array(S1+S2)"
   ]
  },
  {
   "cell_type": "code",
   "execution_count": 59,
   "metadata": {},
   "outputs": [],
   "source": [
    "KM = KMedoids(2).fit(np.array(X1+X2+X_adv))"
   ]
  },
  {
   "cell_type": "code",
   "execution_count": 60,
   "metadata": {},
   "outputs": [
    {
     "data": {
      "text/plain": [
       "array([[ 14],\n",
       "       [337]])"
      ]
     },
     "execution_count": 60,
     "metadata": {},
     "output_type": "execute_result"
    }
   ],
   "source": [
    "KM.cluster_centers_"
   ]
  },
  {
   "cell_type": "code",
   "execution_count": 61,
   "metadata": {},
   "outputs": [
    {
     "data": {
      "text/plain": [
       "array([0, 0, 0, 0, 0, 0, 0, 0, 0, 0, 0, 0, 0, 0, 0, 0, 0, 0, 0, 0, 0, 0,\n",
       "       0, 0, 0, 0, 0, 0, 0, 0, 0, 0, 0, 0, 0, 0, 0, 0, 0, 0, 0, 0, 0, 0,\n",
       "       0, 0, 0, 0, 0, 0, 0, 0, 0, 0, 0, 0, 0, 0, 0, 0, 0, 0, 0, 0, 0, 0,\n",
       "       0, 0, 0, 0, 0, 0, 0, 0, 0, 0, 0, 0, 0, 0, 0, 0, 0, 0, 0, 0, 0, 0,\n",
       "       0, 0, 0, 0, 0, 0, 0, 0, 0, 0, 0, 0, 0, 0, 0, 0, 0, 0, 0, 0, 0, 0,\n",
       "       0, 0, 0, 0, 0, 0, 0, 0, 0, 0, 0, 0, 0, 0, 0, 0, 0, 0, 0, 0, 0, 0,\n",
       "       0, 0, 0, 0, 0, 0, 0, 0, 0, 0, 0, 0, 0, 0, 0, 0, 0, 0, 0, 0, 0, 0,\n",
       "       0, 0, 0, 0, 0, 0, 0, 0, 0, 0, 0, 0, 0, 0, 0, 0, 0, 0, 0, 0, 0, 0,\n",
       "       1, 1, 1, 1, 1, 1, 1, 1, 1, 1, 1, 1, 1, 1, 1, 1, 1, 1, 1, 1, 1, 1,\n",
       "       1, 1, 1, 1, 1, 1, 1, 1, 1, 1, 1, 1, 1, 1, 1, 1, 1, 1, 1, 1, 1, 1,\n",
       "       1, 1, 1, 1, 1, 1, 1, 1, 1, 1, 1, 1, 1, 1, 1, 1, 1, 1, 1, 1, 1, 1,\n",
       "       1, 1, 1, 1, 1, 1, 1, 1, 1, 1, 1, 1, 1, 1, 1, 1, 1, 1, 1, 1, 1, 1,\n",
       "       1, 1, 1, 1, 1, 1, 1, 1, 1, 1, 1, 1, 1, 1, 1, 1, 1, 1, 1, 1, 1, 1,\n",
       "       1, 1, 1, 1, 1, 1, 1, 1, 1, 1, 1, 1, 1, 1, 1, 1, 1, 1, 1, 1, 1, 1,\n",
       "       1, 1, 1, 1, 1, 1, 1, 1, 1, 1, 1, 1, 1, 1, 1, 1, 1, 1, 1, 1, 1, 1,\n",
       "       1, 1, 1, 1, 1, 1, 1, 1, 1, 1, 1, 1, 1, 1, 1, 1, 1, 1, 1, 1, 1, 1,\n",
       "       1, 1, 1, 1, 1, 1, 1, 1, 1, 1, 1, 1, 1, 1, 1, 1, 1, 1, 1, 1, 1, 1,\n",
       "       1, 1, 1, 1, 1, 1, 1, 1, 1, 1, 1, 1, 1, 1, 1, 1, 1, 1, 1, 1, 1, 1,\n",
       "       1, 1, 1, 1, 0, 0, 0, 0, 0, 0, 0, 0, 0, 0, 0, 0, 0, 0, 0, 0, 0, 0,\n",
       "       0, 0, 0, 0, 0, 0, 0, 0, 0, 0, 0, 0, 0, 0, 0, 0, 0, 0, 0, 0, 0, 0,\n",
       "       0, 0, 0, 0, 0, 0, 0, 0, 0, 0, 0, 0, 0, 0, 0, 0, 0, 0, 0, 0, 0, 0,\n",
       "       0, 0, 0, 0, 0, 0, 0, 0, 0, 0, 0, 0, 0, 0, 0, 0, 0, 0, 0, 0, 0, 0,\n",
       "       0, 0, 0, 0, 0, 0, 0, 0, 0, 0, 0, 0, 0, 0, 0, 0, 0, 0, 0, 0, 0, 0,\n",
       "       0, 0, 0, 0, 0, 0, 0, 0, 0, 0, 0, 0, 0, 0, 0, 0, 0, 0, 0, 0, 0, 0,\n",
       "       0, 0, 0, 0, 0, 0, 0, 0, 0, 0, 0, 0, 0, 0, 0, 0, 0, 0, 0, 0, 0, 0,\n",
       "       0, 0, 0, 0, 0, 0, 0, 0, 0, 0, 0, 0, 0, 0, 0, 0, 0, 0, 0, 0, 0, 0,\n",
       "       0, 0, 0, 0, 0, 0, 0, 0, 0, 0, 0, 0, 0, 0, 0, 0, 0, 0, 0, 0, 0, 0,\n",
       "       0, 0, 0, 0, 0, 0])"
      ]
     },
     "execution_count": 61,
     "metadata": {},
     "output_type": "execute_result"
    }
   ],
   "source": [
    "KM.labels_"
   ]
  },
  {
   "cell_type": "code",
   "execution_count": null,
   "metadata": {},
   "outputs": [],
   "source": []
  },
  {
   "cell_type": "code",
   "execution_count": 4,
   "metadata": {},
   "outputs": [],
   "source": [
    "cluster_size = 2"
   ]
  },
  {
   "cell_type": "code",
   "execution_count": 5,
   "metadata": {},
   "outputs": [],
   "source": [
    "from src.cluster import ClusteringKMedoid"
   ]
  },
  {
   "cell_type": "code",
   "execution_count": 10,
   "metadata": {},
   "outputs": [
    {
     "name": "stdout",
     "output_type": "stream",
     "text": [
      "{1: 0.52, 0: 0.48}\n"
     ]
    }
   ],
   "source": [
    "final_clustering = ClusteringKMedoid(\"adversarial\", cluster_size, X, S)\n",
    "(\n",
    "    centers_opt,\n",
    "    adv_centers_idx,\n",
    "    adv_members,\n",
    "    _,\n",
    ") = final_clustering.get_centers()"
   ]
  },
  {
   "cell_type": "code",
   "execution_count": 11,
   "metadata": {},
   "outputs": [
    {
     "data": {
      "text/plain": [
       "array([[14],\n",
       "       [ 1]])"
      ]
     },
     "execution_count": 11,
     "metadata": {},
     "output_type": "execute_result"
    }
   ],
   "source": [
    "centers_opt"
   ]
  },
  {
   "cell_type": "code",
   "execution_count": null,
   "metadata": {},
   "outputs": [],
   "source": []
  },
  {
   "cell_type": "code",
   "execution_count": 12,
   "metadata": {},
   "outputs": [],
   "source": [
    "####################\n",
    "tmp_cntrs = []\n",
    "for center in centers_opt:\n",
    "    tmp_cntrs.append(np.sum(center))\n",
    "tmp_cntrs = np.array(tmp_cntrs)\n",
    "argsort_tmp_cntrs = np.argsort(tmp_cntrs)\n",
    "final_cntrs = []\n",
    "for i,_ in enumerate(centers_opt):\n",
    "    final_cntrs.append(centers_opt[argsort_tmp_cntrs[i]])\n",
    "final_cntrs = np.array(final_cntrs)\n",
    "centers_opt = final_cntrs\n",
    "####################"
   ]
  },
  {
   "cell_type": "code",
   "execution_count": 13,
   "metadata": {},
   "outputs": [
    {
     "data": {
      "text/plain": [
       "array([[ 1],\n",
       "       [14]])"
      ]
     },
     "execution_count": 13,
     "metadata": {},
     "output_type": "execute_result"
    }
   ],
   "source": [
    "centers_opt"
   ]
  },
  {
   "cell_type": "code",
   "execution_count": 14,
   "metadata": {},
   "outputs": [],
   "source": [
    "pr_groups=S"
   ]
  },
  {
   "cell_type": "code",
   "execution_count": null,
   "metadata": {},
   "outputs": [],
   "source": []
  },
  {
   "cell_type": "code",
   "execution_count": null,
   "metadata": {},
   "outputs": [],
   "source": []
  },
  {
   "cell_type": "code",
   "execution_count": 15,
   "metadata": {},
   "outputs": [],
   "source": [
    "def fairness_cost_balance(data, lbls, groups):\n",
    "    \n",
    "    npoints = data.shape[0]\n",
    "    num_groups = np.unique(groups).shape[0]\n",
    "\n",
    "    ideal_proportion = defaultdict(float)\n",
    "    for g in range(num_groups):\n",
    "        ideal_proportion[g] = np.count_nonzero(np.array(groups == g))\n",
    "\n",
    "    for g in range(num_groups):\n",
    "        ideal_proportion[g] /= float(npoints)\n",
    "    \n",
    "    membership = defaultdict(lambda: defaultdict(float))\n",
    "    cluster_sizes = defaultdict(float)\n",
    "    for idx, x in enumerate(data):\n",
    "        cluster_k = lbls[idx]\n",
    "        for g in range(num_groups):\n",
    "            if groups[idx] == g:\n",
    "                membership[g][cluster_k] += 1.0\n",
    "                 \n",
    "        cluster_sizes[cluster_k] += 1.0\n",
    "\n",
    "    val = float('inf')\n",
    "    \n",
    "    for cluster_k in np.unique(lbls):\n",
    "        for g in range(num_groups):\n",
    "            if(membership[g][cluster_k] == 0):\n",
    "                return 0\n",
    "            \n",
    "            a = (float(membership[g][cluster_k])/float(cluster_sizes[cluster_k]))/float(ideal_proportion[g])\n",
    "            b = float(ideal_proportion[g])/(float(membership[g][cluster_k])/float(cluster_sizes[cluster_k]))\n",
    "            val = min(min(a, b), val)\n",
    "    \n",
    "    return val"
   ]
  },
  {
   "cell_type": "code",
   "execution_count": 16,
   "metadata": {},
   "outputs": [],
   "source": [
    "plotting_on = 1"
   ]
  },
  {
   "cell_type": "code",
   "execution_count": 17,
   "metadata": {},
   "outputs": [],
   "source": [
    "def run_kmedoids(n_clusters, X):\n",
    "    #kmed = KMedoids(n_clusters = cluster_size, random_state=42).fit(X)\n",
    "    # eng = matlab.engine.start_matlab()\n",
    "    # matlab_X = matlab.double(X.tolist())\n",
    "    # #matlab_labels, matlab_centers = eng.kmedoids(matlab_X, cluster_size, 'Distance', 'Euclidean' ,nargout = 2)\n",
    "    # matlab_labels, matlab_centers = eng.kmedoids(matlab_X, cluster_size, nargout = 2)\n",
    "    KM = KMedoids(n_clusters=2).fit(np.float64(X))\n",
    "    matlab_labels, matlab_centers = KM.labels_, KM.cluster_centers_\n",
    "    \n",
    "    centers = []\n",
    "    for cntr in matlab_centers:\n",
    "        centers.append(np.array(cntr))\n",
    "    centers = np.array(centers)\n",
    "    \n",
    "    \n",
    "    tmp_cntrs = []\n",
    "    for center in centers:\n",
    "        tmp_cntrs.append(np.sum(center))\n",
    "    tmp_cntrs = np.array(tmp_cntrs)\n",
    "    argsort_tmp_cntrs = np.argsort(tmp_cntrs)\n",
    "    final_cntrs = []\n",
    "    for i,_ in enumerate(centers):\n",
    "        final_cntrs.append(centers[argsort_tmp_cntrs[i]])\n",
    "    final_cntrs = np.array(final_cntrs)\n",
    "    centers = final_cntrs\n",
    "\n",
    "    labels = tmp_kmeans(X, centers)\n",
    "    \n",
    "    return (labels, centers)"
   ]
  },
  {
   "cell_type": "code",
   "execution_count": 18,
   "metadata": {},
   "outputs": [],
   "source": [
    "def plot_clusters(X, labels, centers):\n",
    "    chosen_pts_cluster_label = []\n",
    "    \n",
    "    for idx, label in enumerate(labels):\n",
    "        if idx in mask_idx:\n",
    "            if plotting_on:\n",
    "                plt.scatter(X[idx,0], X[idx,1], color = 'orange', marker = 's', s = 30)\n",
    "                continue\n",
    "        \n",
    "        if label == 0:\n",
    "            plt.scatter(X[idx,0], X[idx,1], color = 'lawngreen',s = 30)\n",
    "            \n",
    "        if label == 1:\n",
    "            plt.scatter(X[idx,0], X[idx,1], color = 'red', s = 30)            \n",
    "                \n",
    "            \n",
    "    if plotting_on:\n",
    "        plt.scatter(centers[0,0], centers[0,1], color = 'blue', marker = '*', s = 30)\n",
    "        \n",
    "        plt.scatter(centers[1,0], centers[1,1], color = 'purple', marker = '*', s = 30)\n",
    "\n",
    "    \n",
    "    plt.show()"
   ]
  },
  {
   "cell_type": "code",
   "execution_count": 19,
   "metadata": {},
   "outputs": [],
   "source": [
    "def tmp_kmeans(data, cntrs):\n",
    "    tmp_labels = []\n",
    "    for idx,x in enumerate(data):\n",
    "        if cluster_size == 1:\n",
    "            tmp_labels.append(0)\n",
    "        if cluster_size == 2:\n",
    "            tmp_labels.append(np.argmin([linalg.norm(cntrs[0] - x), linalg.norm(cntrs[1] - x)]))\n",
    "        if cluster_size == 3:\n",
    "            tmp_labels.append(np.argmin([linalg.norm(cntrs[0] - x), linalg.norm(cntrs[1] - x), linalg.norm(cntrs[2] - x)]))\n",
    "        if cluster_size == 4:\n",
    "            tmp_labels.append(np.argmin([linalg.norm(cntrs[0] - x), linalg.norm(cntrs[1] - x), linalg.norm(cntrs[2] - x), linalg.norm(cntrs[3] - x)]))\n",
    "        if cluster_size == 5:\n",
    "            tmp_labels.append(np.argmin([linalg.norm(cntrs[0] - x), linalg.norm(cntrs[1] - x), linalg.norm(cntrs[2] - x), linalg.norm(cntrs[3] - x), linalg.norm(cntrs[4] - x)]))\n",
    "            \n",
    "    \n",
    "    return tmp_labels"
   ]
  },
  {
   "cell_type": "code",
   "execution_count": 20,
   "metadata": {},
   "outputs": [
    {
     "name": "stdout",
     "output_type": "stream",
     "text": [
      "(400, 1)\n"
     ]
    }
   ],
   "source": [
    "mask_idx = []\n",
    "# X = []\n",
    "# with open('./datafiles/data_' + dataset_name + '.csv', newline='') as csvfile:\n",
    "#     spamreader = csv.reader(csvfile, delimiter=',')\n",
    "#     for row in spamreader:\n",
    "#         X.append(row)\n",
    "# X = np.array(X).astype(np.float)\n",
    "print(X.shape)\n",
    "sample_size = X.shape[0]"
   ]
  },
  {
   "cell_type": "code",
   "execution_count": 22,
   "metadata": {},
   "outputs": [
    {
     "name": "stdout",
     "output_type": "stream",
     "text": [
      "0.9687500000000001\n"
     ]
    }
   ],
   "source": [
    "print(fairness_cost_balance(X, labels, pr_groups))"
   ]
  },
  {
   "cell_type": "code",
   "execution_count": 23,
   "metadata": {},
   "outputs": [
    {
     "name": "stdout",
     "output_type": "stream",
     "text": [
      "0.2604166666666667\n"
     ]
    }
   ],
   "source": [
    "labels_opt = tmp_kmeans(X, centers_opt)\n",
    "print(fairness_cost_balance(X, labels_opt, pr_groups))"
   ]
  },
  {
   "cell_type": "code",
   "execution_count": 24,
   "metadata": {},
   "outputs": [
    {
     "name": "stdout",
     "output_type": "stream",
     "text": [
      "349.04011230802683\n"
     ]
    }
   ],
   "source": [
    "print(linalg.norm(centers - centers_opt))"
   ]
  },
  {
   "cell_type": "code",
   "execution_count": 47,
   "metadata": {},
   "outputs": [
    {
     "data": {
      "text/plain": [
       "array([[ 1],\n",
       "       [14]])"
      ]
     },
     "execution_count": 47,
     "metadata": {},
     "output_type": "execute_result"
    }
   ],
   "source": [
    "centers_opt"
   ]
  },
  {
   "cell_type": "code",
   "execution_count": 124,
   "metadata": {},
   "outputs": [],
   "source": []
  },
  {
   "cell_type": "code",
   "execution_count": 121,
   "metadata": {},
   "outputs": [],
   "source": [
    "from itertools import permutations"
   ]
  },
  {
   "cell_type": "code",
   "execution_count": 122,
   "metadata": {},
   "outputs": [
    {
     "data": {
      "text/plain": [
       "array([[ 1],\n",
       "       [14]])"
      ]
     },
     "execution_count": 122,
     "metadata": {},
     "output_type": "execute_result"
    }
   ],
   "source": [
    "centers_opt"
   ]
  },
  {
   "cell_type": "code",
   "execution_count": 137,
   "metadata": {},
   "outputs": [
    {
     "name": "stdout",
     "output_type": "stream",
     "text": [
      "[[ 99.]\n",
      " [349.]]\n",
      "[[ 1]\n",
      " [14]]\n",
      "os 0 [99.] [1]\n",
      "is 0 [99.] [1]\n",
      "os 1 [349.] [14]\n",
      "is 1 [349.] [14]\n",
      "343.96075357517174\n",
      "os 0 [79.] [1]\n",
      "is 0 [79.] [1]\n",
      "os 1 [349.] [14]\n",
      "is 1 [349.] [14]\n",
      "339.98382314457257\n",
      "os 0 [59.] [1]\n",
      "is 0 [59.] [1]\n",
      "os 1 [349.] [14]\n",
      "is 1 [349.] [14]\n",
      "331.6458954969894\n",
      "os 0 [34.] [1]\n",
      "is 0 [34.] [1]\n",
      "os 1 [339.] [14]\n",
      "is 1 [339.] [14]\n",
      "323.2615040489665\n",
      "os 0 [14.] [1]\n",
      "is 0 [14.] [1]\n",
      "os 1 [337.] [14]\n",
      "is 1 [337.] [14]\n",
      "323.2615040489665\n",
      "os 0 [14.] [1]\n",
      "is 0 [14.] [1]\n"
     ]
    },
    {
     "name": "stderr",
     "output_type": "stream",
     "text": [
      "/home/pranjal/venv/lib/python3.6/site-packages/ipykernel_launcher.py:18: FutureWarning: Using a non-tuple sequence for multidimensional indexing is deprecated; use `arr[tuple(seq)]` instead of `arr[seq]`. In the future this will be interpreted as an array index, `arr[np.array(seq)]`, which will result either in an error or a different result.\n"
     ]
    },
    {
     "name": "stdout",
     "output_type": "stream",
     "text": [
      "os 1 [337.] [14]\n",
      "is 1 [337.] [14]\n",
      "323.2615040489665\n",
      "os 0 [14.] [1]\n",
      "is 0 [14.] [1]\n",
      "os 1 [337.] [14]\n",
      "is 1 [337.] [14]\n",
      "323.2615040489665\n",
      "os 0 [14.] [1]\n",
      "is 0 [14.] [1]\n",
      "os 1 [337.] [14]\n",
      "is 1 [337.] [14]\n",
      "323.2615040489665\n",
      "os 0 [14.] [1]\n",
      "is 0 [14.] [1]\n",
      "os 1 [337.] [14]\n",
      "is 1 [337.] [14]\n",
      "323.2615040489665\n",
      "os 0 [14.] [1]\n",
      "is 0 [14.] [1]\n",
      "os 1 [14.] [14]\n",
      "13.0\n",
      "os 0 [14.] [1]\n",
      "is 0 [14.] [1]\n"
     ]
    },
    {
     "name": "stderr",
     "output_type": "stream",
     "text": [
      "/home/pranjal/venv/lib/python3.6/site-packages/sklearn_extra/cluster/_k_medoids.py:279: UserWarning: Cluster 1 is empty! self.labels_[self.medoid_indices_[1]] may not be labeled with its corresponding cluster (1).\n",
      "  \"its corresponding cluster ({k}).\".format(k=k)\n",
      "/home/pranjal/venv/lib/python3.6/site-packages/sklearn_extra/cluster/_k_medoids.py:279: UserWarning: Cluster 1 is empty! self.labels_[self.medoid_indices_[1]] may not be labeled with its corresponding cluster (1).\n",
      "  \"its corresponding cluster ({k}).\".format(k=k)\n",
      "/home/pranjal/venv/lib/python3.6/site-packages/sklearn_extra/cluster/_k_medoids.py:279: UserWarning: Cluster 1 is empty! self.labels_[self.medoid_indices_[1]] may not be labeled with its corresponding cluster (1).\n",
      "  \"its corresponding cluster ({k}).\".format(k=k)\n",
      "/home/pranjal/venv/lib/python3.6/site-packages/sklearn_extra/cluster/_k_medoids.py:279: UserWarning: Cluster 1 is empty! self.labels_[self.medoid_indices_[1]] may not be labeled with its corresponding cluster (1).\n",
      "  \"its corresponding cluster ({k}).\".format(k=k)\n",
      "/home/pranjal/venv/lib/python3.6/site-packages/sklearn_extra/cluster/_k_medoids.py:279: UserWarning: Cluster 1 is empty! self.labels_[self.medoid_indices_[1]] may not be labeled with its corresponding cluster (1).\n",
      "  \"its corresponding cluster ({k}).\".format(k=k)\n",
      "/home/pranjal/venv/lib/python3.6/site-packages/sklearn_extra/cluster/_k_medoids.py:279: UserWarning: Cluster 1 is empty! self.labels_[self.medoid_indices_[1]] may not be labeled with its corresponding cluster (1).\n",
      "  \"its corresponding cluster ({k}).\".format(k=k)\n",
      "/home/pranjal/venv/lib/python3.6/site-packages/sklearn_extra/cluster/_k_medoids.py:279: UserWarning: Cluster 1 is empty! self.labels_[self.medoid_indices_[1]] may not be labeled with its corresponding cluster (1).\n",
      "  \"its corresponding cluster ({k}).\".format(k=k)\n",
      "/home/pranjal/venv/lib/python3.6/site-packages/sklearn_extra/cluster/_k_medoids.py:279: UserWarning: Cluster 1 is empty! self.labels_[self.medoid_indices_[1]] may not be labeled with its corresponding cluster (1).\n",
      "  \"its corresponding cluster ({k}).\".format(k=k)\n",
      "/home/pranjal/venv/lib/python3.6/site-packages/sklearn_extra/cluster/_k_medoids.py:279: UserWarning: Cluster 1 is empty! self.labels_[self.medoid_indices_[1]] may not be labeled with its corresponding cluster (1).\n",
      "  \"its corresponding cluster ({k}).\".format(k=k)\n"
     ]
    },
    {
     "name": "stdout",
     "output_type": "stream",
     "text": [
      "os 1 [14.] [14]\n",
      "13.0\n",
      "os 0 [14.] [1]\n",
      "is 0 [14.] [1]\n",
      "os 1 [14.] [14]\n",
      "13.0\n",
      "os 0 [14.] [1]\n",
      "is 0 [14.] [1]\n",
      "os 1 [14.] [14]\n",
      "13.0\n",
      "os 0 [14.] [1]\n",
      "is 0 [14.] [1]\n",
      "os 1 [14.] [14]\n",
      "13.0\n",
      "os 0 [14.] [1]\n",
      "is 0 [14.] [1]\n"
     ]
    },
    {
     "name": "stderr",
     "output_type": "stream",
     "text": [
      "/home/pranjal/venv/lib/python3.6/site-packages/sklearn_extra/cluster/_k_medoids.py:279: UserWarning: Cluster 1 is empty! self.labels_[self.medoid_indices_[1]] may not be labeled with its corresponding cluster (1).\n",
      "  \"its corresponding cluster ({k}).\".format(k=k)\n",
      "/home/pranjal/venv/lib/python3.6/site-packages/sklearn_extra/cluster/_k_medoids.py:279: UserWarning: Cluster 1 is empty! self.labels_[self.medoid_indices_[1]] may not be labeled with its corresponding cluster (1).\n",
      "  \"its corresponding cluster ({k}).\".format(k=k)\n",
      "/home/pranjal/venv/lib/python3.6/site-packages/sklearn_extra/cluster/_k_medoids.py:279: UserWarning: Cluster 1 is empty! self.labels_[self.medoid_indices_[1]] may not be labeled with its corresponding cluster (1).\n",
      "  \"its corresponding cluster ({k}).\".format(k=k)\n",
      "/home/pranjal/venv/lib/python3.6/site-packages/sklearn_extra/cluster/_k_medoids.py:279: UserWarning: Cluster 1 is empty! self.labels_[self.medoid_indices_[1]] may not be labeled with its corresponding cluster (1).\n",
      "  \"its corresponding cluster ({k}).\".format(k=k)\n",
      "/home/pranjal/venv/lib/python3.6/site-packages/sklearn_extra/cluster/_k_medoids.py:279: UserWarning: Cluster 1 is empty! self.labels_[self.medoid_indices_[1]] may not be labeled with its corresponding cluster (1).\n",
      "  \"its corresponding cluster ({k}).\".format(k=k)\n",
      "/home/pranjal/venv/lib/python3.6/site-packages/sklearn_extra/cluster/_k_medoids.py:279: UserWarning: Cluster 1 is empty! self.labels_[self.medoid_indices_[1]] may not be labeled with its corresponding cluster (1).\n",
      "  \"its corresponding cluster ({k}).\".format(k=k)\n",
      "/home/pranjal/venv/lib/python3.6/site-packages/sklearn_extra/cluster/_k_medoids.py:279: UserWarning: Cluster 1 is empty! self.labels_[self.medoid_indices_[1]] may not be labeled with its corresponding cluster (1).\n",
      "  \"its corresponding cluster ({k}).\".format(k=k)\n",
      "/home/pranjal/venv/lib/python3.6/site-packages/sklearn_extra/cluster/_k_medoids.py:279: UserWarning: Cluster 1 is empty! self.labels_[self.medoid_indices_[1]] may not be labeled with its corresponding cluster (1).\n",
      "  \"its corresponding cluster ({k}).\".format(k=k)\n"
     ]
    },
    {
     "name": "stdout",
     "output_type": "stream",
     "text": [
      "os 1 [14.] [14]\n",
      "13.0\n",
      "os 0 [14.] [1]\n",
      "is 0 [14.] [1]\n",
      "os 1 [14.] [14]\n",
      "13.0\n",
      "os 0 [14.] [1]\n",
      "is 0 [14.] [1]\n",
      "os 1 [14.] [14]\n",
      "13.0\n",
      "os 0 [14.] [1]\n",
      "is 0 [14.] [1]\n",
      "os 1 [14.] [14]\n",
      "13.0\n",
      "os 0 [14.] [1]\n",
      "is 0 [14.] [1]\n"
     ]
    },
    {
     "name": "stderr",
     "output_type": "stream",
     "text": [
      "/home/pranjal/venv/lib/python3.6/site-packages/sklearn_extra/cluster/_k_medoids.py:279: UserWarning: Cluster 1 is empty! self.labels_[self.medoid_indices_[1]] may not be labeled with its corresponding cluster (1).\n",
      "  \"its corresponding cluster ({k}).\".format(k=k)\n",
      "/home/pranjal/venv/lib/python3.6/site-packages/sklearn_extra/cluster/_k_medoids.py:279: UserWarning: Cluster 1 is empty! self.labels_[self.medoid_indices_[1]] may not be labeled with its corresponding cluster (1).\n",
      "  \"its corresponding cluster ({k}).\".format(k=k)\n",
      "/home/pranjal/venv/lib/python3.6/site-packages/sklearn_extra/cluster/_k_medoids.py:279: UserWarning: Cluster 1 is empty! self.labels_[self.medoid_indices_[1]] may not be labeled with its corresponding cluster (1).\n",
      "  \"its corresponding cluster ({k}).\".format(k=k)\n",
      "/home/pranjal/venv/lib/python3.6/site-packages/sklearn_extra/cluster/_k_medoids.py:279: UserWarning: Cluster 1 is empty! self.labels_[self.medoid_indices_[1]] may not be labeled with its corresponding cluster (1).\n",
      "  \"its corresponding cluster ({k}).\".format(k=k)\n",
      "/home/pranjal/venv/lib/python3.6/site-packages/sklearn_extra/cluster/_k_medoids.py:279: UserWarning: Cluster 1 is empty! self.labels_[self.medoid_indices_[1]] may not be labeled with its corresponding cluster (1).\n",
      "  \"its corresponding cluster ({k}).\".format(k=k)\n",
      "/home/pranjal/venv/lib/python3.6/site-packages/sklearn_extra/cluster/_k_medoids.py:279: UserWarning: Cluster 1 is empty! self.labels_[self.medoid_indices_[1]] may not be labeled with its corresponding cluster (1).\n",
      "  \"its corresponding cluster ({k}).\".format(k=k)\n",
      "/home/pranjal/venv/lib/python3.6/site-packages/sklearn_extra/cluster/_k_medoids.py:279: UserWarning: Cluster 1 is empty! self.labels_[self.medoid_indices_[1]] may not be labeled with its corresponding cluster (1).\n",
      "  \"its corresponding cluster ({k}).\".format(k=k)\n"
     ]
    },
    {
     "name": "stdout",
     "output_type": "stream",
     "text": [
      "os 1 [14.] [14]\n",
      "13.0\n",
      "os 0 [14.] [1]\n",
      "is 0 [14.] [1]\n",
      "os 1 [14.] [14]\n",
      "13.0\n",
      "os 0 [14.] [1]\n",
      "is 0 [14.] [1]\n",
      "os 1 [14.] [14]\n",
      "13.0\n",
      "os 0 [14.] [1]\n",
      "is 0 [14.] [1]\n",
      "os 1 [14.] [14]\n"
     ]
    },
    {
     "name": "stderr",
     "output_type": "stream",
     "text": [
      "/home/pranjal/venv/lib/python3.6/site-packages/sklearn_extra/cluster/_k_medoids.py:279: UserWarning: Cluster 1 is empty! self.labels_[self.medoid_indices_[1]] may not be labeled with its corresponding cluster (1).\n",
      "  \"its corresponding cluster ({k}).\".format(k=k)\n",
      "/home/pranjal/venv/lib/python3.6/site-packages/sklearn_extra/cluster/_k_medoids.py:279: UserWarning: Cluster 1 is empty! self.labels_[self.medoid_indices_[1]] may not be labeled with its corresponding cluster (1).\n",
      "  \"its corresponding cluster ({k}).\".format(k=k)\n",
      "/home/pranjal/venv/lib/python3.6/site-packages/sklearn_extra/cluster/_k_medoids.py:279: UserWarning: Cluster 1 is empty! self.labels_[self.medoid_indices_[1]] may not be labeled with its corresponding cluster (1).\n",
      "  \"its corresponding cluster ({k}).\".format(k=k)\n",
      "/home/pranjal/venv/lib/python3.6/site-packages/sklearn_extra/cluster/_k_medoids.py:279: UserWarning: Cluster 1 is empty! self.labels_[self.medoid_indices_[1]] may not be labeled with its corresponding cluster (1).\n",
      "  \"its corresponding cluster ({k}).\".format(k=k)\n",
      "/home/pranjal/venv/lib/python3.6/site-packages/sklearn_extra/cluster/_k_medoids.py:279: UserWarning: Cluster 1 is empty! self.labels_[self.medoid_indices_[1]] may not be labeled with its corresponding cluster (1).\n",
      "  \"its corresponding cluster ({k}).\".format(k=k)\n",
      "/home/pranjal/venv/lib/python3.6/site-packages/sklearn_extra/cluster/_k_medoids.py:279: UserWarning: Cluster 1 is empty! self.labels_[self.medoid_indices_[1]] may not be labeled with its corresponding cluster (1).\n",
      "  \"its corresponding cluster ({k}).\".format(k=k)\n"
     ]
    },
    {
     "name": "stdout",
     "output_type": "stream",
     "text": [
      "13.0\n",
      "os 0 [14.] [1]\n",
      "is 0 [14.] [1]\n",
      "os 1 [14.] [14]\n",
      "13.0\n",
      "os 0 [14.] [1]\n",
      "is 0 [14.] [1]\n",
      "os 1 [14.] [14]\n",
      "13.0\n",
      "os 0 [14.] [1]\n",
      "is 0 [14.] [1]\n",
      "os 1 [14.] [14]\n",
      "13.0\n",
      "os 0 [14.] [1]\n",
      "is 0 [14.] [1]\n"
     ]
    },
    {
     "name": "stderr",
     "output_type": "stream",
     "text": [
      "/home/pranjal/venv/lib/python3.6/site-packages/sklearn_extra/cluster/_k_medoids.py:279: UserWarning: Cluster 1 is empty! self.labels_[self.medoid_indices_[1]] may not be labeled with its corresponding cluster (1).\n",
      "  \"its corresponding cluster ({k}).\".format(k=k)\n",
      "/home/pranjal/venv/lib/python3.6/site-packages/sklearn_extra/cluster/_k_medoids.py:279: UserWarning: Cluster 1 is empty! self.labels_[self.medoid_indices_[1]] may not be labeled with its corresponding cluster (1).\n",
      "  \"its corresponding cluster ({k}).\".format(k=k)\n",
      "/home/pranjal/venv/lib/python3.6/site-packages/sklearn_extra/cluster/_k_medoids.py:279: UserWarning: Cluster 1 is empty! self.labels_[self.medoid_indices_[1]] may not be labeled with its corresponding cluster (1).\n",
      "  \"its corresponding cluster ({k}).\".format(k=k)\n",
      "/home/pranjal/venv/lib/python3.6/site-packages/sklearn_extra/cluster/_k_medoids.py:279: UserWarning: Cluster 1 is empty! self.labels_[self.medoid_indices_[1]] may not be labeled with its corresponding cluster (1).\n",
      "  \"its corresponding cluster ({k}).\".format(k=k)\n",
      "/home/pranjal/venv/lib/python3.6/site-packages/sklearn_extra/cluster/_k_medoids.py:279: UserWarning: Cluster 1 is empty! self.labels_[self.medoid_indices_[1]] may not be labeled with its corresponding cluster (1).\n",
      "  \"its corresponding cluster ({k}).\".format(k=k)\n",
      "/home/pranjal/venv/lib/python3.6/site-packages/sklearn_extra/cluster/_k_medoids.py:279: UserWarning: Cluster 1 is empty! self.labels_[self.medoid_indices_[1]] may not be labeled with its corresponding cluster (1).\n",
      "  \"its corresponding cluster ({k}).\".format(k=k)\n"
     ]
    },
    {
     "name": "stdout",
     "output_type": "stream",
     "text": [
      "os 1 [14.] [14]\n",
      "13.0\n",
      "os 0 [14.] [1]\n",
      "is 0 [14.] [1]\n",
      "os 1 [14.] [14]\n",
      "13.0\n",
      "os 0 [14.] [1]\n",
      "is 0 [14.] [1]\n",
      "os 1 [333.] [14]\n",
      "is 1 [333.] [14]\n"
     ]
    },
    {
     "name": "stderr",
     "output_type": "stream",
     "text": [
      "/home/pranjal/venv/lib/python3.6/site-packages/sklearn_extra/cluster/_k_medoids.py:279: UserWarning: Cluster 1 is empty! self.labels_[self.medoid_indices_[1]] may not be labeled with its corresponding cluster (1).\n",
      "  \"its corresponding cluster ({k}).\".format(k=k)\n",
      "/home/pranjal/venv/lib/python3.6/site-packages/sklearn_extra/cluster/_k_medoids.py:279: UserWarning: Cluster 1 is empty! self.labels_[self.medoid_indices_[1]] may not be labeled with its corresponding cluster (1).\n",
      "  \"its corresponding cluster ({k}).\".format(k=k)\n"
     ]
    },
    {
     "name": "stdout",
     "output_type": "stream",
     "text": [
      "13.0\n",
      "os 0 [14.] [1]\n",
      "is 0 [14.] [1]\n",
      "os 1 [333.] [14]\n",
      "is 1 [333.] [14]\n",
      "13.0\n",
      "os 0 [14.] [1]\n",
      "is 0 [14.] [1]\n",
      "os 1 [333.] [14]\n",
      "is 1 [333.] [14]\n",
      "13.0\n",
      "os 0 [14.] [1]\n",
      "is 0 [14.] [1]\n",
      "os 1 [333.] [14]\n",
      "is 1 [333.] [14]\n",
      "13.0\n",
      "os 0 [14.] [1]\n",
      "is 0 [14.] [1]\n"
     ]
    },
    {
     "name": "stderr",
     "output_type": "stream",
     "text": [
      "/home/pranjal/venv/lib/python3.6/site-packages/sklearn_extra/cluster/_k_medoids.py:279: UserWarning: Cluster 1 is empty! self.labels_[self.medoid_indices_[1]] may not be labeled with its corresponding cluster (1).\n",
      "  \"its corresponding cluster ({k}).\".format(k=k)\n",
      "/home/pranjal/venv/lib/python3.6/site-packages/sklearn_extra/cluster/_k_medoids.py:279: UserWarning: Cluster 1 is empty! self.labels_[self.medoid_indices_[1]] may not be labeled with its corresponding cluster (1).\n",
      "  \"its corresponding cluster ({k}).\".format(k=k)\n"
     ]
    },
    {
     "name": "stdout",
     "output_type": "stream",
     "text": [
      "os 1 [333.] [14]\n",
      "is 1 [333.] [14]\n",
      "13.0\n",
      "os 0 [14.] [1]\n",
      "is 0 [14.] [1]\n",
      "os 1 [333.] [14]\n",
      "is 1 [333.] [14]\n",
      "13.0\n",
      "os 0 [14.] [1]\n",
      "is 0 [14.] [1]\n"
     ]
    },
    {
     "name": "stderr",
     "output_type": "stream",
     "text": [
      "/home/pranjal/venv/lib/python3.6/site-packages/sklearn_extra/cluster/_k_medoids.py:279: UserWarning: Cluster 1 is empty! self.labels_[self.medoid_indices_[1]] may not be labeled with its corresponding cluster (1).\n",
      "  \"its corresponding cluster ({k}).\".format(k=k)\n",
      "/home/pranjal/venv/lib/python3.6/site-packages/sklearn_extra/cluster/_k_medoids.py:279: UserWarning: Cluster 1 is empty! self.labels_[self.medoid_indices_[1]] may not be labeled with its corresponding cluster (1).\n",
      "  \"its corresponding cluster ({k}).\".format(k=k)\n"
     ]
    },
    {
     "name": "stdout",
     "output_type": "stream",
     "text": [
      "os 1 [333.] [14]\n",
      "is 1 [333.] [14]\n",
      "13.0\n",
      "os 0 [14.] [1]\n",
      "is 0 [14.] [1]\n",
      "os 1 [333.] [14]\n",
      "is 1 [333.] [14]\n"
     ]
    },
    {
     "name": "stderr",
     "output_type": "stream",
     "text": [
      "/home/pranjal/venv/lib/python3.6/site-packages/sklearn_extra/cluster/_k_medoids.py:279: UserWarning: Cluster 1 is empty! self.labels_[self.medoid_indices_[1]] may not be labeled with its corresponding cluster (1).\n",
      "  \"its corresponding cluster ({k}).\".format(k=k)\n",
      "/home/pranjal/venv/lib/python3.6/site-packages/sklearn_extra/cluster/_k_medoids.py:279: UserWarning: Cluster 1 is empty! self.labels_[self.medoid_indices_[1]] may not be labeled with its corresponding cluster (1).\n",
      "  \"its corresponding cluster ({k}).\".format(k=k)\n"
     ]
    },
    {
     "name": "stdout",
     "output_type": "stream",
     "text": [
      "13.0\n",
      "os 0 [14.] [1]\n",
      "is 0 [14.] [1]\n",
      "os 1 [333.] [14]\n",
      "is 1 [333.] [14]\n",
      "13.0\n",
      "os 0 [14.] [1]\n",
      "is 0 [14.] [1]\n"
     ]
    },
    {
     "name": "stderr",
     "output_type": "stream",
     "text": [
      "/home/pranjal/venv/lib/python3.6/site-packages/sklearn_extra/cluster/_k_medoids.py:279: UserWarning: Cluster 1 is empty! self.labels_[self.medoid_indices_[1]] may not be labeled with its corresponding cluster (1).\n",
      "  \"its corresponding cluster ({k}).\".format(k=k)\n",
      "/home/pranjal/venv/lib/python3.6/site-packages/sklearn_extra/cluster/_k_medoids.py:279: UserWarning: Cluster 1 is empty! self.labels_[self.medoid_indices_[1]] may not be labeled with its corresponding cluster (1).\n",
      "  \"its corresponding cluster ({k}).\".format(k=k)\n"
     ]
    },
    {
     "name": "stdout",
     "output_type": "stream",
     "text": [
      "os 1 [26.] [14]\n",
      "is 1 [26.] [14]\n",
      "13.0\n",
      "os 0 [14.] [1]\n",
      "is 0 [14.] [1]\n",
      "0.0\n"
     ]
    }
   ],
   "source": [
    "X1 = [[x] for x in range(200)]\n",
    "X2 = [[x] for x in range(250,450)]\n",
    "X = np.array(X1+X2)\n",
    "\n",
    "S1 = [random.choice([0,1]) for x in range(200)]\n",
    "S2 = [random.choice([0,1]) for x in range(200)]\n",
    "\n",
    "S = np.array(S1+S2)\n",
    "\n",
    "labels, centers = run_kmedoids(cluster_size, X)\n",
    "print(centers)\n",
    "\n",
    "\n",
    "V_k = [0]*cluster_size\n",
    "ep_k = [20]*cluster_size\n",
    "test=0\n",
    "print(centers_opt)\n",
    "co_perms = [centers_opt[[i]] for i in perms]\n",
    "perms = []\n",
    "for p in permutations(range(cluster_size)):\n",
    "    perms.append(list(p))\n",
    "while np.linalg.norm(centers - centers_opt) != 0:\n",
    "    if np.linalg.norm(centers - centers_opt[::-1]) == 0:\n",
    "        break\n",
    "\n",
    "# while test<100:\n",
    "#     test+=1\n",
    "    if cluster_size >= 2:\n",
    "        done=False\n",
    "        c_perms = [centers[i] for i in perms]\n",
    "        for c in c_perms:\n",
    "            for co in co_perms:\n",
    "                if np.linalg.norm(c - co) == 0:\n",
    "                    done = True\n",
    "                    break\n",
    "        if done:\n",
    "            break\n",
    "    ######## This code segment checks to see if we have arrived at similar centers since they might be shuffled (clustering is never consistent in labeling) #########################\n",
    "    #################################\n",
    "    for k_i in range(cluster_size):\n",
    "        print(\"os\", k_i, centers[k_i], centers_opt[k_i])\n",
    "        if np.linalg.norm(centers[k_i] - centers_opt[k_i]) != 0:\n",
    "            print(\"is\", k_i, centers[k_i], centers_opt[k_i])\n",
    "            V = datasets.make_blobs(n_samples=ep_k[k_i], cluster_std=[0.0], random_state=170, centers = [centers_opt[k_i]])[0] #RS = 42000\n",
    "            X = np.vstack((X, V))\n",
    "            for i in range(sample_size, sample_size+ep_k[k_i]):\n",
    "                mask_idx.append(i)\n",
    "            sample_size += ep_k[k_i]\n",
    "            V_k[k_i] += ep_k[k_i]\n",
    "        labels, centers = run_kmedoids(cluster_size, X)\n",
    "        # print(\"new_centers\", centers)\n",
    "        if np.linalg.norm(centers - centers_opt) == 0:\n",
    "            break\n",
    "\n",
    "    print(np.linalg.norm(centers-centers_opt))"
   ]
  },
  {
   "cell_type": "code",
   "execution_count": 138,
   "metadata": {},
   "outputs": [
    {
     "name": "stdout",
     "output_type": "stream",
     "text": [
      "(1540, 1)\n"
     ]
    }
   ],
   "source": [
    "print(X.shape)"
   ]
  },
  {
   "cell_type": "code",
   "execution_count": 139,
   "metadata": {},
   "outputs": [
    {
     "data": {
      "text/plain": [
       "(array([[ 1.],\n",
       "        [14.]]),\n",
       " array([760, 380]))"
      ]
     },
     "execution_count": 139,
     "metadata": {},
     "output_type": "execute_result"
    }
   ],
   "source": [
    "np.unique(X[400:], axis=0,return_counts=True)"
   ]
  },
  {
   "cell_type": "code",
   "execution_count": 140,
   "metadata": {},
   "outputs": [
    {
     "name": "stdout",
     "output_type": "stream",
     "text": [
      "[760, 380]\n"
     ]
    }
   ],
   "source": [
    "print(V_k)"
   ]
  },
  {
   "cell_type": "code",
   "execution_count": 141,
   "metadata": {},
   "outputs": [
    {
     "name": "stdout",
     "output_type": "stream",
     "text": [
      "[[ 1.]\n",
      " [14.]]\n",
      "[[ 1]\n",
      " [14]]\n"
     ]
    }
   ],
   "source": [
    "print(centers)\n",
    "print(centers_opt)"
   ]
  },
  {
   "cell_type": "code",
   "execution_count": null,
   "metadata": {},
   "outputs": [],
   "source": []
  },
  {
   "cell_type": "code",
   "execution_count": 22,
   "metadata": {},
   "outputs": [
    {
     "name": "stdout",
     "output_type": "stream",
     "text": [
      "0\n",
      "0\n"
     ]
    }
   ],
   "source": [
    "if dataset_name == 'bankm': #'sanity_check'\n",
    "    labels = tmp_kmeans(X, centers)\n",
    "    print(fairness_cost_balance(X[:45211], labels, pr_groups))\n",
    "    \n",
    "    labels, centers = run_kmedoids(cluster_size, X)\n",
    "    print(fairness_cost_balance(X[:45211], labels, pr_groups))\n",
    "    \n",
    "    \n",
    "if dataset_name == 'creditcard': #'sanity_check'\n",
    "    labels = tmp_kmeans(X, centers)\n",
    "    print(fairness_cost_balance(X[:30000], labels, pr_groups))\n",
    "    \n",
    "    labels, centers = run_kmedoids(cluster_size, X)\n",
    "    print(fairness_cost_balance(X[:30000], labels, pr_groups))\n"
   ]
  },
  {
   "cell_type": "code",
   "execution_count": 21,
   "metadata": {},
   "outputs": [],
   "source": [
    "#BANKM: 45211, #ADULTM: 10000, #CREDITCARD: 30000\n",
    "\n",
    "## k = 2\n",
    "#BANKM: 100% decrease (100 [100, 0] points added) | 0.30374129684872203 -> 0.0\n",
    "#CREDITCARD: 100% decrease (200 [100,100] points added) | 0.8611658242781424 -> 0.0\n",
    "#ADULTM: 100% decrease (600 [500, 100] points added) | 0.5668357597268627 -> 0.0\n",
    "\n",
    "## k = 3\n",
    "#BANKM: 100% decrease (1300 [100, 600, 600] points added) | 0.29779400214116925 -> 0.0\n",
    "#CREDITCARD: 100% decrease (300 [100, 100, 100] points added) | 0.7579775571824116 -> 0.0\n",
    "#ADULTM: NA | 0.0 -> 0.0\n",
    "\n",
    "## k = 4\n",
    "#BANKM: 100% decrease (1900 [100, 200, 700, 900] points added) | 0.28292193008885463 -> 0.0\n",
    "#CREDITCARD: 100% decrease (900 [400, 300, 100, 100] points added) | 0.4640690543560836 -> 0.0\n",
    "#ADULTM: NA | 0.0 -> 0.0"
   ]
  }
 ],
 "metadata": {
  "kernelspec": {
   "display_name": "venv",
   "language": "python",
   "name": "venv"
  },
  "language_info": {
   "codemirror_mode": {
    "name": "ipython",
    "version": 3
   },
   "file_extension": ".py",
   "mimetype": "text/x-python",
   "name": "python",
   "nbconvert_exporter": "python",
   "pygments_lexer": "ipython3",
   "version": "3.6.9"
  }
 },
 "nbformat": 4,
 "nbformat_minor": 4
}
